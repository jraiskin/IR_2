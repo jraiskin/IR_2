{
 "cells": [
  {
   "cell_type": "markdown",
   "metadata": {},
   "source": [
    "## Import modules"
   ]
  },
  {
   "cell_type": "code",
   "execution_count": 1,
   "metadata": {
    "collapsed": false
   },
   "outputs": [
    {
     "data": {
      "text/plain": []
     },
     "metadata": {},
     "output_type": "display_data"
    }
   ],
   "source": [
    "classpath.addPath(\"tinyir-1.1.jar\")"
   ]
  },
  {
   "cell_type": "code",
   "execution_count": 2,
   "metadata": {
    "collapsed": false,
    "scrolled": false
   },
   "outputs": [
    {
     "data": {
      "text/plain": [
       "\u001b[32mimport \u001b[36mscala.xml.XML\u001b[0m\n",
       "\u001b[32mimport \u001b[36mch.ethz.dal.tinyir._\u001b[0m\n",
       "\u001b[32mimport \u001b[36mcom.github.aztek.porterstemmer.PorterStemmer\u001b[0m"
      ]
     },
     "metadata": {},
     "output_type": "display_data"
    }
   ],
   "source": [
    "import scala.xml.XML\n",
    "import ch.ethz.dal.tinyir._\n",
    "import com.github.aztek.porterstemmer.PorterStemmer"
   ]
  },
  {
   "cell_type": "code",
   "execution_count": 3,
   "metadata": {
    "collapsed": false
   },
   "outputs": [
    {
     "data": {
      "text/plain": [
       "\u001b[32mimport \u001b[36mjava.io._\u001b[0m"
      ]
     },
     "metadata": {},
     "output_type": "display_data"
    }
   ],
   "source": [
    "// import scala.io.Source  // for importing txt files\n",
    "import java.io._  // for saving txt files\n",
    "// import scala.collection.mutable.HashMap  //HashMap used for counting elements in linear time"
   ]
  },
  {
   "cell_type": "code",
   "execution_count": 4,
   "metadata": {
    "collapsed": false
   },
   "outputs": [
    {
     "data": {
      "text/plain": [
       "\u001b[32mimport \u001b[36mscala.collection.mutable.{Map => MutMap}\u001b[0m\n",
       "\u001b[32mimport \u001b[36mscala.collection.mutable.ListBuffer\u001b[0m"
      ]
     },
     "metadata": {},
     "output_type": "display_data"
    }
   ],
   "source": [
    "// import scala.util.Random\n",
    "import scala.collection.mutable.{Map => MutMap}\n",
    "// enables \"mutable lists\"\n",
    "import scala.collection.mutable.ListBuffer  "
   ]
  },
  {
   "cell_type": "markdown",
   "metadata": {},
   "source": [
    "## Define classes and functions"
   ]
  },
  {
   "cell_type": "code",
   "execution_count": 5,
   "metadata": {
    "collapsed": false
   },
   "outputs": [
    {
     "data": {
      "text/plain": [
       "defined \u001b[32mfunction \u001b[36mtoken_filter\u001b[0m"
      ]
     },
     "metadata": {},
     "output_type": "display_data"
    }
   ],
   "source": [
    "def token_filter(text_body: String) = {\n",
    "    processing.StopWords.filterOutSW(\n",
    "        processing.Tokenizer.tokenize(text_body.\n",
    "                                      replaceAll(\"\\\\P{L}+\", \" \"))\n",
    "    ).\n",
    "    map(x => PorterStemmer.stem(x)).filter(_.trim.nonEmpty).toList\n",
    "}"
   ]
  },
  {
   "cell_type": "code",
   "execution_count": 6,
   "metadata": {
    "collapsed": false
   },
   "outputs": [
    {
     "data": {
      "text/plain": [
       "defined \u001b[32mclass \u001b[36mYMParse\u001b[0m"
      ]
     },
     "metadata": {},
     "output_type": "display_data"
    }
   ],
   "source": [
    "// Create YMParse for customized tokenization\n",
    "\n",
    "class YMParse(is: InputStream) extends processing.TipsterParse(is) { \n",
    "    override def tokens: List[String] = token_filter(content)\n",
    "    def hname: Int = name.hashCode()\n",
    "    def htokens: List[Int] = token_filter(content).map(t => t.hashCode())\n",
    "  //override def ID: String = name - need to fix the ID.\n",
    "}"
   ]
  },
  {
   "cell_type": "code",
   "execution_count": 7,
   "metadata": {
    "collapsed": false
   },
   "outputs": [
    {
     "data": {
      "text/plain": [
       "\u001b[32mimport \u001b[36mch.ethz.dal.tinyir.processing.TipsterParse\u001b[0m\n",
       "\u001b[32mimport \u001b[36mch.ethz.dal.tinyir.processing.Tokenizer\u001b[0m\n",
       "\u001b[32mimport \u001b[36mch.ethz.dal.tinyir.processing.XMLDocument\u001b[0m\n",
       "defined \u001b[32mclass \u001b[36mYMStream\u001b[0m"
      ]
     },
     "metadata": {},
     "output_type": "display_data"
    }
   ],
   "source": [
    "import ch.ethz.dal.tinyir.processing.TipsterParse\n",
    "import ch.ethz.dal.tinyir.processing.Tokenizer\n",
    "import ch.ethz.dal.tinyir.processing.XMLDocument\n",
    "\n",
    "// Create YMStream for customized stream using YMParse\n",
    "class YMStream (path: String, ext: String = \"\") extends io.ParsedXMLStream(new io.ZipDirStream(path, \"\")){\n",
    "  def stream : Stream[YMParse] = unparsed.stream.map(is => new YMParse(is))\n",
    "  def length = unparsed.length \n",
    "}\n",
    "\n"
   ]
  },
  {
   "cell_type": "code",
   "execution_count": 9,
   "metadata": {
    "collapsed": false
   },
   "outputs": [
    {
     "data": {
      "text/plain": [
       "\u001b[36mcollection\u001b[0m: \u001b[32mStream\u001b[0m[\u001b[32mYMParse\u001b[0m] = \u001b[33mStream\u001b[0m(\n",
       "  cmd5$$user$YMParse@34530c36,\n",
       "  cmd5$$user$YMParse@2398123c,\n",
       "  cmd5$$user$YMParse@64cae4d8,\n",
       "  cmd5$$user$YMParse@3e78ec13,\n",
       "  cmd5$$user$YMParse@3de035b6,\n",
       "  cmd5$$user$YMParse@1955077a,\n",
       "  cmd5$$user$YMParse@45e2eeba,\n",
       "  cmd5$$user$YMParse@5c2e5c04,\n",
       "  cmd5$$user$YMParse@29e1cde3,\n",
       "  cmd5$$user$YMParse@6f0443a1,\n",
       "  cmd5$$user$YMParse@4b0d621a,\n",
       "  cmd5$$user$YMParse@4eb6856a,\n",
       "  cmd5$$user$YMParse@7be0e7dd,\n",
       "  cmd5$$user$YMParse@1f8c82aa,\n",
       "  cmd5$$user$YMParse@f7a8b7a,\n",
       "  cmd5$$user$YMParse@5b20df9d,\n",
       "  cmd5$$user$YMParse@debc803,\n",
       "  cmd5$$user$YMParse@7793579d,\n",
       "  cmd5$$user$YMParse@3f4c0e28,\n",
       "\u001b[33m...\u001b[0m\n",
       "\u001b[36mcollection2\u001b[0m: \u001b[32mStream\u001b[0m[\u001b[32mXMLDocument\u001b[0m] = \u001b[33mStream\u001b[0m(\n",
       "  ch.ethz.dal.tinyir.processing.TipsterParse@4ccdac19,\n",
       "  ch.ethz.dal.tinyir.processing.TipsterParse@6bdbbabe,\n",
       "  ch.ethz.dal.tinyir.processing.TipsterParse@3bc0b731,\n",
       "  ch.ethz.dal.tinyir.processing.TipsterParse@17ad9b0e,\n",
       "  ch.ethz.dal.tinyir.processing.TipsterParse@40bdad4b,\n",
       "  ch.ethz.dal.tinyir.processing.TipsterParse@4ff4a3ec,\n",
       "  ch.ethz.dal.tinyir.processing.TipsterParse@4ee70cc4,\n",
       "  ch.ethz.dal.tinyir.processing.TipsterParse@62e422ae,\n",
       "  ch.ethz.dal.tinyir.processing.TipsterParse@6f0b0516,\n",
       "  ch.ethz.dal.tinyir.processing.TipsterParse@6da379b3,\n",
       "  ch.ethz.dal.tinyir.processing.TipsterParse@4cccae77,\n",
       "  ch.ethz.dal.tinyir.processing.TipsterParse@5f7c1053,\n",
       "  ch.ethz.dal.tinyir.processing.TipsterParse@284a5807,\n",
       "  ch.ethz.dal.tinyir.processing.TipsterParse@5e759708,\n",
       "  ch.ethz.dal.tinyir.processing.TipsterParse@7ea30700,\n",
       "  ch.ethz.dal.tinyir.processing.TipsterParse@1805fc58,\n",
       "  ch.ethz.dal.tinyir.processing.TipsterParse@bc804b0,\n",
       "  ch.ethz.dal.tinyir.processing.TipsterParse@525a4c21,\n",
       "  ch.ethz.dal.tinyir.processing.TipsterParse@5b935b9d,\n",
       "\u001b[33m...\u001b[0m"
      ]
     },
     "metadata": {},
     "output_type": "display_data"
    }
   ],
   "source": [
    "val collection = new YMStream(\"resources\").stream\n",
    "val collection2 = new io.TipsterStream(\"resources\").stream"
   ]
  },
  {
   "cell_type": "code",
   "execution_count": null,
   "metadata": {
    "collapsed": false
   },
   "outputs": [],
   "source": [
    "import ch.ethz.dal.tinyir.processing._\n",
    "def fwStream (docs: Stream[YMParse]) :\n",
    "   Stream[(Int,List[Int])]\n",
    "   = docs.map(d => (d.hname, d.htokens))"
   ]
  },
  {
   "cell_type": "code",
   "execution_count": null,
   "metadata": {
    "collapsed": false
   },
   "outputs": [],
   "source": [
    "def fwIndex (docs: Stream[YMParse]) :\n",
    "   Map[Int,List[Int]] = fwStream(docs).toMap"
   ]
  },
  {
   "cell_type": "code",
   "execution_count": 8,
   "metadata": {
    "collapsed": false
   },
   "outputs": [
    {
     "data": {
      "text/plain": [
       "defined \u001b[32mfunction \u001b[36mpostings\u001b[0m\n",
       "\u001b[36minvIndex\u001b[0m: \u001b[32mcollection\u001b[0m.\u001b[32mmutable\u001b[0m.\u001b[32mMap\u001b[0m[\u001b[32mInt\u001b[0m, \u001b[32mList\u001b[0m[\u001b[32mInt\u001b[0m]] = \u001b[33mMap\u001b[0m()"
      ]
     },
     "metadata": {},
     "output_type": "display_data"
    }
   ],
   "source": [
    "// hashed version\n",
    "def postings (s: Stream[YMParse]): Stream[(Int,Int)] =\n",
    "  s.flatMap( d => d.htokens.map(token => (token,d.hname)) )\n",
    "var invIndex = scala.collection.mutable.Map[Int, List[Int]]()"
   ]
  },
  {
   "cell_type": "code",
   "execution_count": null,
   "metadata": {
    "collapsed": false
   },
   "outputs": [],
   "source": [
    "// unhashed verison\n",
    "def postings (s: Stream[YMParse]): Stream[(String,String)] =\n",
    "  s.flatMap( d => d.tokens.map(token => (token,d.name)) )\n",
    "var invIndex = scala.collection.mutable.Map[String, List[String]]()"
   ]
  },
  {
   "cell_type": "code",
   "execution_count": null,
   "metadata": {
    "collapsed": true
   },
   "outputs": [],
   "source": [
    "val posting1 = postings(collection.take(100)).groupBy(_._1).mapValues(_.map(p => p._2).distinct.sorted)"
   ]
  },
  {
   "cell_type": "code",
   "execution_count": null,
   "metadata": {
    "collapsed": true
   },
   "outputs": [],
   "source": [
    "// create twenty sets from original collection (or another number)\n",
    "// create posting for each of these sets\n",
    "// then call inverted index dictionary. for each token, call get or else = empty list"
   ]
  },
  {
   "cell_type": "code",
   "execution_count": null,
   "metadata": {
    "collapsed": false
   },
   "outputs": [],
   "source": []
  },
  {
   "cell_type": "code",
   "execution_count": null,
   "metadata": {
    "collapsed": false
   },
   "outputs": [
    {
     "name": "stdout",
     "output_type": "stream",
     "text": [
      "500010000"
     ]
    }
   ],
   "source": [
    "for( a <- (5000 to 100000 by 5000))\n",
    "{\n",
    "    var imd_posting = postings(collection.slice(a-5000,a)).groupBy(_._1).mapValues(_.map(p => p._2).distinct.sorted)\n",
    "    for (key <- imd_posting.keys){\n",
    "        invIndex(key) = invIndex.getOrElse(key,List()).++(imd_posting(key))\n",
    "    }\n",
    "    print(a)\n",
    "    //invIndex = (invIndex.toSeq ++ imd_posting.toSeq)\n",
    "    //.groupBy{case(token,id) => token}\n",
    "    //.mapValues(item => item.flatMap{case(token,id) => id}.toList)\n",
    "}"
   ]
  },
  {
   "cell_type": "code",
   "execution_count": null,
   "metadata": {
    "collapsed": false
   },
   "outputs": [],
   "source": [
    "for( a <- (5000 to 100000 by 5000))\n",
    "{\n",
    "    var imd_posting = postings(collection.slice(a-5000,a)).groupBy(_._1).mapValues(_.map(p => p._2).distinct.sorted)\n",
    "    for (key <- imd_posting.keys){\n",
    "        invIndex(key) = invIndex.getOrElse(key,List()).++(imd_posting(key))\n",
    "    }\n",
    "    print(a)\n",
    "    //invIndex = (invIndex.toSeq ++ imd_posting.toSeq)\n",
    "    //.groupBy{case(token,id) => token}\n",
    "    //.mapValues(item => item.flatMap{case(token,id) => id}.toList)\n",
    "}"
   ]
  },
  {
   "cell_type": "code",
   "execution_count": null,
   "metadata": {
    "collapsed": false
   },
   "outputs": [],
   "source": [
    "invIndex.values.flatten.toList."
   ]
  },
  {
   "cell_type": "code",
   "execution_count": null,
   "metadata": {
    "collapsed": false
   },
   "outputs": [],
   "source": [
    "postings(collection.take(1000)).groupBy(_._1).mapValues(_.map(p => p._2).distinct.sorted)"
   ]
  },
  {
   "cell_type": "code",
   "execution_count": null,
   "metadata": {
    "collapsed": false
   },
   "outputs": [],
   "source": [
    "val mergedMap2 = (imd_posting1.toSeq ++ imd_posting2.toSeq)\n",
    "  .groupBy{case(token,id) => token}\n",
    "  .mapValues(item => item.flatMap{ case(token,id) => id}.toList)"
   ]
  },
  {
   "cell_type": "code",
   "execution_count": null,
   "metadata": {
    "collapsed": false
   },
   "outputs": [],
   "source": [
    "mergedMap3"
   ]
  },
  {
   "cell_type": "code",
   "execution_count": null,
   "metadata": {
    "collapsed": false
   },
   "outputs": [],
   "source": [
    "mergedMap2"
   ]
  },
  {
   "cell_type": "code",
   "execution_count": null,
   "metadata": {
    "collapsed": true
   },
   "outputs": [],
   "source": [
    "// Frequency Index\n",
    "\n",
    "case class TfTuple(term: String, doc: String, count: Int)\n",
    "def tfTuples (docs: Stream[Document]) : Stream[TfTuple] =\n",
    "    docs.flatMap( d => d.tokens.groupBy(identity)\n",
    "    .map{ case (tk,lst) => TfTuple(tk, d.name, lst.length) }\n",
    "val fqIndex : Map[String,List[(String,Int)]] =\n",
    "  tfTuples(stream).groupBy(_.term)\n",
    "  .mapValues(_.map(tfT => (tfT.doc, tfT.count)).sorted)"
   ]
  },
  {
   "cell_type": "code",
   "execution_count": null,
   "metadata": {
    "collapsed": false
   },
   "outputs": [],
   "source": [
    "\"b\".getBytes"
   ]
  },
  {
   "cell_type": "code",
   "execution_count": null,
   "metadata": {
    "collapsed": false
   },
   "outputs": [],
   "source": [
    "var test = \"a\" :: \"b\" :: \"c\""
   ]
  },
  {
   "cell_type": "code",
   "execution_count": null,
   "metadata": {
    "collapsed": false
   },
   "outputs": [],
   "source": [
    "classpath.add(\"org.scalaz %% scalaz-core % 7.0.6\")"
   ]
  },
  {
   "cell_type": "code",
   "execution_count": null,
   "metadata": {
    "collapsed": false
   },
   "outputs": [],
   "source": [
    "classpath.add(\"org.scalaz\" %% \"scalaz-core\" % \"7.0.6\")\n",
    "\n"
   ]
  },
  {
   "cell_type": "code",
   "execution_count": null,
   "metadata": {
    "collapsed": false
   },
   "outputs": [],
   "source": [
    "import scala.collection.immutable.IntMap "
   ]
  },
  {
   "cell_type": "code",
   "execution_count": null,
   "metadata": {
    "collapsed": false
   },
   "outputs": [],
   "source": [
    "import scalaz.Scalaz._\n",
    "//each map contains count of people names\n",
    " val names = Map(\"Sidney\" -> 1, \"Paul\" -> 1, \"Jacob\" -> 7)\n",
    " val moreNames = Map(\"Sidney\" -> 1, \"Paul\" -> 5, \"Nick\" -> 2)\n",
    " //Money time!\n",
    " val mergedMap4 = names.map(p => p._1 -> List(p._2)) |+| moreNames.map(p => p._1 -> List(p._2))"
   ]
  },
  {
   "cell_type": "code",
   "execution_count": null,
   "metadata": {
    "collapsed": false
   },
   "outputs": [],
   "source": [
    " //each map contains count of people names\n",
    " val names = Map(\"Sidney\" -> 1, \"Paul\" -> 1, \"Jacob\" -> 7)\n",
    " val moreNames = Map(\"Sidney\" -> 1, \"Paul\" -> 5, \"Nick\" -> 2)"
   ]
  },
  {
   "cell_type": "code",
   "execution_count": null,
   "metadata": {
    "collapsed": false
   },
   "outputs": [],
   "source": [
    "val mergedMap2 = (names.toSeq ++ moreNames.toSeq)\n",
    "  .groupBy{case(name,amount) => name}\n",
    "  .mapValues(person => person.map{ case(name,amount) => amount}.toList)"
   ]
  },
  {
   "cell_type": "code",
   "execution_count": null,
   "metadata": {
    "collapsed": false
   },
   "outputs": [],
   "source": [
    "val pos_i = new indexing.PosIndex(collection.take(100))"
   ]
  },
  {
   "cell_type": "code",
   "execution_count": null,
   "metadata": {
    "collapsed": false
   },
   "outputs": [],
   "source": [
    "val simple_i = new indexing.SimpleIndex(collection2.take(50000))"
   ]
  },
  {
   "cell_type": "code",
   "execution_count": null,
   "metadata": {
    "collapsed": false
   },
   "outputs": [],
   "source": [
    "collection2(10).ID"
   ]
  },
  {
   "cell_type": "code",
   "execution_count": null,
   "metadata": {
    "collapsed": false
   },
   "outputs": [],
   "source": [
    "simple_i.index"
   ]
  },
  {
   "cell_type": "code",
   "execution_count": null,
   "metadata": {
    "collapsed": true
   },
   "outputs": [],
   "source": [
    "val mb = 1024*1024\n",
    "val runtime = Runtime.getRuntime\n",
    "println(s\"Used Memory:  \" + (runtime.totalMemory - runtime.freeMemory) / mb)\n",
    "println(s\"Free Memory:  \" + runtime.freeMemory / mb)\n",
    "println(s\"Total Memory: \" + runtime.totalMemory / mb)\n",
    "println(s\"Max Memory:   \" + runtime.maxMemory / mb)"
   ]
  }
 ],
 "metadata": {
  "anaconda-cloud": {},
  "kernelspec": {
   "display_name": "Scala 2.11",
   "language": "scala211",
   "name": "scala211"
  },
  "language_info": {
   "codemirror_mode": "text/x-scala",
   "file_extension": ".scala",
   "mimetype": "text/x-scala",
   "name": "scala211",
   "pygments_lexer": "scala",
   "version": "2.11.8"
  }
 },
 "nbformat": 4,
 "nbformat_minor": 1
}
