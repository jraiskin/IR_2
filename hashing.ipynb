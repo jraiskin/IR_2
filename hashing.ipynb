{
 "cells": [
  {
   "cell_type": "markdown",
   "metadata": {},
   "source": [
    "## Import modules"
   ]
  },
  {
   "cell_type": "code",
   "execution_count": 1,
   "metadata": {
    "collapsed": false
   },
   "outputs": [
    {
     "data": {
      "text/plain": []
     },
     "metadata": {},
     "output_type": "display_data"
    }
   ],
   "source": [
    "classpath.addPath(\"tinyir-1.1.jar\")"
   ]
  },
  {
   "cell_type": "code",
   "execution_count": 2,
   "metadata": {
    "collapsed": false,
    "scrolled": false
   },
   "outputs": [
    {
     "data": {
      "text/plain": [
       "\u001b[32mimport \u001b[36mscala.xml.XML\u001b[0m\n",
       "\u001b[32mimport \u001b[36mch.ethz.dal.tinyir._\u001b[0m\n",
       "\u001b[32mimport \u001b[36mcom.github.aztek.porterstemmer.PorterStemmer\u001b[0m"
      ]
     },
     "metadata": {},
     "output_type": "display_data"
    }
   ],
   "source": [
    "import scala.xml.XML\n",
    "import ch.ethz.dal.tinyir._\n",
    "import com.github.aztek.porterstemmer.PorterStemmer"
   ]
  },
  {
   "cell_type": "code",
   "execution_count": 3,
   "metadata": {
    "collapsed": false
   },
   "outputs": [
    {
     "data": {
      "text/plain": [
       "\u001b[32mimport \u001b[36mjava.io._\u001b[0m"
      ]
     },
     "metadata": {},
     "output_type": "display_data"
    }
   ],
   "source": [
    "// import scala.io.Source  // for importing txt files\n",
    "import java.io._  // for saving txt files\n",
    "// import scala.collection.mutable.HashMap  //HashMap used for counting elements in linear time"
   ]
  },
  {
   "cell_type": "code",
   "execution_count": 4,
   "metadata": {
    "collapsed": false
   },
   "outputs": [
    {
     "data": {
      "text/plain": [
       "\u001b[32mimport \u001b[36mscala.collection.mutable.{Map => MutMap}\u001b[0m\n",
       "\u001b[32mimport \u001b[36mscala.collection.mutable.ListBuffer\u001b[0m"
      ]
     },
     "metadata": {},
     "output_type": "display_data"
    }
   ],
   "source": [
    "// import scala.util.Random\n",
    "import scala.collection.mutable.{Map => MutMap}\n",
    "// enables \"mutable lists\"\n",
    "import scala.collection.mutable.ListBuffer  "
   ]
  },
  {
   "cell_type": "markdown",
   "metadata": {},
   "source": [
    "## Define classes and functions"
   ]
  },
  {
   "cell_type": "code",
   "execution_count": 5,
   "metadata": {
    "collapsed": false
   },
   "outputs": [
    {
     "data": {
      "text/plain": [
       "defined \u001b[32mfunction \u001b[36mtoken_filter\u001b[0m"
      ]
     },
     "metadata": {},
     "output_type": "display_data"
    }
   ],
   "source": [
    "def token_filter(text_body: String) = {\n",
    "    processing.StopWords.filterOutSW(\n",
    "        processing.Tokenizer.tokenize(text_body.\n",
    "                                      replaceAll(\"\\\\P{L}+\", \" \"))\n",
    "    ).\n",
    "    map(x => PorterStemmer.stem(x)).filter(_.trim.nonEmpty).toList\n",
    "}"
   ]
  },
  {
   "cell_type": "code",
   "execution_count": 15,
   "metadata": {
    "collapsed": false
   },
   "outputs": [
    {
     "data": {
      "text/plain": [
       "defined \u001b[32mclass \u001b[36mYMParse\u001b[0m"
      ]
     },
     "metadata": {},
     "output_type": "display_data"
    }
   ],
   "source": [
    "// Create YMParse for customized tokenization\n",
    "\n",
    "class YMParse(is: InputStream) extends processing.TipsterParse(is) { \n",
    "    override def tokens: List[String] = token_filter(content)\n",
    "    def hname: Int = name.hashCode()\n",
    "    def htokens: List[Int] = token_filter(content).map(t => t.hashCode())\n",
    "  //override def ID: String = name - need to fix the ID.\n",
    "}"
   ]
  },
  {
   "cell_type": "code",
   "execution_count": 16,
   "metadata": {
    "collapsed": false
   },
   "outputs": [
    {
     "data": {
      "text/plain": [
       "\u001b[32mimport \u001b[36mch.ethz.dal.tinyir.processing.TipsterParse\u001b[0m\n",
       "\u001b[32mimport \u001b[36mch.ethz.dal.tinyir.processing.Tokenizer\u001b[0m\n",
       "\u001b[32mimport \u001b[36mch.ethz.dal.tinyir.processing.XMLDocument\u001b[0m\n",
       "defined \u001b[32mclass \u001b[36mYMStream\u001b[0m"
      ]
     },
     "metadata": {},
     "output_type": "display_data"
    }
   ],
   "source": [
    "import ch.ethz.dal.tinyir.processing.TipsterParse\n",
    "import ch.ethz.dal.tinyir.processing.Tokenizer\n",
    "import ch.ethz.dal.tinyir.processing.XMLDocument\n",
    "\n",
    "// Create YMStream for customized stream using YMParse\n",
    "class YMStream (path: String, ext: String = \"\") extends io.ParsedXMLStream(new io.ZipDirStream(path, \"\")){\n",
    "  def stream : Stream[YMParse] = unparsed.stream.map(is => new YMParse(is))\n",
    "  def length = unparsed.length \n",
    "}\n",
    "\n"
   ]
  },
  {
   "cell_type": "code",
   "execution_count": 17,
   "metadata": {
    "collapsed": true
   },
   "outputs": [
    {
     "data": {
      "text/plain": [
       "\u001b[36mcollection\u001b[0m: \u001b[32mStream\u001b[0m[\u001b[32mYMParse\u001b[0m] = \u001b[33mStream\u001b[0m(\n",
       "  cmd14$$user$YMParse@19d6dbea,\n",
       "  cmd14$$user$YMParse@4199c280,\n",
       "  cmd14$$user$YMParse@6fa1e781,\n",
       "  cmd14$$user$YMParse@41a8f641,\n",
       "  cmd14$$user$YMParse@58a9dbf7,\n",
       "  cmd14$$user$YMParse@1b9fd9f9,\n",
       "  cmd14$$user$YMParse@47999f00,\n",
       "  cmd14$$user$YMParse@57e8d3f1,\n",
       "  cmd14$$user$YMParse@ec73470,\n",
       "  cmd14$$user$YMParse@1fb5a518,\n",
       "  cmd14$$user$YMParse@7dd6c3cf,\n",
       "  cmd14$$user$YMParse@2b4bacab,\n",
       "  cmd14$$user$YMParse@1cbfa1fe,\n",
       "  cmd14$$user$YMParse@15cc211d,\n",
       "  cmd14$$user$YMParse@d0bcd5f,\n",
       "  cmd14$$user$YMParse@17a12e9d,\n",
       "  cmd14$$user$YMParse@62e786ef,\n",
       "  cmd14$$user$YMParse@76ea2dd3,\n",
       "  cmd14$$user$YMParse@16b179ea,\n",
       "\u001b[33m...\u001b[0m\n",
       "\u001b[36mcollection2\u001b[0m: \u001b[32mStream\u001b[0m[\u001b[32mXMLDocument\u001b[0m] = \u001b[33mStream\u001b[0m(\n",
       "  ch.ethz.dal.tinyir.processing.TipsterParse@6d324779,\n",
       "  ch.ethz.dal.tinyir.processing.TipsterParse@3ebfb480,\n",
       "  ch.ethz.dal.tinyir.processing.TipsterParse@5d504670,\n",
       "  ch.ethz.dal.tinyir.processing.TipsterParse@61ee3bfc,\n",
       "  ch.ethz.dal.tinyir.processing.TipsterParse@508285a0,\n",
       "  ch.ethz.dal.tinyir.processing.TipsterParse@29d959d6,\n",
       "  ch.ethz.dal.tinyir.processing.TipsterParse@1c3227c0,\n",
       "  ch.ethz.dal.tinyir.processing.TipsterParse@29041e5,\n",
       "  ch.ethz.dal.tinyir.processing.TipsterParse@20ac6c70,\n",
       "  ch.ethz.dal.tinyir.processing.TipsterParse@9f238a6,\n",
       "  ch.ethz.dal.tinyir.processing.TipsterParse@77696a6a,\n",
       "  ch.ethz.dal.tinyir.processing.TipsterParse@179d7410,\n",
       "  ch.ethz.dal.tinyir.processing.TipsterParse@35df1e64,\n",
       "  ch.ethz.dal.tinyir.processing.TipsterParse@45b0628,\n",
       "  ch.ethz.dal.tinyir.processing.TipsterParse@4b2d3fcb,\n",
       "  ch.ethz.dal.tinyir.processing.TipsterParse@68f436da,\n",
       "  ch.ethz.dal.tinyir.processing.TipsterParse@75a07f3d,\n",
       "  ch.ethz.dal.tinyir.processing.TipsterParse@6504b1f2,\n",
       "  ch.ethz.dal.tinyir.processing.TipsterParse@3425e0b0,\n",
       "\u001b[33m...\u001b[0m"
      ]
     },
     "metadata": {},
     "output_type": "display_data"
    }
   ],
   "source": [
    "val collection = new YMStream(\"resources\").stream\n",
    "val collection2 = new io.TipsterStream(\"resources\").stream"
   ]
  },
  {
   "cell_type": "code",
   "execution_count": 27,
   "metadata": {
    "collapsed": false
   },
   "outputs": [
    {
     "data": {
      "text/plain": [
       "\u001b[36mres26\u001b[0m: \u001b[32mInt\u001b[0m = \u001b[32m287\u001b[0m"
      ]
     },
     "metadata": {},
     "output_type": "display_data"
    }
   ],
   "source": [
    "collection(84493).htokens.size"
   ]
  },
  {
   "cell_type": "code",
   "execution_count": 26,
   "metadata": {
    "collapsed": false
   },
   "outputs": [
    {
     "data": {
      "text/plain": [
       "\u001b[36mres25\u001b[0m: \u001b[32mInt\u001b[0m = \u001b[32m287\u001b[0m"
      ]
     },
     "metadata": {},
     "output_type": "display_data"
    }
   ],
   "source": [
    "collection(84493).tokens.size"
   ]
  },
  {
   "cell_type": "code",
   "execution_count": 33,
   "metadata": {
    "collapsed": false
   },
   "outputs": [
    {
     "data": {
      "text/plain": [
       "\u001b[32mimport \u001b[36mch.ethz.dal.tinyir.processing._\u001b[0m\n",
       "defined \u001b[32mfunction \u001b[36mfwStream\u001b[0m"
      ]
     },
     "metadata": {},
     "output_type": "display_data"
    }
   ],
   "source": [
    "import ch.ethz.dal.tinyir.processing._\n",
    "def fwStream (docs: Stream[YMParse]) :\n",
    "   Stream[(Int,List[Int])]\n",
    "   = docs.map(d => (d.hname, d.htokens))"
   ]
  },
  {
   "cell_type": "code",
   "execution_count": 34,
   "metadata": {
    "collapsed": true
   },
   "outputs": [
    {
     "data": {
      "text/plain": [
       "\u001b[36mres33\u001b[0m: \u001b[32mStream\u001b[0m[(\u001b[32mInt\u001b[0m, \u001b[32mList\u001b[0m[\u001b[32mInt\u001b[0m])] = \u001b[33mStream\u001b[0m(\n",
       "  \u001b[33m\u001b[0m(\n",
       "    \u001b[32m-2143258984\u001b[0m,\n",
       "    \u001b[33mList\u001b[0m(\n",
       "      \u001b[32m94851467\u001b[0m,\n",
       "      \u001b[32m3512060\u001b[0m,\n",
       "      \u001b[32m-1266285233\u001b[0m,\n",
       "      \u001b[32m1490282602\u001b[0m,\n",
       "      \u001b[32m103185\u001b[0m,\n",
       "      \u001b[32m109548807\u001b[0m,\n",
       "      \u001b[32m3045820\u001b[0m,\n",
       "      \u001b[32m-1234877242\u001b[0m,\n",
       "      \u001b[32m-342511989\u001b[0m,\n",
       "      \u001b[32m2998801\u001b[0m,\n",
       "      \u001b[32m92905987\u001b[0m,\n",
       "      \u001b[32m2998801\u001b[0m,\n",
       "      \u001b[32m108511772\u001b[0m,\n",
       "      \u001b[32m-1655966997\u001b[0m,\n",
       "      \u001b[32m351160793\u001b[0m,\n",
       "      \u001b[32m98619021\u001b[0m,\n",
       "\u001b[33m...\u001b[0m"
      ]
     },
     "metadata": {},
     "output_type": "display_data"
    }
   ],
   "source": [
    "fwStream(collection)"
   ]
  },
  {
   "cell_type": "code",
   "execution_count": 35,
   "metadata": {
    "collapsed": false
   },
   "outputs": [
    {
     "data": {
      "text/plain": [
       "defined \u001b[32mfunction \u001b[36mfwIndex\u001b[0m"
      ]
     },
     "metadata": {},
     "output_type": "display_data"
    }
   ],
   "source": [
    "def fwIndex (docs: Stream[YMParse]) :\n",
    "   Map[Int,List[Int]] = fwStream(docs).toMap"
   ]
  },
  {
   "cell_type": "code",
   "execution_count": null,
   "metadata": {
    "collapsed": false
   },
   "outputs": [],
   "source": [
    "fwIndex(collection.take(50000))"
   ]
  },
  {
   "cell_type": "code",
   "execution_count": null,
   "metadata": {
    "collapsed": false
   },
   "outputs": [],
   "source": [
    "def postings (s: Stream[YMParse]): Stream[(Int,Int)] =\n",
    "  s.flatMap( d => d.htokens.map(token => (token,d.hname)) )"
   ]
  },
  {
   "cell_type": "code",
   "execution_count": null,
   "metadata": {
    "collapsed": true
   },
   "outputs": [],
   "source": []
  },
  {
   "cell_type": "code",
   "execution_count": null,
   "metadata": {
    "collapsed": false
   },
   "outputs": [],
   "source": [
    "postings(collection).groupBy(_._1).mapValues(_.map(p => p._2).distinct.sorted)"
   ]
  },
  {
   "cell_type": "code",
   "execution_count": null,
   "metadata": {
    "collapsed": true
   },
   "outputs": [],
   "source": [
    "// Frequency Index\n",
    "\n",
    "case class TfTuple(term: String, doc: String, count: Int)\n",
    "def tfTuples (docs: Stream[Document]) : Stream[TfTuple] =\n",
    "    docs.flatMap( d => d.tokens.groupBy(identity)\n",
    "    .map{ case (tk,lst) => TfTuple(tk, d.name, lst.length) }\n",
    "val fqIndex : Map[String,List[(String,Int)]] =\n",
    "  tfTuples(stream).groupBy(_.term)\n",
    "  .mapValues(_.map(tfT => (tfT.doc, tfT.count)).sorted)"
   ]
  },
  {
   "cell_type": "code",
   "execution_count": 32,
   "metadata": {
    "collapsed": false
   },
   "outputs": [
    {
     "data": {
      "text/plain": [
       "\u001b[36mres31\u001b[0m: \u001b[32mArray\u001b[0m[\u001b[32mByte\u001b[0m] = \u001b[33mArray\u001b[0m(\u001b[32m98\u001b[0m)"
      ]
     },
     "metadata": {},
     "output_type": "display_data"
    }
   ],
   "source": [
    "\"b\".getBytes"
   ]
  },
  {
   "cell_type": "code",
   "execution_count": null,
   "metadata": {
    "collapsed": false
   },
   "outputs": [],
   "source": [
    "var test = \"a\" :: \"b\" :: \"c\""
   ]
  },
  {
   "cell_type": "code",
   "execution_count": null,
   "metadata": {
    "collapsed": true
   },
   "outputs": [],
   "source": []
  },
  {
   "cell_type": "code",
   "execution_count": null,
   "metadata": {
    "collapsed": true
   },
   "outputs": [],
   "source": []
  },
  {
   "cell_type": "code",
   "execution_count": null,
   "metadata": {
    "collapsed": true
   },
   "outputs": [],
   "source": []
  },
  {
   "cell_type": "code",
   "execution_count": null,
   "metadata": {
    "collapsed": true
   },
   "outputs": [],
   "source": []
  },
  {
   "cell_type": "code",
   "execution_count": null,
   "metadata": {
    "collapsed": false
   },
   "outputs": [],
   "source": [
    "val pos_i = new indexing.PosIndex(collection.take(100))"
   ]
  },
  {
   "cell_type": "code",
   "execution_count": null,
   "metadata": {
    "collapsed": false
   },
   "outputs": [],
   "source": [
    "val simple_i = new indexing.SimpleIndex(collection2.take(50000))"
   ]
  },
  {
   "cell_type": "code",
   "execution_count": null,
   "metadata": {
    "collapsed": false
   },
   "outputs": [],
   "source": [
    "collection2(10).ID"
   ]
  },
  {
   "cell_type": "code",
   "execution_count": null,
   "metadata": {
    "collapsed": false
   },
   "outputs": [],
   "source": [
    "simple_i.index"
   ]
  },
  {
   "cell_type": "code",
   "execution_count": null,
   "metadata": {
    "collapsed": true
   },
   "outputs": [],
   "source": [
    "val mb = 1024*1024\n",
    "val runtime = Runtime.getRuntime\n",
    "println(s\"Used Memory:  \" + (runtime.totalMemory - runtime.freeMemory) / mb)\n",
    "println(s\"Free Memory:  \" + runtime.freeMemory / mb)\n",
    "println(s\"Total Memory: \" + runtime.totalMemory / mb)\n",
    "println(s\"Max Memory:   \" + runtime.maxMemory / mb)"
   ]
  }
 ],
 "metadata": {
  "anaconda-cloud": {},
  "kernelspec": {
   "display_name": "Scala 2.11",
   "language": "scala211",
   "name": "scala211"
  },
  "language_info": {
   "codemirror_mode": "text/x-scala",
   "file_extension": ".scala",
   "mimetype": "text/x-scala",
   "name": "scala211",
   "pygments_lexer": "scala",
   "version": "2.11.8"
  }
 },
 "nbformat": 4,
 "nbformat_minor": 1
}
