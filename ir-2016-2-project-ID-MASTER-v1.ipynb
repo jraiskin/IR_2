{
 "cells": [
  {
   "cell_type": "markdown",
   "metadata": {},
   "source": [
    "## Import modules"
   ]
  },
  {
   "cell_type": "markdown",
   "metadata": {},
   "source": [
    "Set your user name as a case, pointing to your path to documents and tinyir.jar"
   ]
  },
  {
   "cell_type": "code",
   "execution_count": 1,
   "metadata": {
    "collapsed": false
   },
   "outputs": [
    {
     "data": {
      "text/plain": [
       "\u001b[36mdoc_dir\u001b[0m: \u001b[32mString\u001b[0m = \u001b[32m\"../documents\"\u001b[0m\n",
       "\u001b[36mtiny_path\u001b[0m: \u001b[32mString\u001b[0m = \u001b[32m\"../tinyir-1.1.jar\"\u001b[0m"
      ]
     },
     "metadata": {},
     "output_type": "display_data"
    }
   ],
   "source": [
    "// set your a case once\n",
    "val (doc_dir: String, tiny_path: String) = System.getProperties().get(\"user.name\").toString match {\n",
    "    case \"Yarden-\"  => (\"../documents\", \"../tinyir-1.1.jar\")\n",
    "    case \"Max\"  => (\"../MAXPATH\", \"../MAXPATH/tinyir-1.1.jar\")\n",
    "}"
   ]
  },
  {
   "cell_type": "code",
   "execution_count": 2,
   "metadata": {
    "collapsed": false
   },
   "outputs": [
    {
     "data": {
      "text/plain": []
     },
     "metadata": {},
     "output_type": "display_data"
    }
   ],
   "source": [
    "classpath.addPath(tiny_path)"
   ]
  },
  {
   "cell_type": "code",
   "execution_count": 3,
   "metadata": {
    "collapsed": false,
    "scrolled": false
   },
   "outputs": [
    {
     "data": {
      "text/plain": [
       "\u001b[32mimport \u001b[36mscala.xml.XML\u001b[0m\n",
       "\u001b[32mimport \u001b[36mch.ethz.dal.tinyir._\u001b[0m\n",
       "\u001b[32mimport \u001b[36mcom.github.aztek.porterstemmer.PorterStemmer\u001b[0m"
      ]
     },
     "metadata": {},
     "output_type": "display_data"
    }
   ],
   "source": [
    "import scala.xml.XML\n",
    "import ch.ethz.dal.tinyir._\n",
    "import com.github.aztek.porterstemmer.PorterStemmer"
   ]
  },
  {
   "cell_type": "code",
   "execution_count": 4,
   "metadata": {
    "collapsed": false
   },
   "outputs": [
    {
     "data": {
      "text/plain": [
       "\u001b[32mimport \u001b[36mjava.io._\u001b[0m"
      ]
     },
     "metadata": {},
     "output_type": "display_data"
    }
   ],
   "source": [
    "// import scala.io.Source  // for importing txt files\n",
    "import java.io._  // for saving txt files\n",
    "// import scala.collection.mutable.HashMap  //HashMap used for counting elements in linear time"
   ]
  },
  {
   "cell_type": "code",
   "execution_count": 5,
   "metadata": {
    "collapsed": false
   },
   "outputs": [
    {
     "data": {
      "text/plain": [
       "\u001b[32mimport \u001b[36mscala.collection.mutable.{Map => MutMap}\u001b[0m\n",
       "\u001b[32mimport \u001b[36mscala.collection.mutable.ListBuffer\u001b[0m"
      ]
     },
     "metadata": {},
     "output_type": "display_data"
    }
   ],
   "source": [
    "// import scala.util.Random\n",
    "import scala.collection.mutable.{Map => MutMap}\n",
    "// enables \"mutable lists\"\n",
    "import scala.collection.mutable.ListBuffer  "
   ]
  },
  {
   "cell_type": "markdown",
   "metadata": {},
   "source": [
    "## Define classes and functions"
   ]
  },
  {
   "cell_type": "code",
   "execution_count": 6,
   "metadata": {
    "collapsed": false
   },
   "outputs": [
    {
     "data": {
      "text/plain": [
       "defined \u001b[32mfunction \u001b[36mtoken_filter\u001b[0m"
      ]
     },
     "metadata": {},
     "output_type": "display_data"
    }
   ],
   "source": [
    "def token_filter(text_body: String) = {\n",
    "    processing.StopWords.filterOutSW(\n",
    "        processing.Tokenizer.tokenize(text_body.\n",
    "                                      replaceAll(\"\\\\P{L}+\", \" \"))\n",
    "    ).\n",
    "    map(x => PorterStemmer.stem(x)).filter(_.trim.nonEmpty)\n",
    "}"
   ]
  },
  {
   "cell_type": "code",
   "execution_count": 7,
   "metadata": {
    "collapsed": false,
    "scrolled": false
   },
   "outputs": [
    {
     "data": {
      "text/plain": [
       "defined \u001b[32mclass \u001b[36mxml_doc\u001b[0m"
      ]
     },
     "metadata": {},
     "output_type": "display_data"
    }
   ],
   "source": [
    "class xml_doc (file_path: String) {\n",
    "    def get_doc(): xml.Elem = {\n",
    "        XML.loadFile(file_path: String)\n",
    "    }    \n",
    "    \n",
    "    def text() = {\n",
    "        (get_doc() \\\\ \"DOC\" \\\\ \"TEXT\").text\n",
    "    }\n",
    "    \n",
    "    def head() = {\n",
    "        (get_doc() \\\\ \"DOC\" \\\\ \"HEAD\").text\n",
    "    }\n",
    "\n",
    "    def id() = {\n",
    "        (get_doc() \\\\ \"DOC\" \\\\ \"DOCNO\").text.trim\n",
    "    }\n",
    "    \n",
    "    def tokens() = {\n",
    "        token_filter(head() ++ text())\n",
    "    }\n",
    "}"
   ]
  },
  {
   "cell_type": "code",
   "execution_count": 8,
   "metadata": {
    "collapsed": false
   },
   "outputs": [
    {
     "data": {
      "text/plain": [
       "defined \u001b[32mfunction \u001b[36mlist_docs\u001b[0m\n",
       "\u001b[36mnumPattern\u001b[0m: \u001b[32mscala\u001b[0m.\u001b[32mutil\u001b[0m.\u001b[32mmatching\u001b[0m.\u001b[32mRegex\u001b[0m = [0-9]+"
      ]
     },
     "metadata": {},
     "output_type": "display_data"
    }
   ],
   "source": [
    "def list_docs (path: String) = {  // : Array[java.io.File]\n",
    "        new java.io.File(path).listFiles.map(x => x.toString())\n",
    "    }\n",
    "val numPattern = \"[0-9]+\".r"
   ]
  },
  {
   "cell_type": "code",
   "execution_count": 9,
   "metadata": {
    "collapsed": false
   },
   "outputs": [
    {
     "data": {
      "text/plain": [
       "defined \u001b[32mfunction \u001b[36mwrite\u001b[0m\n",
       "defined \u001b[32mfunction \u001b[36mwrite_prediction\u001b[0m"
      ]
     },
     "metadata": {},
     "output_type": "display_data"
    }
   ],
   "source": [
    "def write(data: MutMap[Double, (Double, Double, Double)],filename: String) = {\n",
    "\n",
    "    val bw = new BufferedWriter(new FileWriter(new File(filename)))\n",
    "    val iter = data.keys.iterator\n",
    "    while(iter.hasNext){\n",
    "        var elem = iter.next()\n",
    "        var values = data(elem).productIterator.toList\n",
    "        if(values.length>0){\n",
    "            bw.write(elem+\" \"+values.mkString(\" \"))\n",
    "            bw.newLine\n",
    "        }    \n",
    "    }   \n",
    "    bw.close()\n",
    "}\n",
    "\n",
    "def write_prediction(data: MutMap[Int, Set[String]],filename: String) = {\n",
    "\n",
    "    val bw = new BufferedWriter(new FileWriter(new File(filename)))\n",
    "    val iter = data.keys.iterator\n",
    "    while(iter.hasNext){\n",
    "        var elem = iter.next()\n",
    "        var values = data(elem).toList\n",
    "        if(values.length>0){\n",
    "            bw.write(elem+\" \"+values.mkString(\" \"))\n",
    "            bw.newLine\n",
    "        }    \n",
    "    }   \n",
    "    bw.close()\n",
    "}"
   ]
  },
  {
   "cell_type": "markdown",
   "metadata": {},
   "source": [
    "# Importing data files"
   ]
  },
  {
   "cell_type": "code",
   "execution_count": 10,
   "metadata": {
    "collapsed": false,
    "scrolled": true
   },
   "outputs": [
    {
     "data": {
      "text/plain": [
       "\u001b[36mtrain_list\u001b[0m: \u001b[32mArray\u001b[0m[\u001b[32mString\u001b[0m] = \u001b[33mArray\u001b[0m(\n",
       "  \u001b[32m\"\"\"\n",
       "..\\documents\\AP880212-0006\n",
       "  \"\"\"\u001b[0m,\n",
       "  \u001b[32m\"\"\"\n",
       "..\\documents\\AP880212-0007\n",
       "  \"\"\"\u001b[0m,\n",
       "  \u001b[32m\"\"\"\n",
       "..\\documents\\AP880212-0009\n",
       "  \"\"\"\u001b[0m,\n",
       "  \u001b[32m\"\"\"\n",
       "..\\documents\\AP880212-0017\n",
       "  \"\"\"\u001b[0m,\n",
       "  \u001b[32m\"\"\"\n",
       "..\\documents\\AP880212-0018\n",
       "  \"\"\"\u001b[0m,\n",
       "  \u001b[32m\"\"\"\n",
       "..\\documents\\AP880212-0022\n",
       "  \"\"\"\u001b[0m,\n",
       "  \u001b[32m\"\"\"\n",
       "\u001b[33m...\u001b[0m"
      ]
     },
     "metadata": {},
     "output_type": "display_data"
    }
   ],
   "source": [
    "val train_list = list_docs(doc_dir)"
   ]
  },
  {
   "cell_type": "code",
   "execution_count": 11,
   "metadata": {
    "collapsed": false,
    "scrolled": true
   },
   "outputs": [
    {
     "name": "stdout",
     "output_type": "stream",
     "text": [
      "iteration 50\n",
      "iteration 100\n",
      "iteration 150\n",
      "iteration 200\n",
      "iteration 250\n",
      "iteration 300\n",
      "iteration 350\n",
      "iteration 400\n",
      "iteration 450\n",
      "iteration 500\n",
      "iteration 550\n",
      "iteration 600\n",
      "iteration 650\n",
      "iteration 700\n",
      "iteration 750\n",
      "iteration 800\n",
      "iteration 850\n",
      "iteration 900\n",
      "iteration 950\n",
      "iteration 1000\n"
     ]
    },
    {
     "data": {
      "text/plain": [
       "\u001b[36mdoc_list\u001b[0m: \u001b[32mListBuffer\u001b[0m[\u001b[32mprocessing\u001b[0m.\u001b[32mStringDocument\u001b[0m] = \u001b[33mListBuffer\u001b[0m(\n",
       "  ch.ethz.dal.tinyir.processing.StringDocument@7ff295fb,\n",
       "  ch.ethz.dal.tinyir.processing.StringDocument@370fb10f,\n",
       "  ch.ethz.dal.tinyir.processing.StringDocument@45eb6a0e,\n",
       "  ch.ethz.dal.tinyir.processing.StringDocument@500fc29d,\n",
       "  ch.ethz.dal.tinyir.processing.StringDocument@3b39c82a,\n",
       "  ch.ethz.dal.tinyir.processing.StringDocument@71f4918b,\n",
       "  ch.ethz.dal.tinyir.processing.StringDocument@6fd12ea1,\n",
       "  ch.ethz.dal.tinyir.processing.StringDocument@416412ec,\n",
       "  ch.ethz.dal.tinyir.processing.StringDocument@3469ea72,\n",
       "  ch.ethz.dal.tinyir.processing.StringDocument@61444dbd,\n",
       "  ch.ethz.dal.tinyir.processing.StringDocument@706d312,\n",
       "  ch.ethz.dal.tinyir.processing.StringDocument@6614526c,\n",
       "  ch.ethz.dal.tinyir.processing.StringDocument@1dd50ea6,\n",
       "  ch.ethz.dal.tinyir.processing.StringDocument@5e3f8104,\n",
       "  ch.ethz.dal.tinyir.processing.StringDocument@6f904792,\n",
       "  ch.ethz.dal.tinyir.processing.StringDocument@2b53ef3e,\n",
       "  ch.ethz.dal.tinyir.processing.StringDocument@1e4664cc,\n",
       "  ch.ethz.dal.tinyir.processing.StringDocument@3c53f1a1,\n",
       "  ch.ethz.dal.tinyir.processing.StringDocument@51928d6e,\n",
       "\u001b[33m...\u001b[0m\n",
       "\u001b[36mcounter\u001b[0m: \u001b[32mInt\u001b[0m = \u001b[32m1000\u001b[0m"
      ]
     },
     "metadata": {},
     "output_type": "display_data"
    }
   ],
   "source": [
    "val doc_list = new ListBuffer[processing.StringDocument]()\n",
    "var counter = 0\n",
    "for (path <- train_list.take(1000)){\n",
    "// for (path <- train_list){\n",
    "    var cur_doc = new xml_doc(path)\n",
    "    doc_list += (new processing.StringDocument(counter, cur_doc.tokens.mkString(\" \")))\n",
    "    counter += 1\n",
    "    if (counter % 50 == 0) println(s\"iteration $counter\")\n",
    "}"
   ]
  },
  {
   "cell_type": "code",
   "execution_count": 12,
   "metadata": {
    "collapsed": false,
    "scrolled": true
   },
   "outputs": [
    {
     "data": {
      "text/plain": [
       "\u001b[36mdoc_stream\u001b[0m: \u001b[32mStream\u001b[0m[\u001b[32mprocessing\u001b[0m.\u001b[32mStringDocument\u001b[0m] = \u001b[33mStream\u001b[0m(\n",
       "  ch.ethz.dal.tinyir.processing.StringDocument@7ff295fb,\n",
       "  ch.ethz.dal.tinyir.processing.StringDocument@370fb10f,\n",
       "  ch.ethz.dal.tinyir.processing.StringDocument@45eb6a0e,\n",
       "  ch.ethz.dal.tinyir.processing.StringDocument@500fc29d,\n",
       "  ch.ethz.dal.tinyir.processing.StringDocument@3b39c82a,\n",
       "  ch.ethz.dal.tinyir.processing.StringDocument@71f4918b,\n",
       "  ch.ethz.dal.tinyir.processing.StringDocument@6fd12ea1,\n",
       "  ch.ethz.dal.tinyir.processing.StringDocument@416412ec,\n",
       "  ch.ethz.dal.tinyir.processing.StringDocument@3469ea72,\n",
       "  ch.ethz.dal.tinyir.processing.StringDocument@61444dbd,\n",
       "  ch.ethz.dal.tinyir.processing.StringDocument@706d312,\n",
       "  ch.ethz.dal.tinyir.processing.StringDocument@6614526c,\n",
       "  ch.ethz.dal.tinyir.processing.StringDocument@1dd50ea6,\n",
       "  ch.ethz.dal.tinyir.processing.StringDocument@5e3f8104,\n",
       "  ch.ethz.dal.tinyir.processing.StringDocument@6f904792,\n",
       "  ch.ethz.dal.tinyir.processing.StringDocument@2b53ef3e,\n",
       "  ch.ethz.dal.tinyir.processing.StringDocument@1e4664cc,\n",
       "  ch.ethz.dal.tinyir.processing.StringDocument@3c53f1a1,\n",
       "  ch.ethz.dal.tinyir.processing.StringDocument@51928d6e,\n",
       "\u001b[33m...\u001b[0m"
      ]
     },
     "metadata": {},
     "output_type": "display_data"
    }
   ],
   "source": [
    "val doc_stream = doc_list.toStream"
   ]
  },
  {
   "cell_type": "code",
   "execution_count": 13,
   "metadata": {
    "collapsed": false
   },
   "outputs": [
    {
     "data": {
      "text/plain": [
       "\u001b[36mtest_PosIndex\u001b[0m: \u001b[32mindexing\u001b[0m.\u001b[32mPosIndex\u001b[0m = ch.ethz.dal.tinyir.indexing.PosIndex@7055e6e3"
      ]
     },
     "metadata": {},
     "output_type": "display_data"
    }
   ],
   "source": [
    "val test_PosIndex = new indexing.PosIndex(doc_stream)"
   ]
  },
  {
   "cell_type": "code",
   "execution_count": 14,
   "metadata": {
    "collapsed": false,
    "scrolled": false
   },
   "outputs": [
    {
     "data": {
      "text/plain": [
       "\u001b[36mres13\u001b[0m: \u001b[32mMap\u001b[0m[\u001b[32mString\u001b[0m, \u001b[32mtest_PosIndex\u001b[0m.\u001b[32mPostList\u001b[0m] = \u001b[33mMap\u001b[0m(\n",
       "  \u001b[32m\"inshort\"\u001b[0m -> \u001b[33mList\u001b[0m(\u001b[33mPosPosting\u001b[0m(\u001b[32m744\u001b[0m, \u001b[32m302\u001b[0m)),\n",
       "  \u001b[32m\"wednesdayaft\"\u001b[0m -> \u001b[33mList\u001b[0m(\u001b[33mPosPosting\u001b[0m(\u001b[32m758\u001b[0m, \u001b[32m15\u001b[0m)),\n",
       "  \u001b[32m\"andlithuania\"\u001b[0m -> \u001b[33mList\u001b[0m(\u001b[33mPosPosting\u001b[0m(\u001b[32m41\u001b[0m, \u001b[32m61\u001b[0m)),\n",
       "  \u001b[32m\"forlett\"\u001b[0m -> \u001b[33mList\u001b[0m(\u001b[33mPosPosting\u001b[0m(\u001b[32m861\u001b[0m, \u001b[32m211\u001b[0m)),\n",
       "  \u001b[32m\"incident\"\u001b[0m -> \u001b[33mList\u001b[0m(\u001b[33mPosPosting\u001b[0m(\u001b[32m4\u001b[0m, \u001b[32m243\u001b[0m), \u001b[33mPosPosting\u001b[0m(\u001b[32m330\u001b[0m, \u001b[32m194\u001b[0m)),\n",
       "  \u001b[32m\"meteorologist\"\u001b[0m -> \u001b[33mList\u001b[0m(\u001b[33mPosPosting\u001b[0m(\u001b[32m296\u001b[0m, \u001b[32m307\u001b[0m), \u001b[33mPosPosting\u001b[0m(\u001b[32m303\u001b[0m, \u001b[32m299\u001b[0m)),\n",
       "  \u001b[32m\"kidnei\"\u001b[0m -> \u001b[33mList\u001b[0m(\n",
       "    \u001b[33mPosPosting\u001b[0m(\u001b[32m197\u001b[0m, \u001b[32m371\u001b[0m),\n",
       "    \u001b[33mPosPosting\u001b[0m(\u001b[32m223\u001b[0m, \u001b[32m371\u001b[0m),\n",
       "    \u001b[33mPosPosting\u001b[0m(\u001b[32m478\u001b[0m, \u001b[32m50\u001b[0m),\n",
       "    \u001b[33mPosPosting\u001b[0m(\u001b[32m684\u001b[0m, \u001b[32m31\u001b[0m)\n",
       "  ),\n",
       "  \u001b[32m\"serious\"\u001b[0m -> \u001b[33mList\u001b[0m(\u001b[33mPosPosting\u001b[0m(\u001b[32m710\u001b[0m, \u001b[32m344\u001b[0m), \u001b[33mPosPosting\u001b[0m(\u001b[32m980\u001b[0m, \u001b[32m66\u001b[0m)),\n",
       "  \u001b[32m\"brink\"\u001b[0m -> \u001b[33mList\u001b[0m(\u001b[33mPosPosting\u001b[0m(\u001b[32m97\u001b[0m, \u001b[32m358\u001b[0m), \u001b[33mPosPosting\u001b[0m(\u001b[32m148\u001b[0m, \u001b[32m163\u001b[0m)),\n",
       "  \u001b[32m\"zaventem\"\u001b[0m -> \u001b[33mList\u001b[0m(\u001b[33mPosPosting\u001b[0m(\u001b[32m648\u001b[0m, \u001b[32m41\u001b[0m)),\n",
       "  \u001b[32m\"themediterranean\"\u001b[0m -> \u001b[33mList\u001b[0m(\u001b[33mPosPosting\u001b[0m(\u001b[32m611\u001b[0m, \u001b[32m167\u001b[0m)),\n",
       "  \u001b[32m\"acronym\"\u001b[0m -> \u001b[33mList\u001b[0m(\u001b[33mPosPosting\u001b[0m(\u001b[32m828\u001b[0m, \u001b[32m147\u001b[0m)),\n",
       "  \u001b[32m\"andhispan\"\u001b[0m -> \u001b[33mList\u001b[0m(\u001b[33mPosPosting\u001b[0m(\u001b[32m529\u001b[0m, \u001b[32m208\u001b[0m), \u001b[33mPosPosting\u001b[0m(\u001b[32m857\u001b[0m, \u001b[32m101\u001b[0m)),\n",
       "  \u001b[32m\"poweroutag\"\u001b[0m -> \u001b[33mList\u001b[0m(\u001b[33mPosPosting\u001b[0m(\u001b[32m780\u001b[0m, \u001b[32m37\u001b[0m)),\n",
       "\u001b[33m...\u001b[0m"
      ]
     },
     "metadata": {},
     "output_type": "display_data"
    }
   ],
   "source": [
    "test_PosIndex.index\n",
    "// test_pos_index.postings(doc_stream)"
   ]
  },
  {
   "cell_type": "code",
   "execution_count": 15,
   "metadata": {
    "collapsed": false
   },
   "outputs": [
    {
     "data": {
      "text/plain": [
       "\u001b[36mres14\u001b[0m: \u001b[32mList\u001b[0m[\u001b[32mindexing\u001b[0m.\u001b[32mProxResult\u001b[0m] = \u001b[33mList\u001b[0m(\n",
       "  \u001b[33mProxResult\u001b[0m(\u001b[32m1\u001b[0m, \u001b[32m16\u001b[0m, \u001b[32m16\u001b[0m),\n",
       "  \u001b[33mProxResult\u001b[0m(\u001b[32m1\u001b[0m, \u001b[32m29\u001b[0m, \u001b[32m29\u001b[0m),\n",
       "  \u001b[33mProxResult\u001b[0m(\u001b[32m1\u001b[0m, \u001b[32m60\u001b[0m, \u001b[32m60\u001b[0m),\n",
       "  \u001b[33mProxResult\u001b[0m(\u001b[32m1\u001b[0m, \u001b[32m164\u001b[0m, \u001b[32m164\u001b[0m),\n",
       "  \u001b[33mProxResult\u001b[0m(\u001b[32m1\u001b[0m, \u001b[32m212\u001b[0m, \u001b[32m212\u001b[0m),\n",
       "  \u001b[33mProxResult\u001b[0m(\u001b[32m13\u001b[0m, \u001b[32m24\u001b[0m, \u001b[32m24\u001b[0m),\n",
       "  \u001b[33mProxResult\u001b[0m(\u001b[32m13\u001b[0m, \u001b[32m41\u001b[0m, \u001b[32m41\u001b[0m),\n",
       "  \u001b[33mProxResult\u001b[0m(\u001b[32m40\u001b[0m, \u001b[32m106\u001b[0m, \u001b[32m106\u001b[0m),\n",
       "  \u001b[33mProxResult\u001b[0m(\u001b[32m46\u001b[0m, \u001b[32m25\u001b[0m, \u001b[32m25\u001b[0m),\n",
       "  \u001b[33mProxResult\u001b[0m(\u001b[32m46\u001b[0m, \u001b[32m106\u001b[0m, \u001b[32m106\u001b[0m),\n",
       "  \u001b[33mProxResult\u001b[0m(\u001b[32m46\u001b[0m, \u001b[32m197\u001b[0m, \u001b[32m197\u001b[0m),\n",
       "  \u001b[33mProxResult\u001b[0m(\u001b[32m46\u001b[0m, \u001b[32m359\u001b[0m, \u001b[32m359\u001b[0m),\n",
       "  \u001b[33mProxResult\u001b[0m(\u001b[32m56\u001b[0m, \u001b[32m509\u001b[0m, \u001b[32m509\u001b[0m),\n",
       "  \u001b[33mProxResult\u001b[0m(\u001b[32m56\u001b[0m, \u001b[32m558\u001b[0m, \u001b[32m558\u001b[0m),\n",
       "  \u001b[33mProxResult\u001b[0m(\u001b[32m59\u001b[0m, \u001b[32m57\u001b[0m, \u001b[32m57\u001b[0m),\n",
       "  \u001b[33mProxResult\u001b[0m(\u001b[32m66\u001b[0m, \u001b[32m30\u001b[0m, \u001b[32m30\u001b[0m),\n",
       "  \u001b[33mProxResult\u001b[0m(\u001b[32m66\u001b[0m, \u001b[32m45\u001b[0m, \u001b[32m45\u001b[0m),\n",
       "  \u001b[33mProxResult\u001b[0m(\u001b[32m66\u001b[0m, \u001b[32m242\u001b[0m, \u001b[32m242\u001b[0m),\n",
       "  \u001b[33mProxResult\u001b[0m(\u001b[32m66\u001b[0m, \u001b[32m284\u001b[0m, \u001b[32m284\u001b[0m),\n",
       "\u001b[33m...\u001b[0m"
      ]
     },
     "metadata": {},
     "output_type": "display_data"
    }
   ],
   "source": [
    "test_PosIndex.results(\"iowa\")"
   ]
  },
  {
   "cell_type": "code",
   "execution_count": 16,
   "metadata": {
    "collapsed": false,
    "scrolled": true
   },
   "outputs": [
    {
     "data": {
      "text/plain": [
       "\u001b[36mres15\u001b[0m: \u001b[32mList\u001b[0m[\u001b[32mindexing\u001b[0m.\u001b[32mProxResult\u001b[0m] = \u001b[33mList\u001b[0m(\n",
       "  \u001b[33mProxResult\u001b[0m(\u001b[32m1\u001b[0m, \u001b[32m17\u001b[0m, \u001b[32m17\u001b[0m),\n",
       "  \u001b[33mProxResult\u001b[0m(\u001b[32m15\u001b[0m, \u001b[32m85\u001b[0m, \u001b[32m85\u001b[0m),\n",
       "  \u001b[33mProxResult\u001b[0m(\u001b[32m35\u001b[0m, \u001b[32m39\u001b[0m, \u001b[32m39\u001b[0m),\n",
       "  \u001b[33mProxResult\u001b[0m(\u001b[32m44\u001b[0m, \u001b[32m28\u001b[0m, \u001b[32m28\u001b[0m),\n",
       "  \u001b[33mProxResult\u001b[0m(\u001b[32m49\u001b[0m, \u001b[32m6\u001b[0m, \u001b[32m6\u001b[0m),\n",
       "  \u001b[33mProxResult\u001b[0m(\u001b[32m56\u001b[0m, \u001b[32m510\u001b[0m, \u001b[32m510\u001b[0m),\n",
       "  \u001b[33mProxResult\u001b[0m(\u001b[32m130\u001b[0m, \u001b[32m172\u001b[0m, \u001b[32m172\u001b[0m),\n",
       "  \u001b[33mProxResult\u001b[0m(\u001b[32m134\u001b[0m, \u001b[32m178\u001b[0m, \u001b[32m178\u001b[0m),\n",
       "  \u001b[33mProxResult\u001b[0m(\u001b[32m151\u001b[0m, \u001b[32m129\u001b[0m, \u001b[32m129\u001b[0m),\n",
       "  \u001b[33mProxResult\u001b[0m(\u001b[32m167\u001b[0m, \u001b[32m149\u001b[0m, \u001b[32m149\u001b[0m),\n",
       "  \u001b[33mProxResult\u001b[0m(\u001b[32m168\u001b[0m, \u001b[32m53\u001b[0m, \u001b[32m53\u001b[0m),\n",
       "  \u001b[33mProxResult\u001b[0m(\u001b[32m175\u001b[0m, \u001b[32m16\u001b[0m, \u001b[32m16\u001b[0m),\n",
       "  \u001b[33mProxResult\u001b[0m(\u001b[32m175\u001b[0m, \u001b[32m144\u001b[0m, \u001b[32m144\u001b[0m),\n",
       "  \u001b[33mProxResult\u001b[0m(\u001b[32m175\u001b[0m, \u001b[32m278\u001b[0m, \u001b[32m278\u001b[0m),\n",
       "  \u001b[33mProxResult\u001b[0m(\u001b[32m175\u001b[0m, \u001b[32m360\u001b[0m, \u001b[32m360\u001b[0m),\n",
       "  \u001b[33mProxResult\u001b[0m(\u001b[32m206\u001b[0m, \u001b[32m4\u001b[0m, \u001b[32m4\u001b[0m),\n",
       "  \u001b[33mProxResult\u001b[0m(\u001b[32m206\u001b[0m, \u001b[32m14\u001b[0m, \u001b[32m14\u001b[0m),\n",
       "  \u001b[33mProxResult\u001b[0m(\u001b[32m253\u001b[0m, \u001b[32m287\u001b[0m, \u001b[32m287\u001b[0m),\n",
       "  \u001b[33mProxResult\u001b[0m(\u001b[32m281\u001b[0m, \u001b[32m232\u001b[0m, \u001b[32m232\u001b[0m),\n",
       "\u001b[33m...\u001b[0m"
      ]
     },
     "metadata": {},
     "output_type": "display_data"
    }
   ],
   "source": [
    "test_PosIndex.results(\"coupl\")"
   ]
  },
  {
   "cell_type": "code",
   "execution_count": 17,
   "metadata": {
    "collapsed": false
   },
   "outputs": [
    {
     "data": {
      "text/plain": [
       "\u001b[36mres16\u001b[0m: \u001b[32mInt\u001b[0m = \u001b[32m1\u001b[0m"
      ]
     },
     "metadata": {},
     "output_type": "display_data"
    }
   ],
   "source": [
    "indexing.ProxWindow.size"
   ]
  },
  {
   "cell_type": "code",
   "execution_count": 18,
   "metadata": {
    "collapsed": false
   },
   "outputs": [
    {
     "data": {
      "text/plain": [
       "\u001b[36mres17\u001b[0m: \u001b[32mList\u001b[0m[\u001b[32mindexing\u001b[0m.\u001b[32mProxResult\u001b[0m] = \u001b[33mList\u001b[0m(\u001b[33mProxResult\u001b[0m(\u001b[32m1\u001b[0m, \u001b[32m16\u001b[0m, \u001b[32m17\u001b[0m), \u001b[33mProxResult\u001b[0m(\u001b[32m56\u001b[0m, \u001b[32m509\u001b[0m, \u001b[32m510\u001b[0m))"
      ]
     },
     "metadata": {},
     "output_type": "display_data"
    }
   ],
   "source": [
    "test_PosIndex.results(Seq(\"iowa\", \"coupl\"))"
   ]
  },
  {
   "cell_type": "code",
   "execution_count": 19,
   "metadata": {
    "collapsed": false,
    "scrolled": true
   },
   "outputs": [
    {
     "data": {
      "text/plain": []
     },
     "metadata": {},
     "output_type": "display_data"
    }
   ],
   "source": [
    "indexing.ProxWindow.setSize(2)"
   ]
  },
  {
   "cell_type": "code",
   "execution_count": 20,
   "metadata": {
    "collapsed": false
   },
   "outputs": [
    {
     "data": {
      "text/plain": [
       "\u001b[36mres19\u001b[0m: \u001b[32mList\u001b[0m[\u001b[32mindexing\u001b[0m.\u001b[32mProxResult\u001b[0m] = \u001b[33mList\u001b[0m(\u001b[33mProxResult\u001b[0m(\u001b[32m1\u001b[0m, \u001b[32m16\u001b[0m, \u001b[32m18\u001b[0m))"
      ]
     },
     "metadata": {},
     "output_type": "display_data"
    }
   ],
   "source": [
    "test_PosIndex.results(Seq(\"iowa\", \"withkemp\"))"
   ]
  },
  {
   "cell_type": "code",
   "execution_count": null,
   "metadata": {
    "collapsed": true
   },
   "outputs": [],
   "source": []
  },
  {
   "cell_type": "code",
   "execution_count": 21,
   "metadata": {
    "collapsed": false
   },
   "outputs": [
    {
     "data": {
      "text/plain": [
       "\u001b[36mtest_SimpleIndex\u001b[0m: \u001b[32mindexing\u001b[0m.\u001b[32mSimpleIndex\u001b[0m = ch.ethz.dal.tinyir.indexing.SimpleIndex@424a6dea"
      ]
     },
     "metadata": {},
     "output_type": "display_data"
    }
   ],
   "source": [
    "val test_SimpleIndex = new indexing.SimpleIndex(doc_stream)"
   ]
  },
  {
   "cell_type": "code",
   "execution_count": 22,
   "metadata": {
    "collapsed": false
   },
   "outputs": [
    {
     "data": {
      "text/plain": [
       "\u001b[36mres21_0\u001b[0m: \u001b[32mMap\u001b[0m[\u001b[32mString\u001b[0m, \u001b[32mtest_SimpleIndex\u001b[0m.\u001b[32mPostList\u001b[0m] = \u001b[33mMap\u001b[0m(\n",
       "  \u001b[32m\"inshort\"\u001b[0m -> \u001b[33mList\u001b[0m(\u001b[33mSimplePosting\u001b[0m(\u001b[32m744\u001b[0m)),\n",
       "  \u001b[32m\"wednesdayaft\"\u001b[0m -> \u001b[33mList\u001b[0m(\u001b[33mSimplePosting\u001b[0m(\u001b[32m758\u001b[0m)),\n",
       "  \u001b[32m\"andlithuania\"\u001b[0m -> \u001b[33mList\u001b[0m(\u001b[33mSimplePosting\u001b[0m(\u001b[32m41\u001b[0m)),\n",
       "  \u001b[32m\"forlett\"\u001b[0m -> \u001b[33mList\u001b[0m(\u001b[33mSimplePosting\u001b[0m(\u001b[32m861\u001b[0m)),\n",
       "  \u001b[32m\"incident\"\u001b[0m -> \u001b[33mList\u001b[0m(\u001b[33mSimplePosting\u001b[0m(\u001b[32m4\u001b[0m), \u001b[33mSimplePosting\u001b[0m(\u001b[32m330\u001b[0m)),\n",
       "  \u001b[32m\"meteorologist\"\u001b[0m -> \u001b[33mList\u001b[0m(\u001b[33mSimplePosting\u001b[0m(\u001b[32m296\u001b[0m), \u001b[33mSimplePosting\u001b[0m(\u001b[32m303\u001b[0m)),\n",
       "  \u001b[32m\"kidnei\"\u001b[0m -> \u001b[33mList\u001b[0m(\n",
       "    \u001b[33mSimplePosting\u001b[0m(\u001b[32m197\u001b[0m),\n",
       "    \u001b[33mSimplePosting\u001b[0m(\u001b[32m223\u001b[0m),\n",
       "    \u001b[33mSimplePosting\u001b[0m(\u001b[32m478\u001b[0m),\n",
       "    \u001b[33mSimplePosting\u001b[0m(\u001b[32m684\u001b[0m)\n",
       "  ),\n",
       "  \u001b[32m\"serious\"\u001b[0m -> \u001b[33mList\u001b[0m(\u001b[33mSimplePosting\u001b[0m(\u001b[32m710\u001b[0m), \u001b[33mSimplePosting\u001b[0m(\u001b[32m980\u001b[0m)),\n",
       "  \u001b[32m\"brink\"\u001b[0m -> \u001b[33mList\u001b[0m(\u001b[33mSimplePosting\u001b[0m(\u001b[32m97\u001b[0m), \u001b[33mSimplePosting\u001b[0m(\u001b[32m148\u001b[0m)),\n",
       "  \u001b[32m\"zaventem\"\u001b[0m -> \u001b[33mList\u001b[0m(\u001b[33mSimplePosting\u001b[0m(\u001b[32m648\u001b[0m)),\n",
       "  \u001b[32m\"themediterranean\"\u001b[0m -> \u001b[33mList\u001b[0m(\u001b[33mSimplePosting\u001b[0m(\u001b[32m611\u001b[0m)),\n",
       "  \u001b[32m\"acronym\"\u001b[0m -> \u001b[33mList\u001b[0m(\u001b[33mSimplePosting\u001b[0m(\u001b[32m828\u001b[0m)),\n",
       "  \u001b[32m\"andhispan\"\u001b[0m -> \u001b[33mList\u001b[0m(\u001b[33mSimplePosting\u001b[0m(\u001b[32m529\u001b[0m), \u001b[33mSimplePosting\u001b[0m(\u001b[32m857\u001b[0m)),\n",
       "  \u001b[32m\"poweroutag\"\u001b[0m -> \u001b[33mList\u001b[0m(\u001b[33mSimplePosting\u001b[0m(\u001b[32m780\u001b[0m)),\n",
       "\u001b[33m...\u001b[0m\n",
       "\u001b[36mres21_1\u001b[0m: \u001b[32mMap\u001b[0m[\u001b[32mString\u001b[0m, \u001b[32mInt\u001b[0m] = \u001b[33mMap\u001b[0m(\n",
       "  \u001b[32m\"inshort\"\u001b[0m -> \u001b[32m1\u001b[0m,\n",
       "  \u001b[32m\"wednesdayaft\"\u001b[0m -> \u001b[32m1\u001b[0m,\n",
       "  \u001b[32m\"andlithuania\"\u001b[0m -> \u001b[32m1\u001b[0m,\n",
       "  \u001b[32m\"forlett\"\u001b[0m -> \u001b[32m1\u001b[0m,\n",
       "  \u001b[32m\"incident\"\u001b[0m -> \u001b[32m2\u001b[0m,\n",
       "  \u001b[32m\"meteorologist\"\u001b[0m -> \u001b[32m2\u001b[0m,\n",
       "  \u001b[32m\"kidnei\"\u001b[0m -> \u001b[32m4\u001b[0m,\n",
       "  \u001b[32m\"serious\"\u001b[0m -> \u001b[32m2\u001b[0m,\n",
       "  \u001b[32m\"brink\"\u001b[0m -> \u001b[32m2\u001b[0m,\n",
       "  \u001b[32m\"zaventem\"\u001b[0m -> \u001b[32m1\u001b[0m,\n",
       "  \u001b[32m\"themediterranean\"\u001b[0m -> \u001b[32m1\u001b[0m,\n",
       "  \u001b[32m\"acronym\"\u001b[0m -> \u001b[32m1\u001b[0m,\n",
       "  \u001b[32m\"andhispan\"\u001b[0m -> \u001b[32m2\u001b[0m,\n",
       "  \u001b[32m\"poweroutag\"\u001b[0m -> \u001b[32m1\u001b[0m,\n",
       "  \u001b[32m\"ebb\"\u001b[0m -> \u001b[32m2\u001b[0m,\n",
       "  \u001b[32m\"claimslorillard\"\u001b[0m -> \u001b[32m1\u001b[0m,\n",
       "  \u001b[32m\"forgotten\"\u001b[0m -> \u001b[32m5\u001b[0m,\n",
       "  \u001b[32m\"thanmexico\"\u001b[0m -> \u001b[32m1\u001b[0m,\n",
       "  \u001b[32m\"mario\"\u001b[0m -> \u001b[32m8\u001b[0m,\n",
       "\u001b[33m...\u001b[0m"
      ]
     },
     "metadata": {},
     "output_type": "display_data"
    }
   ],
   "source": [
    "test_SimpleIndex.index\n",
    "test_SimpleIndex.index.mapValues(x => x.length)"
   ]
  },
  {
   "cell_type": "code",
   "execution_count": null,
   "metadata": {
    "collapsed": true
   },
   "outputs": [],
   "source": []
  },
  {
   "cell_type": "code",
   "execution_count": 23,
   "metadata": {
    "collapsed": false
   },
   "outputs": [
    {
     "data": {
      "text/plain": [
       "\u001b[36mtest_FreqIndex\u001b[0m: \u001b[32mindexing\u001b[0m.\u001b[32mFreqIndex\u001b[0m = ch.ethz.dal.tinyir.indexing.FreqIndex@176f786a"
      ]
     },
     "metadata": {},
     "output_type": "display_data"
    }
   ],
   "source": [
    "val test_FreqIndex = new indexing.FreqIndex(doc_stream)"
   ]
  },
  {
   "cell_type": "code",
   "execution_count": 24,
   "metadata": {
    "collapsed": false,
    "scrolled": true
   },
   "outputs": [
    {
     "data": {
      "text/plain": [
       "\u001b[36mres23_0\u001b[0m: \u001b[32mMap\u001b[0m[\u001b[32mString\u001b[0m, \u001b[32mtest_FreqIndex\u001b[0m.\u001b[32mPostList\u001b[0m] = \u001b[33mMap\u001b[0m(\n",
       "  \u001b[32m\"inshort\"\u001b[0m -> \u001b[33mList\u001b[0m(\u001b[33mFreqPosting\u001b[0m(\u001b[32m744\u001b[0m, \u001b[32m1\u001b[0m)),\n",
       "  \u001b[32m\"wednesdayaft\"\u001b[0m -> \u001b[33mList\u001b[0m(\u001b[33mFreqPosting\u001b[0m(\u001b[32m758\u001b[0m, \u001b[32m1\u001b[0m)),\n",
       "  \u001b[32m\"andlithuania\"\u001b[0m -> \u001b[33mList\u001b[0m(\u001b[33mFreqPosting\u001b[0m(\u001b[32m41\u001b[0m, \u001b[32m1\u001b[0m)),\n",
       "  \u001b[32m\"forlett\"\u001b[0m -> \u001b[33mList\u001b[0m(\u001b[33mFreqPosting\u001b[0m(\u001b[32m861\u001b[0m, \u001b[32m1\u001b[0m)),\n",
       "  \u001b[32m\"incident\"\u001b[0m -> \u001b[33mList\u001b[0m(\u001b[33mFreqPosting\u001b[0m(\u001b[32m4\u001b[0m, \u001b[32m1\u001b[0m), \u001b[33mFreqPosting\u001b[0m(\u001b[32m330\u001b[0m, \u001b[32m1\u001b[0m)),\n",
       "  \u001b[32m\"meteorologist\"\u001b[0m -> \u001b[33mList\u001b[0m(\u001b[33mFreqPosting\u001b[0m(\u001b[32m296\u001b[0m, \u001b[32m1\u001b[0m), \u001b[33mFreqPosting\u001b[0m(\u001b[32m303\u001b[0m, \u001b[32m1\u001b[0m)),\n",
       "  \u001b[32m\"kidnei\"\u001b[0m -> \u001b[33mList\u001b[0m(\n",
       "    \u001b[33mFreqPosting\u001b[0m(\u001b[32m197\u001b[0m, \u001b[32m1\u001b[0m),\n",
       "    \u001b[33mFreqPosting\u001b[0m(\u001b[32m223\u001b[0m, \u001b[32m1\u001b[0m),\n",
       "    \u001b[33mFreqPosting\u001b[0m(\u001b[32m478\u001b[0m, \u001b[32m1\u001b[0m),\n",
       "    \u001b[33mFreqPosting\u001b[0m(\u001b[32m684\u001b[0m, \u001b[32m1\u001b[0m)\n",
       "  ),\n",
       "  \u001b[32m\"serious\"\u001b[0m -> \u001b[33mList\u001b[0m(\u001b[33mFreqPosting\u001b[0m(\u001b[32m710\u001b[0m, \u001b[32m1\u001b[0m), \u001b[33mFreqPosting\u001b[0m(\u001b[32m980\u001b[0m, \u001b[32m1\u001b[0m)),\n",
       "  \u001b[32m\"brink\"\u001b[0m -> \u001b[33mList\u001b[0m(\u001b[33mFreqPosting\u001b[0m(\u001b[32m97\u001b[0m, \u001b[32m1\u001b[0m), \u001b[33mFreqPosting\u001b[0m(\u001b[32m148\u001b[0m, \u001b[32m1\u001b[0m)),\n",
       "  \u001b[32m\"zaventem\"\u001b[0m -> \u001b[33mList\u001b[0m(\u001b[33mFreqPosting\u001b[0m(\u001b[32m648\u001b[0m, \u001b[32m1\u001b[0m)),\n",
       "  \u001b[32m\"themediterranean\"\u001b[0m -> \u001b[33mList\u001b[0m(\u001b[33mFreqPosting\u001b[0m(\u001b[32m611\u001b[0m, \u001b[32m1\u001b[0m)),\n",
       "  \u001b[32m\"acronym\"\u001b[0m -> \u001b[33mList\u001b[0m(\u001b[33mFreqPosting\u001b[0m(\u001b[32m828\u001b[0m, \u001b[32m1\u001b[0m)),\n",
       "  \u001b[32m\"andhispan\"\u001b[0m -> \u001b[33mList\u001b[0m(\u001b[33mFreqPosting\u001b[0m(\u001b[32m529\u001b[0m, \u001b[32m1\u001b[0m), \u001b[33mFreqPosting\u001b[0m(\u001b[32m857\u001b[0m, \u001b[32m1\u001b[0m)),\n",
       "  \u001b[32m\"poweroutag\"\u001b[0m -> \u001b[33mList\u001b[0m(\u001b[33mFreqPosting\u001b[0m(\u001b[32m780\u001b[0m, \u001b[32m1\u001b[0m)),\n",
       "\u001b[33m...\u001b[0m\n",
       "\u001b[36mres23_1\u001b[0m: \u001b[32mList\u001b[0m[\u001b[32mindexing\u001b[0m.\u001b[32mFreqResult\u001b[0m] = \u001b[33mList\u001b[0m(\n",
       "  \u001b[33mFreqResult\u001b[0m(\u001b[32m1\u001b[0m, \u001b[33mList\u001b[0m(\u001b[32m5\u001b[0m)),\n",
       "  \u001b[33mFreqResult\u001b[0m(\u001b[32m13\u001b[0m, \u001b[33mList\u001b[0m(\u001b[32m2\u001b[0m)),\n",
       "  \u001b[33mFreqResult\u001b[0m(\u001b[32m40\u001b[0m, \u001b[33mList\u001b[0m(\u001b[32m1\u001b[0m)),\n",
       "  \u001b[33mFreqResult\u001b[0m(\u001b[32m46\u001b[0m, \u001b[33mList\u001b[0m(\u001b[32m4\u001b[0m)),\n",
       "  \u001b[33mFreqResult\u001b[0m(\u001b[32m56\u001b[0m, \u001b[33mList\u001b[0m(\u001b[32m2\u001b[0m)),\n",
       "  \u001b[33mFreqResult\u001b[0m(\u001b[32m59\u001b[0m, \u001b[33mList\u001b[0m(\u001b[32m1\u001b[0m)),\n",
       "  \u001b[33mFreqResult\u001b[0m(\u001b[32m66\u001b[0m, \u001b[33mList\u001b[0m(\u001b[32m5\u001b[0m)),\n",
       "  \u001b[33mFreqResult\u001b[0m(\u001b[32m68\u001b[0m, \u001b[33mList\u001b[0m(\u001b[32m5\u001b[0m)),\n",
       "  \u001b[33mFreqResult\u001b[0m(\u001b[32m70\u001b[0m, \u001b[33mList\u001b[0m(\u001b[32m4\u001b[0m)),\n",
       "  \u001b[33mFreqResult\u001b[0m(\u001b[32m72\u001b[0m, \u001b[33mList\u001b[0m(\u001b[32m1\u001b[0m)),\n",
       "  \u001b[33mFreqResult\u001b[0m(\u001b[32m77\u001b[0m, \u001b[33mList\u001b[0m(\u001b[32m3\u001b[0m)),\n",
       "  \u001b[33mFreqResult\u001b[0m(\u001b[32m79\u001b[0m, \u001b[33mList\u001b[0m(\u001b[32m2\u001b[0m)),\n",
       "  \u001b[33mFreqResult\u001b[0m(\u001b[32m87\u001b[0m, \u001b[33mList\u001b[0m(\u001b[32m2\u001b[0m)),\n",
       "  \u001b[33mFreqResult\u001b[0m(\u001b[32m88\u001b[0m, \u001b[33mList\u001b[0m(\u001b[32m1\u001b[0m)),\n",
       "  \u001b[33mFreqResult\u001b[0m(\u001b[32m89\u001b[0m, \u001b[33mList\u001b[0m(\u001b[32m1\u001b[0m)),\n",
       "  \u001b[33mFreqResult\u001b[0m(\u001b[32m90\u001b[0m, \u001b[33mList\u001b[0m(\u001b[32m5\u001b[0m)),\n",
       "  \u001b[33mFreqResult\u001b[0m(\u001b[32m95\u001b[0m, \u001b[33mList\u001b[0m(\u001b[32m4\u001b[0m)),\n",
       "  \u001b[33mFreqResult\u001b[0m(\u001b[32m97\u001b[0m, \u001b[33mList\u001b[0m(\u001b[32m3\u001b[0m)),\n",
       "  \u001b[33mFreqResult\u001b[0m(\u001b[32m99\u001b[0m, \u001b[33mList\u001b[0m(\u001b[32m1\u001b[0m)),\n",
       "\u001b[33m...\u001b[0m"
      ]
     },
     "metadata": {},
     "output_type": "display_data"
    }
   ],
   "source": [
    "test_FreqIndex.index\n",
    "test_FreqIndex.results(\"iowa\")"
   ]
  },
  {
   "cell_type": "code",
   "execution_count": null,
   "metadata": {
    "collapsed": true
   },
   "outputs": [],
   "source": []
  },
  {
   "cell_type": "code",
   "execution_count": 25,
   "metadata": {
    "collapsed": false
   },
   "outputs": [
    {
     "data": {
      "text/plain": [
       "\u001b[36mtest_InvertedIndex\u001b[0m: \u001b[32mindexing\u001b[0m.\u001b[32mInvertedIndex\u001b[0m.type = ch.ethz.dal.tinyir.indexing.InvertedIndex$@2d78cb8d"
      ]
     },
     "metadata": {},
     "output_type": "display_data"
    }
   ],
   "source": [
    "val test_InvertedIndex = indexing.InvertedIndex"
   ]
  },
  {
   "cell_type": "code",
   "execution_count": null,
   "metadata": {
    "collapsed": true
   },
   "outputs": [],
   "source": []
  },
  {
   "cell_type": "code",
   "execution_count": null,
   "metadata": {
    "collapsed": true
   },
   "outputs": [],
   "source": []
  },
  {
   "cell_type": "code",
   "execution_count": null,
   "metadata": {
    "collapsed": true
   },
   "outputs": [],
   "source": []
  },
  {
   "cell_type": "markdown",
   "metadata": {
    "collapsed": true
   },
   "source": [
    "#### creating list of files\n",
    "#### indexing => creating inverse index\n",
    "#### lectures(?) => look at scoring algorithms"
   ]
  },
  {
   "cell_type": "markdown",
   "metadata": {},
   "source": [
    "# Testing ground"
   ]
  },
  {
   "cell_type": "code",
   "execution_count": 26,
   "metadata": {
    "collapsed": false
   },
   "outputs": [
    {
     "name": "stdout",
     "output_type": "stream",
     "text": [
      "Used Memory:  466\n",
      "Free Memory:  373\n",
      "Total Memory: 839\n",
      "Max Memory:   3641\n"
     ]
    },
    {
     "data": {
      "text/plain": [
       "\u001b[36mmb\u001b[0m: \u001b[32mInt\u001b[0m = \u001b[32m1048576\u001b[0m\n",
       "\u001b[36mruntime\u001b[0m: \u001b[32mRuntime\u001b[0m = java.lang.Runtime@1e0eed7b"
      ]
     },
     "metadata": {},
     "output_type": "display_data"
    }
   ],
   "source": [
    "val mb = 1024*1024\n",
    "val runtime = Runtime.getRuntime\n",
    "println(s\"Used Memory:  \" + (runtime.totalMemory - runtime.freeMemory) / mb)\n",
    "println(s\"Free Memory:  \" + runtime.freeMemory / mb)\n",
    "println(s\"Total Memory: \" + runtime.totalMemory / mb)\n",
    "println(s\"Max Memory:   \" + runtime.maxMemory / mb)"
   ]
  },
  {
   "cell_type": "code",
   "execution_count": null,
   "metadata": {
    "collapsed": true
   },
   "outputs": [],
   "source": []
  }
 ],
 "metadata": {
  "anaconda-cloud": {},
  "kernelspec": {
   "display_name": "Scala 2.11",
   "language": "scala211",
   "name": "scala211"
  },
  "language_info": {
   "codemirror_mode": "text/x-scala",
   "file_extension": ".scala",
   "mimetype": "text/x-scala",
   "name": "scala211",
   "pygments_lexer": "scala",
   "version": "2.11.8"
  }
 },
 "nbformat": 4,
 "nbformat_minor": 1
}
