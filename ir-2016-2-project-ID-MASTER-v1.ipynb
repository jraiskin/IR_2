{
 "cells": [
  {
   "cell_type": "markdown",
   "metadata": {},
   "source": [
    "## Import modules"
   ]
  },
  {
   "cell_type": "markdown",
   "metadata": {},
   "source": [
    "Set your user name as a case, pointing to your path to documents and tinyir.jar"
   ]
  },
  {
   "cell_type": "code",
   "execution_count": 1,
   "metadata": {
    "collapsed": false,
    "scrolled": true
   },
   "outputs": [
    {
     "data": {
      "text/plain": [
       "\u001b[36mdoc_dir\u001b[0m: \u001b[32mString\u001b[0m = \u001b[32m\"../documents\"\u001b[0m\n",
       "\u001b[36mfiles_path\u001b[0m: \u001b[32mString\u001b[0m = \u001b[32m\"../\"\u001b[0m"
      ]
     },
     "metadata": {},
     "output_type": "display_data"
    }
   ],
   "source": [
    "// set your case once\n",
    "val (doc_dir: String, files_path: String) = System.getProperties().get(\"user.name\").toString match {\n",
    "    case \"Yarden-\"  => (\"../documents\", \"../\")\n",
    "    case \"Max\"  => (\"/Users/Max/Coding/ETH/Information_Retrieval_AS16/scala_practice/documents\", \"/Users/Max/Coding/ETH/Information_Retrieval_AS16/scala_practice/\")\n",
    "}"
   ]
  },
  {
   "cell_type": "code",
   "execution_count": 2,
   "metadata": {
    "collapsed": false
   },
   "outputs": [
    {
     "data": {
      "text/plain": []
     },
     "metadata": {},
     "output_type": "display_data"
    }
   ],
   "source": [
    "classpath.addPath(files_path + \"tinyir-1.1.jar\")"
   ]
  },
  {
   "cell_type": "code",
   "execution_count": 3,
   "metadata": {
    "collapsed": false,
    "scrolled": false
   },
   "outputs": [
    {
     "data": {
      "text/plain": [
       "\u001b[32mimport \u001b[36mscala.xml.XML\u001b[0m\n",
       "\u001b[32mimport \u001b[36mch.ethz.dal.tinyir._\u001b[0m\n",
       "\u001b[32mimport \u001b[36mcom.github.aztek.porterstemmer.PorterStemmer\u001b[0m"
      ]
     },
     "metadata": {},
     "output_type": "display_data"
    }
   ],
   "source": [
    "import scala.xml.XML\n",
    "import ch.ethz.dal.tinyir._\n",
    "import com.github.aztek.porterstemmer.PorterStemmer"
   ]
  },
  {
   "cell_type": "code",
   "execution_count": 4,
   "metadata": {
    "collapsed": false
   },
   "outputs": [
    {
     "data": {
      "text/plain": [
       "\u001b[32mimport \u001b[36mscala.io.Source\u001b[0m\n",
       "\u001b[32mimport \u001b[36mjava.io._\u001b[0m"
      ]
     },
     "metadata": {},
     "output_type": "display_data"
    }
   ],
   "source": [
    "import scala.io.Source  // for importing txt files\n",
    "import java.io._  // for saving txt files\n",
    "// import scala.collection.mutable.HashMap  //HashMap used for counting elements in linear time"
   ]
  },
  {
   "cell_type": "code",
   "execution_count": 5,
   "metadata": {
    "collapsed": false
   },
   "outputs": [
    {
     "data": {
      "text/plain": [
       "\u001b[32mimport \u001b[36mscala.collection.mutable.{Map => MutMap, HashMap => MutHashMap}\u001b[0m\n",
       "\u001b[32mimport \u001b[36mscala.collection.mutable.{Set => MutSet}\u001b[0m"
      ]
     },
     "metadata": {},
     "output_type": "display_data"
    }
   ],
   "source": [
    "// import scala.util.Random\n",
    "import scala.collection.mutable.{Map => MutMap, HashMap => MutHashMap}\n",
    "// enables \"mutable lists\"\n",
    "// import scala.collection.mutable.ListBuffer  \n",
    "import scala.collection.mutable.{Set => MutSet}"
   ]
  },
  {
   "cell_type": "code",
   "execution_count": 6,
   "metadata": {
    "collapsed": false
   },
   "outputs": [
    {
     "data": {
      "text/plain": [
       "\u001b[36mtimeit\u001b[0m: \u001b[32mutil\u001b[0m.\u001b[32mStopWatch\u001b[0m = ch.ethz.dal.tinyir.util.StopWatch@2cc9d4aa"
      ]
     },
     "metadata": {},
     "output_type": "display_data"
    }
   ],
   "source": [
    "val timeit = new util.StopWatch"
   ]
  },
  {
   "cell_type": "markdown",
   "metadata": {},
   "source": [
    "## Define classes and functions"
   ]
  },
  {
   "cell_type": "code",
   "execution_count": 7,
   "metadata": {
    "collapsed": false
   },
   "outputs": [
    {
     "data": {
      "text/plain": [
       "defined \u001b[32mfunction \u001b[36mtoken_filter\u001b[0m"
      ]
     },
     "metadata": {},
     "output_type": "display_data"
    }
   ],
   "source": [
    "def token_filter(text_body: String) = {\n",
    "    processing.StopWords.filterOutSW(\n",
    "        processing.Tokenizer.tokenize(text_body.\n",
    "                                      replaceAll(\"\\\\P{L}+\", \" \"))\n",
    "    ).\n",
    "    map(x => PorterStemmer.stem(x)).filter(_.trim.nonEmpty).toList\n",
    "}"
   ]
  },
  {
   "cell_type": "code",
   "execution_count": 8,
   "metadata": {
    "collapsed": false,
    "scrolled": false
   },
   "outputs": [
    {
     "data": {
      "text/plain": [
       "defined \u001b[32mclass \u001b[36mxml_doc\u001b[0m"
      ]
     },
     "metadata": {},
     "output_type": "display_data"
    }
   ],
   "source": [
    "class xml_doc (file_path: String) {\n",
    "    def get_doc(): xml.Elem = {\n",
    "        XML.loadFile(file_path: String)\n",
    "    }    \n",
    "    \n",
    "    def text() = {\n",
    "        (get_doc() \\\\ \"DOC\" \\\\ \"TEXT\").text\n",
    "    }\n",
    "    \n",
    "    def head() = {\n",
    "        (get_doc() \\\\ \"DOC\" \\\\ \"HEAD\").text\n",
    "    }\n",
    "\n",
    "    def id() = {\n",
    "        (get_doc() \\\\ \"DOC\" \\\\ \"DOCNO\").text.trim\n",
    "    }\n",
    "    \n",
    "    def tokens() = {\n",
    "        token_filter(head() ++ text())\n",
    "    }\n",
    "    \n",
    "    def hash_tokens() = {\n",
    "        tokens().map(x => x.hashCode())\n",
    "    }\n",
    "}"
   ]
  },
  {
   "cell_type": "code",
   "execution_count": 9,
   "metadata": {
    "collapsed": false
   },
   "outputs": [
    {
     "data": {
      "text/plain": [
       "defined \u001b[32mfunction \u001b[36mlist_docs\u001b[0m\n",
       "\u001b[36mnumPattern\u001b[0m: \u001b[32mscala\u001b[0m.\u001b[32mutil\u001b[0m.\u001b[32mmatching\u001b[0m.\u001b[32mRegex\u001b[0m = [0-9]+"
      ]
     },
     "metadata": {},
     "output_type": "display_data"
    }
   ],
   "source": [
    "def list_docs (path: String) = {  // : Array[java.io.File]\n",
    "        new java.io.File(path).listFiles.map(x => x.toString())\n",
    "    }\n",
    "val numPattern = \"[0-9]+\".r"
   ]
  },
  {
   "cell_type": "code",
   "execution_count": 10,
   "metadata": {
    "collapsed": false
   },
   "outputs": [
    {
     "data": {
      "text/plain": [
       "\u001b[36mtoken_hash\u001b[0m: \u001b[32mcollection\u001b[0m.\u001b[32mmutable\u001b[0m.\u001b[32mHashMap\u001b[0m[\u001b[32mString\u001b[0m, \u001b[32mInt\u001b[0m] = \u001b[33mMap\u001b[0m()\n",
       "defined \u001b[32mfunction \u001b[36mcreate_hash_doc_subset\u001b[0m"
      ]
     },
     "metadata": {},
     "output_type": "display_data"
    }
   ],
   "source": [
    "val token_hash = MutHashMap[String, Int]() // token -> hash\n",
    "\n",
    "def create_hash_doc_subset(star_count: Int, end_count: Int,\n",
    "                           file_list: Array[String],\n",
    "                           token_hash_map: MutHashMap[String, Int] = token_hash) = {\n",
    "    val id_htoken = MutHashMap[Int, List[Int]]() // forward index, docID to tokens\n",
    "    val htoken_id = MutHashMap[Int, List[Int]]()  // inverse index, tokens to docID\n",
    "    val id_name = MutHashMap[Int, String]()  // inverse index, tokens to docID\n",
    "    val name_id = MutHashMap[String, Int]()  // inverse index, tokens to docID\n",
    "    var counter = star_count\n",
    "    while (counter < end_count){\n",
    "        var cur_doc = new xml_doc(file_list(counter))\n",
    "        // get token from XML, then hash, or create hashes \"on the fly\"\n",
    "        var cur_htoken = cur_doc.tokens.map(x => token_hash_map.getOrElseUpdate(x, token_hash_map.size))\n",
    "        id_htoken += counter -> cur_htoken\n",
    "        \n",
    "        // update the inverse mapping, from (hashed) tokens to docID\n",
    "        cur_htoken.distinct.foreach(\n",
    "            (token: Int) => htoken_id(token) = htoken_id.getOrElseUpdate(token, List[Int]()) ++ List(counter)\n",
    "        )\n",
    "        \n",
    "        id_name(counter) = cur_doc.id\n",
    "        name_id(cur_doc.id) = counter\n",
    "        \n",
    "        counter += 1\n",
    "        if (counter % 100 == 0) println(s\"iteration $counter\")\n",
    "    }\n",
    "    (id_htoken, htoken_id, token_hash_map, id_name, name_id)\n",
    "}"
   ]
  },
  {
   "cell_type": "code",
   "execution_count": 11,
   "metadata": {
    "collapsed": false,
    "scrolled": true
   },
   "outputs": [
    {
     "data": {
      "text/plain": [
       "defined \u001b[32mfunction \u001b[36mwrite_int_to_intList\u001b[0m\n",
       "defined \u001b[32mfunction \u001b[36mwrite_int_string\u001b[0m\n",
       "defined \u001b[32mfunction \u001b[36mwrite_string_int\u001b[0m\n",
       "defined \u001b[32mfunction \u001b[36mwrite_int_to_int\u001b[0m"
      ]
     },
     "metadata": {},
     "output_type": "display_data"
    }
   ],
   "source": [
    "def write_int_to_intList(data: MutHashMap[Int, List[Int]], filename: String) = {\n",
    "\n",
    "    val bw = new BufferedWriter(new FileWriter(new File(filename)))\n",
    "    val iter = data.keys.iterator\n",
    "    while(iter.hasNext){\n",
    "        var elem = iter.next()\n",
    "        var values = data(elem).toList\n",
    "//         if(values.length>0){\n",
    "            bw.write(elem+\" \"+values.mkString(\" \"))\n",
    "            bw.newLine\n",
    "//         }    \n",
    "    }   \n",
    "    bw.close()\n",
    "}\n",
    "\n",
    "def write_int_string(data: MutHashMap[Int, String], filename: String) = {\n",
    "\n",
    "    val bw = new BufferedWriter(new FileWriter(new File(filename)))\n",
    "    val iter = data.keys.iterator\n",
    "    while(iter.hasNext){\n",
    "        var elem = iter.next()\n",
    "        var values = data(elem).toList\n",
    "        if(values.length>0){\n",
    "            bw.write(elem+\" \"+values.mkString(\"\"))\n",
    "            bw.newLine\n",
    "        }    \n",
    "    }   \n",
    "    bw.close()\n",
    "}\n",
    "\n",
    "def write_string_int(data: MutHashMap[String, Int], filename: String) = {\n",
    "\n",
    "    val bw = new BufferedWriter(new FileWriter(new File(filename)))\n",
    "    val iter = data.keys.iterator\n",
    "    while(iter.hasNext){\n",
    "        var elem = iter.next()\n",
    "        bw.write(elem+\" \"+data(elem).toString)\n",
    "        bw.newLine\n",
    "    }   \n",
    "    bw.close()\n",
    "}\n",
    "\n",
    "def write_int_to_int(data: MutHashMap[Int, Int], filename: String) = {\n",
    "\n",
    "    val bw = new BufferedWriter(new FileWriter(new File(filename)))\n",
    "    val iter = data.keys.iterator\n",
    "    while(iter.hasNext){\n",
    "        var elem = iter.next()\n",
    "        var value = data(elem)\n",
    "            bw.write(elem+\" \"+value)\n",
    "            bw.newLine\n",
    "    }   \n",
    "    bw.close()\n",
    "}"
   ]
  },
  {
   "cell_type": "code",
   "execution_count": 12,
   "metadata": {
    "collapsed": false
   },
   "outputs": [
    {
     "data": {
      "text/plain": [
       "defined \u001b[32mfunction \u001b[36mload_mutmap_int_intList\u001b[0m\n",
       "defined \u001b[32mfunction \u001b[36mload_mutmap_int_string\u001b[0m\n",
       "defined \u001b[32mfunction \u001b[36mload_mutmap_string_int\u001b[0m\n",
       "defined \u001b[32mfunction \u001b[36mload_mutmap_int_int\u001b[0m"
      ]
     },
     "metadata": {},
     "output_type": "display_data"
    }
   ],
   "source": [
    "def load_mutmap_int_intList(path: String, mutmap: MutHashMap[Int, List[Int]]) = {\n",
    "    val lines = Source.fromFile(path).getLines.toList\n",
    "    for (line <- lines){\n",
    "        val line_split = line.split(\" \", -1).filter(_.trim.length > 0)\n",
    "        mutmap(line_split.head.toInt) = \n",
    "            line_split.tail.map(x => x.toInt).toList\n",
    "    }\n",
    "}\n",
    "\n",
    "def load_mutmap_int_string(path: String, mutmap: MutHashMap[Int, String]) = {\n",
    "    val lines = Source.fromFile(path).getLines.toList\n",
    "    for (line <- lines){\n",
    "        val line_split = line.split(\" \") // .filter(_.trim.length > 0)\n",
    "        mutmap(line_split.head.toInt) = \n",
    "            line_split.last\n",
    "    }\n",
    "}\n",
    "\n",
    "def load_mutmap_string_int(path: String, mutmap: MutHashMap[String, Int]) = {\n",
    "    val lines = Source.fromFile(path).getLines.toList\n",
    "    for (line <- lines){\n",
    "//         val line_split = line.split(\" \", -1)\n",
    "        val line_split = line.split(\" \") // .filter(_.trim.length > 0)\n",
    "        mutmap(line_split.head) = \n",
    "            line_split.last.toInt\n",
    "    }\n",
    "}\n",
    "\n",
    "def load_mutmap_int_int(path: String, mutmap: MutHashMap[Int, Int]) = {\n",
    "    val lines = Source.fromFile(path).getLines.toList\n",
    "    for (line <- lines){\n",
    "        val line_split = line.split(\" \", -1).filter(_.trim.length > 0)\n",
    "        mutmap(line_split.head.toInt) = \n",
    "            line_split.last.toInt\n",
    "    }\n",
    "}"
   ]
  },
  {
   "cell_type": "code",
   "execution_count": 13,
   "metadata": {
    "collapsed": false
   },
   "outputs": [
    {
     "data": {
      "text/plain": [
       "\u001b[36mmb\u001b[0m: \u001b[32mInt\u001b[0m = \u001b[32m1048576\u001b[0m\n",
       "\u001b[36mruntime\u001b[0m: \u001b[32mRuntime\u001b[0m = java.lang.Runtime@57d4801f\n",
       "defined \u001b[32mfunction \u001b[36mprint_memory\u001b[0m"
      ]
     },
     "metadata": {},
     "output_type": "display_data"
    }
   ],
   "source": [
    "val mb = 1024*1024\n",
    "val runtime = Runtime.getRuntime\n",
    "def print_memory() = {\n",
    "    println(s\"Used Memory:  \" + (runtime.totalMemory - runtime.freeMemory) / mb)\n",
    "    println(s\"Free Memory:  \" + runtime.freeMemory / mb)\n",
    "    println(s\"Total Memory: \" + runtime.totalMemory / mb)\n",
    "    println(s\"Max Memory:   \" + runtime.maxMemory / mb)\n",
    "}"
   ]
  },
  {
   "cell_type": "code",
   "execution_count": 14,
   "metadata": {
    "collapsed": false,
    "scrolled": true
   },
   "outputs": [
    {
     "data": {
      "text/plain": [
       "\u001b[36mtrain_list\u001b[0m: \u001b[32mArray\u001b[0m[\u001b[32mString\u001b[0m] = \u001b[33mArray\u001b[0m(\n",
       "  \u001b[32m\"\"\"\n",
       "..\\documents\\AP880212-0006\n",
       "  \"\"\"\u001b[0m,\n",
       "  \u001b[32m\"\"\"\n",
       "..\\documents\\AP880212-0007\n",
       "  \"\"\"\u001b[0m,\n",
       "  \u001b[32m\"\"\"\n",
       "..\\documents\\AP880212-0009\n",
       "  \"\"\"\u001b[0m,\n",
       "  \u001b[32m\"\"\"\n",
       "..\\documents\\AP880212-0017\n",
       "  \"\"\"\u001b[0m,\n",
       "  \u001b[32m\"\"\"\n",
       "..\\documents\\AP880212-0018\n",
       "  \"\"\"\u001b[0m,\n",
       "  \u001b[32m\"\"\"\n",
       "..\\documents\\AP880212-0022\n",
       "  \"\"\"\u001b[0m,\n",
       "  \u001b[32m\"\"\"\n",
       "\u001b[33m...\u001b[0m"
      ]
     },
     "metadata": {},
     "output_type": "display_data"
    }
   ],
   "source": [
    "val train_list = list_docs(doc_dir)"
   ]
  },
  {
   "cell_type": "code",
   "execution_count": 15,
   "metadata": {
    "collapsed": false
   },
   "outputs": [
    {
     "data": {
      "text/plain": [
       "\u001b[36mPATH_id_htoken\u001b[0m: \u001b[32mString\u001b[0m = \u001b[32m\"../id_htoken.txt\"\u001b[0m\n",
       "\u001b[36mPATH_htoken_id\u001b[0m: \u001b[32mString\u001b[0m = \u001b[32m\"../htoken_id.txt\"\u001b[0m\n",
       "\u001b[36mPATH_id_name\u001b[0m: \u001b[32mString\u001b[0m = \u001b[32m\"../id_name.txt\"\u001b[0m\n",
       "\u001b[36mPATH_name_id\u001b[0m: \u001b[32mString\u001b[0m = \u001b[32m\"../name_id.txt\"\u001b[0m\n",
       "\u001b[36mPATH_token_hash\u001b[0m: \u001b[32mString\u001b[0m = \u001b[32m\"../token_hash.txt\"\u001b[0m\n",
       "\u001b[36mPATH_prun_htoken_collectfreq\u001b[0m: \u001b[32mString\u001b[0m = \u001b[32m\"../prun_htoken_collectfreq.txt\"\u001b[0m\n",
       "\u001b[36mPATH_prun_htoken_id\u001b[0m: \u001b[32mString\u001b[0m = \u001b[32m\"../prun_htoken_id.txt\"\u001b[0m\n",
       "\u001b[36mPATH_prun_id_htoken\u001b[0m: \u001b[32mString\u001b[0m = \u001b[32m\"../prun_id_htoken.txt\"\u001b[0m"
      ]
     },
     "metadata": {},
     "output_type": "display_data"
    }
   ],
   "source": [
    "val PATH_id_htoken = files_path + \"id_htoken.txt\"\n",
    "val PATH_htoken_id = files_path + \"htoken_id.txt\"\n",
    "val PATH_id_name = files_path + \"id_name.txt\"\n",
    "val PATH_name_id = files_path + \"name_id.txt\"\n",
    "val PATH_token_hash = files_path + \"token_hash.txt\"\n",
    "\n",
    "val PATH_prun_htoken_collectfreq = files_path + \"prun_htoken_collectfreq.txt\"\n",
    "val PATH_prun_htoken_id = files_path + \"prun_htoken_id.txt\"\n",
    "val PATH_prun_id_htoken = files_path + \"prun_id_htoken.txt\""
   ]
  },
  {
   "cell_type": "markdown",
   "metadata": {},
   "source": [
    "# Importing data files and creating maps\n",
    "# # not run"
   ]
  },
  {
   "cell_type": "code",
   "execution_count": null,
   "metadata": {
    "collapsed": false,
    "scrolled": true
   },
   "outputs": [],
   "source": [
    "// time it\n",
    "timeit.start\n",
    "\n",
    "val (id_htoken, htoken_id, token_hash, \n",
    "     id_name, name_id) = create_hash_doc_subset(0, 100000, train_list)"
   ]
  },
  {
   "cell_type": "code",
   "execution_count": null,
   "metadata": {
    "collapsed": false
   },
   "outputs": [],
   "source": [
    "// time it\n",
    "timeit.uptonow / 60.0\n",
    "// 87.56585954758334 , in minutes with 6GB\n",
    "// 67.88821773650001 , in minutes with 7GB"
   ]
  },
  {
   "cell_type": "code",
   "execution_count": null,
   "metadata": {
    "collapsed": false
   },
   "outputs": [],
   "source": [
    "print_memory()\n",
    "\n",
    "// Used Memory:  3981\n",
    "// Free Memory:  1814\n",
    "// Total Memory: 5796\n",
    "// Max Memory:   5796"
   ]
  },
  {
   "cell_type": "markdown",
   "metadata": {},
   "source": [
    "## Save to file"
   ]
  },
  {
   "cell_type": "code",
   "execution_count": null,
   "metadata": {
    "collapsed": false
   },
   "outputs": [],
   "source": [
    "write_int_to_intList(id_htoken, PATH_id_htoken)"
   ]
  },
  {
   "cell_type": "code",
   "execution_count": null,
   "metadata": {
    "collapsed": false
   },
   "outputs": [],
   "source": [
    "write_int_to_intList(htoken_id, PATH_htoken_id)"
   ]
  },
  {
   "cell_type": "code",
   "execution_count": null,
   "metadata": {
    "collapsed": false
   },
   "outputs": [],
   "source": [
    "write_int_string(id_name, PATH_id_name)"
   ]
  },
  {
   "cell_type": "code",
   "execution_count": null,
   "metadata": {
    "collapsed": false
   },
   "outputs": [],
   "source": [
    "write_string_int(name_id, PATH_name_id)"
   ]
  },
  {
   "cell_type": "code",
   "execution_count": null,
   "metadata": {
    "collapsed": false,
    "scrolled": true
   },
   "outputs": [],
   "source": [
    "write_string_int(token_hash, PATH_token_hash)"
   ]
  },
  {
   "cell_type": "markdown",
   "metadata": {},
   "source": [
    "## Load from file"
   ]
  },
  {
   "cell_type": "code",
   "execution_count": null,
   "metadata": {
    "collapsed": false
   },
   "outputs": [],
   "source": [
    "// time it\n",
    "timeit.start\n",
    "\n",
    "val id_htoken: MutHashMap[Int, List[Int]] = MutHashMap[Int, List[Int]]()\n",
    "val htoken_id: MutHashMap[Int, List[Int]] = MutHashMap[Int, List[Int]]()\n",
    "val id_name: MutHashMap[Int, String] = MutHashMap[Int, String]()\n",
    "val token_hash: MutHashMap[String, Int] = MutHashMap[String, Int]()\n",
    "val name_id: MutHashMap[String, Int] = MutHashMap[String, Int]()"
   ]
  },
  {
   "cell_type": "code",
   "execution_count": null,
   "metadata": {
    "collapsed": false,
    "scrolled": true
   },
   "outputs": [],
   "source": [
    "load_mutmap_int_intList(PATH_id_htoken, id_htoken)\n",
    "load_mutmap_int_intList(PATH_htoken_id, htoken_id)\n",
    "load_mutmap_int_string(PATH_id_name, id_name)\n",
    "load_mutmap_string_int(PATH_token_hash, token_hash)\n",
    "load_mutmap_string_int(PATH_name_id, name_id)\n",
    "\n",
    "// confirm load successful\n",
    "// test_load_mutmap_id_htoken == id_htoken\n",
    "// test_load_mutmap_htoken_id == htoken_id\n",
    "// test_load_mutmap_id_name == id_name\n",
    "// test_load_mutmap_token_hash == token_hash\n",
    "// test_load_mutmap_name_id == name_id"
   ]
  },
  {
   "cell_type": "code",
   "execution_count": null,
   "metadata": {
    "collapsed": false
   },
   "outputs": [],
   "source": [
    "// time it\n",
    "timeit.uptonow / 60.0\n",
    "// 1.4485827969833334 , in minutes\n",
    "// 1.3195113773833334 , in minutes"
   ]
  },
  {
   "cell_type": "code",
   "execution_count": null,
   "metadata": {
    "collapsed": false
   },
   "outputs": [],
   "source": [
    "print_memory()\n",
    "\n",
    "// Used Memory:  3468\n",
    "// Free Memory:  649\n",
    "// Total Memory: 4117\n",
    "// Max Memory:   5461"
   ]
  },
  {
   "cell_type": "markdown",
   "metadata": {},
   "source": [
    "## Prune vocabulary, collection and document frequencies"
   ]
  },
  {
   "cell_type": "code",
   "execution_count": null,
   "metadata": {
    "collapsed": false,
    "scrolled": true
   },
   "outputs": [],
   "source": [
    "// htoken_id.mapValues(v => v.length).size\n",
    "// 1356183\n",
    "// htoken_id.mapValues(v => v.length).filter(_._2 > 5 - 1).size\n",
    "// 176866\n",
    "// reduction factor of ~7.67\n",
    "\n",
    "val prun_threshold = 5\n",
    "val pruned_token_set = htoken_id.mapValues(v => v.length).\n",
    "    filter(_._2 > prun_threshold - 1).keys.toSet"
   ]
  },
  {
   "cell_type": "code",
   "execution_count": null,
   "metadata": {
    "collapsed": false,
    "scrolled": false
   },
   "outputs": [],
   "source": [
    "// time it\n",
    "timeit.start\n",
    "\n",
    "val prun_htoken_collectfreq: MutHashMap[Int, Int] = \n",
    "    MutHashMap(\n",
    "        id_htoken.flatMap{ case (k,v) => v.filter(pruned_token_set.contains(_)) }.\n",
    "        groupBy(identity).mapValues(_.size)\n",
    "        .toSeq:_*)\n",
    "\n",
    "prun_htoken_collectfreq.size\n",
    "\n",
    "timeit.uptonow / 60.0\n",
    "// 7.0919255263  , in minutes\n",
    "// 0.39257662956666667 , in minutes"
   ]
  },
  {
   "cell_type": "code",
   "execution_count": null,
   "metadata": {
    "collapsed": false,
    "scrolled": true
   },
   "outputs": [],
   "source": [
    "// time it\n",
    "timeit.start\n",
    "\n",
    "val prun_htoken_id: MutHashMap[Int, List[Int]] = \n",
    "    MutHashMap(\n",
    "        htoken_id.filterKeys(\n",
    "            pruned_token_set.contains(_)\n",
    "        ).toSeq:_*)\n",
    "\n",
    "prun_htoken_id.size\n",
    "\n",
    "timeit.uptonow / 60.0\n",
    "// 0.012546176999999999 , in minutes"
   ]
  },
  {
   "cell_type": "code",
   "execution_count": null,
   "metadata": {
    "collapsed": false
   },
   "outputs": [],
   "source": [
    "// time it\n",
    "timeit.start\n",
    "\n",
    "val prun_id_htoken: MutHashMap[Int, List[Int]] = \n",
    "    MutHashMap(\n",
    "//         id_htoken.flatMap{ case (k,v) => (k, v.filter(pruned_token_set.contains(_))) }.\n",
    "        id_htoken.mapValues{ v => v.filter(pruned_token_set.contains(_)) }.\n",
    "        toSeq:_*)\n",
    "\n",
    "prun_id_htoken.size\n",
    "\n",
    "timeit.uptonow / 60.0\n",
    "// 0.20076514550000002 , in minutes"
   ]
  },
  {
   "cell_type": "markdown",
   "metadata": {},
   "source": [
    "## Save pruned results to file"
   ]
  },
  {
   "cell_type": "code",
   "execution_count": null,
   "metadata": {
    "collapsed": false
   },
   "outputs": [],
   "source": [
    "write_int_to_int(prun_htoken_collectfreq, PATH_prun_htoken_collectfreq)"
   ]
  },
  {
   "cell_type": "code",
   "execution_count": null,
   "metadata": {
    "collapsed": false
   },
   "outputs": [],
   "source": [
    "write_int_to_intList(prun_htoken_id, PATH_prun_htoken_id)"
   ]
  },
  {
   "cell_type": "code",
   "execution_count": null,
   "metadata": {
    "collapsed": false
   },
   "outputs": [],
   "source": [
    "write_int_to_intList(prun_id_htoken, PATH_prun_id_htoken)"
   ]
  },
  {
   "cell_type": "markdown",
   "metadata": {},
   "source": [
    "## Load maps (pruned)\n",
    "## # strat from here"
   ]
  },
  {
   "cell_type": "code",
   "execution_count": 16,
   "metadata": {
    "collapsed": false
   },
   "outputs": [
    {
     "data": {
      "text/plain": [
       "\u001b[36mprun_htoken_collectfreq\u001b[0m: \u001b[32mcollection\u001b[0m.\u001b[32mmutable\u001b[0m.\u001b[32mHashMap\u001b[0m[\u001b[32mInt\u001b[0m, \u001b[32mInt\u001b[0m] = \u001b[33mMap\u001b[0m()\n",
       "\u001b[36mprun_id_htoken\u001b[0m: \u001b[32mcollection\u001b[0m.\u001b[32mmutable\u001b[0m.\u001b[32mHashMap\u001b[0m[\u001b[32mInt\u001b[0m, \u001b[32mList\u001b[0m[\u001b[32mInt\u001b[0m]] = \u001b[33mMap\u001b[0m()\n",
       "\u001b[36mprun_htoken_id\u001b[0m: \u001b[32mcollection\u001b[0m.\u001b[32mmutable\u001b[0m.\u001b[32mHashMap\u001b[0m[\u001b[32mInt\u001b[0m, \u001b[32mList\u001b[0m[\u001b[32mInt\u001b[0m]] = \u001b[33mMap\u001b[0m()\n",
       "\u001b[36mid_name\u001b[0m: \u001b[32mcollection\u001b[0m.\u001b[32mmutable\u001b[0m.\u001b[32mHashMap\u001b[0m[\u001b[32mInt\u001b[0m, \u001b[32mString\u001b[0m] = \u001b[33mMap\u001b[0m()\n",
       "\u001b[36mtoken_hash\u001b[0m: \u001b[32mcollection\u001b[0m.\u001b[32mmutable\u001b[0m.\u001b[32mHashMap\u001b[0m[\u001b[32mString\u001b[0m, \u001b[32mInt\u001b[0m] = \u001b[33mMap\u001b[0m()\n",
       "\u001b[36mname_id\u001b[0m: \u001b[32mcollection\u001b[0m.\u001b[32mmutable\u001b[0m.\u001b[32mHashMap\u001b[0m[\u001b[32mString\u001b[0m, \u001b[32mInt\u001b[0m] = \u001b[33mMap\u001b[0m()"
      ]
     },
     "metadata": {},
     "output_type": "display_data"
    }
   ],
   "source": [
    "// time it\n",
    "timeit.start\n",
    "\n",
    "val prun_htoken_collectfreq: MutHashMap[Int, Int] = MutHashMap[Int, Int]()\n",
    "val prun_id_htoken: MutHashMap[Int, List[Int]] = MutHashMap[Int, List[Int]]()\n",
    "val prun_htoken_id: MutHashMap[Int, List[Int]] = MutHashMap[Int, List[Int]]()\n",
    "val id_name: MutHashMap[Int, String] = MutHashMap[Int, String]()\n",
    "val token_hash: MutHashMap[String, Int] = MutHashMap[String, Int]()\n",
    "val name_id: MutHashMap[String, Int] = MutHashMap[String, Int]()"
   ]
  },
  {
   "cell_type": "code",
   "execution_count": 17,
   "metadata": {
    "collapsed": false,
    "scrolled": true
   },
   "outputs": [
    {
     "data": {
      "text/plain": []
     },
     "metadata": {},
     "output_type": "display_data"
    }
   ],
   "source": [
    "load_mutmap_int_int(PATH_prun_htoken_collectfreq, prun_htoken_collectfreq)\n",
    "load_mutmap_int_intList(PATH_prun_id_htoken, prun_id_htoken)\n",
    "load_mutmap_int_intList(PATH_prun_htoken_id, prun_htoken_id)\n",
    "load_mutmap_int_string(PATH_id_name, id_name)\n",
    "load_mutmap_string_int(PATH_token_hash, token_hash)\n",
    "load_mutmap_string_int(PATH_name_id, name_id)"
   ]
  },
  {
   "cell_type": "code",
   "execution_count": 18,
   "metadata": {
    "collapsed": false
   },
   "outputs": [
    {
     "data": {
      "text/plain": [
       "\u001b[36mres17\u001b[0m: \u001b[32mDouble\u001b[0m = \u001b[32m2.9623310249999997\u001b[0m"
      ]
     },
     "metadata": {},
     "output_type": "display_data"
    }
   ],
   "source": [
    "// time it\n",
    "timeit.uptonow / 60.0\n",
    "// 2.1530588158666664 , in minutes"
   ]
  },
  {
   "cell_type": "code",
   "execution_count": 19,
   "metadata": {
    "collapsed": false
   },
   "outputs": [
    {
     "name": "stdout",
     "output_type": "stream",
     "text": [
      "Used Memory:  3249\n",
      "Free Memory:  864\n",
      "Total Memory: 4114\n",
      "Max Memory:   5461\n"
     ]
    },
    {
     "data": {
      "text/plain": []
     },
     "metadata": {},
     "output_type": "display_data"
    }
   ],
   "source": [
    "print_memory()\n",
    "\n",
    "// Used Memory:  2569\n",
    "// Free Memory:  1782\n",
    "// Total Memory: 4352\n",
    "// Max Memory:   5461"
   ]
  },
  {
   "cell_type": "markdown",
   "metadata": {},
   "source": [
    "# Queries & Truth"
   ]
  },
  {
   "cell_type": "code",
   "execution_count": 20,
   "metadata": {
    "collapsed": false
   },
   "outputs": [
    {
     "data": {
      "text/plain": [
       "\u001b[32mimport \u001b[36mch.ethz.dal.tinyir.lectures._\u001b[0m\n",
       "\u001b[36mtruth\u001b[0m: \u001b[32mlectures\u001b[0m.\u001b[32mTipsterGroundTruth\u001b[0m = ch.ethz.dal.tinyir.lectures.TipsterGroundTruth@7ee3e1cd\n",
       "\u001b[36mres19_2\u001b[0m: \u001b[32mArray\u001b[0m[\u001b[32mString\u001b[0m] = \u001b[33mArray\u001b[0m(\n",
       "  \u001b[32m\"AP8803010271\"\u001b[0m,\n",
       "  \u001b[32m\"AP8803020275\"\u001b[0m,\n",
       "  \u001b[32m\"AP8803110301\"\u001b[0m,\n",
       "  \u001b[32m\"AP8803160292\"\u001b[0m,\n",
       "  \u001b[32m\"AP8803180287\"\u001b[0m,\n",
       "  \u001b[32m\"AP8803250293\"\u001b[0m,\n",
       "  \u001b[32m\"AP8804060267\"\u001b[0m,\n",
       "  \u001b[32m\"AP8804070258\"\u001b[0m,\n",
       "  \u001b[32m\"AP8804120268\"\u001b[0m,\n",
       "  \u001b[32m\"AP8804280301\"\u001b[0m,\n",
       "  \u001b[32m\"AP8806270045\"\u001b[0m,\n",
       "  \u001b[32m\"AP8806270093\"\u001b[0m,\n",
       "  \u001b[32m\"AP8806280097\"\u001b[0m,\n",
       "  \u001b[32m\"AP8806280170\"\u001b[0m,\n",
       "  \u001b[32m\"AP8806280310\"\u001b[0m,\n",
       "  \u001b[32m\"AP8807060311\"\u001b[0m,\n",
       "  \u001b[32m\"AP8807310085\"\u001b[0m,\n",
       "  \u001b[32m\"AP8809220206\"\u001b[0m,\n",
       "  \u001b[32m\"AP8809260235\"\u001b[0m,\n",
       "\u001b[33m...\u001b[0m\n",
       "\u001b[36mres19_3\u001b[0m: \u001b[32mInt\u001b[0m = \u001b[32m52\u001b[0m\n",
       "\u001b[36mres19_4\u001b[0m: \u001b[32mInt\u001b[0m = \u001b[32m894\u001b[0m"
      ]
     },
     "metadata": {},
     "output_type": "display_data"
    }
   ],
   "source": [
    "// requires: having added tinyir to classpath, having added the qrels, i.e. \"relevance-judgements.csv\" in root \n",
    "// builds truth, an object, whose only method .judgements(\"query-ID\") returns the set of all document-IDs deemed \n",
    "// relevant to that query, note that these document-IDs are provided as List[String]\n",
    "// observe that query-ID is a string of an integer between 51 and 90 -> 40 queries in total\n",
    "import ch.ethz.dal.tinyir.lectures._\n",
    "val truth = new TipsterGroundTruth(files_path + \"/relevance-judgements.csv\")\n",
    "\n",
    "// how to use it, example:\n",
    "truth.judgements(\"51\")\n",
    "// observe that the size of relevant documents varies between queries, with the minimum being 52 and the maximum 894\n",
    "truth.judgements.values.map(x => x.size).min\n",
    "truth.judgements.values.map(x => x.size).max"
   ]
  },
  {
   "cell_type": "code",
   "execution_count": 58,
   "metadata": {
    "collapsed": false
   },
   "outputs": [
    {
     "data": {
      "text/plain": [
       "\u001b[36mtitle\u001b[0m: \u001b[32mList\u001b[0m[\u001b[32mString\u001b[0m] = \u001b[33mList\u001b[0m(\n",
       "  \u001b[32m\"Airbus Subsidies\"\u001b[0m,\n",
       "  \u001b[32m\"South African Sanctions\"\u001b[0m,\n",
       "  \u001b[32m\"Leveraged Buyouts  \"\u001b[0m,\n",
       "  \u001b[32m\"Satellite Launch Contracts\"\u001b[0m,\n",
       "  \u001b[32m\"Insider Trading\"\u001b[0m,\n",
       "  \u001b[32m\"Prime (Lending) Rate Moves, Predictions\"\u001b[0m,\n",
       "  \u001b[32m\"MCI\"\u001b[0m,\n",
       "  \u001b[32m\"Rail Strikes\"\u001b[0m,\n",
       "  \u001b[32m\"Weather Related Fatalities\"\u001b[0m,\n",
       "  \u001b[32m\"Merit-Pay vs. Seniority\"\u001b[0m,\n",
       "  \u001b[32m\"Israeli Role in Iran-Contra Affair\"\u001b[0m,\n",
       "  \u001b[32m\"Military Coups D'etat\"\u001b[0m,\n",
       "  \u001b[32m\"Machine Translation\"\u001b[0m,\n",
       "  \u001b[32m\"Hostage-Taking\"\u001b[0m,\n",
       "  \u001b[32m\"Information Retrieval Systems\"\u001b[0m,\n",
       "  \u001b[32m\"Natural Language Processing\"\u001b[0m,\n",
       "  \u001b[32m\"Politically Motivated Civil Disturbances\"\u001b[0m,\n",
       "  \u001b[32m\"Health Hazards from Fine-Diameter Fibers\"\u001b[0m,\n",
       "  \u001b[32m\"Attempts to Revive the SALT II Treaty\"\u001b[0m,\n",
       "\u001b[33m...\u001b[0m\n",
       "\u001b[36mnum\u001b[0m: \u001b[32mList\u001b[0m[\u001b[32mString\u001b[0m] = \u001b[33mList\u001b[0m(\n",
       "  \u001b[32m\"51\"\u001b[0m,\n",
       "  \u001b[32m\"52\"\u001b[0m,\n",
       "  \u001b[32m\"53\"\u001b[0m,\n",
       "  \u001b[32m\"54\"\u001b[0m,\n",
       "  \u001b[32m\"55\"\u001b[0m,\n",
       "  \u001b[32m\"56\"\u001b[0m,\n",
       "  \u001b[32m\"57\"\u001b[0m,\n",
       "  \u001b[32m\"58\"\u001b[0m,\n",
       "  \u001b[32m\"59\"\u001b[0m,\n",
       "  \u001b[32m\"60\"\u001b[0m,\n",
       "  \u001b[32m\"61\"\u001b[0m,\n",
       "  \u001b[32m\"62\"\u001b[0m,\n",
       "  \u001b[32m\"63\"\u001b[0m,\n",
       "  \u001b[32m\"64\"\u001b[0m,\n",
       "  \u001b[32m\"65\"\u001b[0m,\n",
       "  \u001b[32m\"66\"\u001b[0m,\n",
       "  \u001b[32m\"67\"\u001b[0m,\n",
       "  \u001b[32m\"68\"\u001b[0m,\n",
       "  \u001b[32m\"69\"\u001b[0m,\n",
       "\u001b[33m...\u001b[0m\n",
       "\u001b[36mquery\u001b[0m: \u001b[32mList\u001b[0m[(\u001b[32mString\u001b[0m, \u001b[32mList\u001b[0m[\u001b[32mInt\u001b[0m])] = \u001b[33mList\u001b[0m(\n",
       "  \u001b[33m\u001b[0m(\u001b[32m\"51\"\u001b[0m, \u001b[33mList\u001b[0m(\u001b[32m29396\u001b[0m, \u001b[32m6268\u001b[0m)),\n",
       "  \u001b[33m\u001b[0m(\u001b[32m\"52\"\u001b[0m, \u001b[33mList\u001b[0m(\u001b[32m133\u001b[0m, \u001b[32m273\u001b[0m, \u001b[32m4832\u001b[0m)),\n",
       "  \u001b[33m\u001b[0m(\u001b[32m\"53\"\u001b[0m, \u001b[33mList\u001b[0m(\u001b[32m2613\u001b[0m, \u001b[32m2543\u001b[0m)),\n",
       "  \u001b[33m\u001b[0m(\u001b[32m\"54\"\u001b[0m, \u001b[33mList\u001b[0m(\u001b[32m1377\u001b[0m, \u001b[32m1378\u001b[0m, \u001b[32m1232\u001b[0m)),\n",
       "  \u001b[33m\u001b[0m(\u001b[32m\"55\"\u001b[0m, \u001b[33mList\u001b[0m(\u001b[32m1182\u001b[0m, \u001b[32m663\u001b[0m)),\n",
       "  \u001b[33m\u001b[0m(\u001b[32m\"56\"\u001b[0m, \u001b[33mList\u001b[0m(\u001b[32m627\u001b[0m, \u001b[32m5268\u001b[0m, \u001b[32m2478\u001b[0m, \u001b[32m109\u001b[0m, \u001b[32m1005\u001b[0m)),\n",
       "  \u001b[33m\u001b[0m(\u001b[32m\"57\"\u001b[0m, \u001b[33mList\u001b[0m(\u001b[32m25849\u001b[0m)),\n",
       "  \u001b[33m\u001b[0m(\u001b[32m\"58\"\u001b[0m, \u001b[33mList\u001b[0m(\u001b[32m11776\u001b[0m, \u001b[32m812\u001b[0m)),\n",
       "  \u001b[33m\u001b[0m(\u001b[32m\"59\"\u001b[0m, \u001b[33mList\u001b[0m(\u001b[32m1015\u001b[0m, \u001b[32m360\u001b[0m, \u001b[32m7021\u001b[0m)),\n",
       "  \u001b[33m\u001b[0m(\u001b[32m\"60\"\u001b[0m, \u001b[33mList\u001b[0m(\u001b[32m5306\u001b[0m, \u001b[32m52\u001b[0m, \u001b[32m295\u001b[0m)),\n",
       "  \u001b[33m\u001b[0m(\u001b[32m\"61\"\u001b[0m, \u001b[33mList\u001b[0m(\u001b[32m611\u001b[0m, \u001b[32m634\u001b[0m, \u001b[32m1123\u001b[0m, \u001b[32m1081\u001b[0m, \u001b[32m1125\u001b[0m)),\n",
       "  \u001b[33m\u001b[0m(\u001b[32m\"62\"\u001b[0m, \u001b[33mList\u001b[0m(\u001b[32m371\u001b[0m, \u001b[32m250\u001b[0m, \u001b[32m25040\u001b[0m)),\n",
       "  \u001b[33m\u001b[0m(\u001b[32m\"63\"\u001b[0m, \u001b[33mList\u001b[0m(\u001b[32m2436\u001b[0m, \u001b[32m5187\u001b[0m)),\n",
       "  \u001b[33m\u001b[0m(\u001b[32m\"64\"\u001b[0m, \u001b[33mList\u001b[0m(\u001b[32m3190\u001b[0m, \u001b[32m950\u001b[0m)),\n",
       "  \u001b[33m\u001b[0m(\u001b[32m\"65\"\u001b[0m, \u001b[33mList\u001b[0m(\u001b[32m1496\u001b[0m, \u001b[32m8238\u001b[0m, \u001b[32m1414\u001b[0m)),\n",
       "  \u001b[33m\u001b[0m(\u001b[32m\"66\"\u001b[0m, \u001b[33mList\u001b[0m(\u001b[32m33\u001b[0m, \u001b[32m3860\u001b[0m, \u001b[32m582\u001b[0m)),\n",
       "  \u001b[33m\u001b[0m(\u001b[32m\"67\"\u001b[0m, \u001b[33mList\u001b[0m(\u001b[32m665\u001b[0m, \u001b[32m4471\u001b[0m, \u001b[32m1906\u001b[0m, \u001b[32m1082\u001b[0m)),\n",
       "  \u001b[33m\u001b[0m(\u001b[32m\"68\"\u001b[0m, \u001b[33mList\u001b[0m(\u001b[32m2296\u001b[0m, \u001b[32m11263\u001b[0m, \u001b[32m3176\u001b[0m, \u001b[32m43019\u001b[0m, \u001b[32m27166\u001b[0m)),\n",
       "  \u001b[33m\u001b[0m(\u001b[32m\"69\"\u001b[0m, \u001b[33mList\u001b[0m(\u001b[32m251\u001b[0m, \u001b[32m5155\u001b[0m, \u001b[32m5808\u001b[0m, \u001b[32m364\u001b[0m)),\n",
       "\u001b[33m...\u001b[0m"
      ]
     },
     "metadata": {},
     "output_type": "display_data"
    }
   ],
   "source": [
    "// requires: having added the file \"questions-descriptions.txt\" to source\n",
    "// This cell will build a list (can be Stream if required) of query tokens. \n",
    "// Note that the 16 is hard-coded to ignore the first 15 characters of these <title> line, which all read \n",
    "// \"<title> Topic: \"\n",
    "// import scala.io.Source\n",
    "// val numPattern = \"[0-9]+\".r\n",
    "\n",
    "val title = Source.fromFile(files_path +\"questions-descriptions.txt\").getLines().filter(_.startsWith(\"<title>\"))\n",
    "                .map(_.substring(16)).toList\n",
    "\n",
    "val num = Source.fromFile(files_path +\"questions-descriptions.txt\").getLines().filter(_.startsWith(\"<num>\"))   \n",
    "                .map(x => numPattern.findFirstIn(x.toString).get.substring(1)).toList\n",
    "\n",
    "val query = (num zip title).map{ \n",
    "    case (id, str) => (id, \n",
    "                       token_filter(str).\n",
    "                       flatMap(x => token_hash.get(x))\n",
    "                      )}"
   ]
  },
  {
   "cell_type": "code",
   "execution_count": null,
   "metadata": {
    "collapsed": false
   },
   "outputs": [],
   "source": []
  },
  {
   "cell_type": "code",
   "execution_count": null,
   "metadata": {
    "collapsed": true
   },
   "outputs": [],
   "source": []
  },
  {
   "cell_type": "markdown",
   "metadata": {},
   "source": [
    "## Language model score"
   ]
  },
  {
   "cell_type": "code",
   "execution_count": null,
   "metadata": {
    "collapsed": true
   },
   "outputs": [],
   "source": []
  },
  {
   "cell_type": "code",
   "execution_count": null,
   "metadata": {
    "collapsed": true
   },
   "outputs": [],
   "source": []
  },
  {
   "cell_type": "code",
   "execution_count": 33,
   "metadata": {
    "collapsed": false
   },
   "outputs": [
    {
     "data": {
      "text/plain": [
       "\u001b[36mres32\u001b[0m: \u001b[32mSet\u001b[0m[\u001b[32mInt\u001b[0m] = \u001b[33mSet\u001b[0m(\u001b[32m3\u001b[0m, \u001b[32m5\u001b[0m, \u001b[32m11\u001b[0m)"
      ]
     },
     "metadata": {},
     "output_type": "display_data"
    }
   ],
   "source": [
    "Set((1,2), (2,3), (4,7)).map{ case (x,y) => x + y}\n",
    "List((1,2), (2,3), (4,7)).map{ case (x,y) => x + y}"
   ]
  },
  {
   "cell_type": "code",
   "execution_count": null,
   "metadata": {
    "collapsed": true
   },
   "outputs": [],
   "source": []
  },
  {
   "cell_type": "code",
   "execution_count": null,
   "metadata": {
    "collapsed": true
   },
   "outputs": [],
   "source": []
  },
  {
   "cell_type": "code",
   "execution_count": null,
   "metadata": {
    "collapsed": true
   },
   "outputs": [],
   "source": []
  },
  {
   "cell_type": "code",
   "execution_count": null,
   "metadata": {
    "collapsed": true
   },
   "outputs": [],
   "source": []
  },
  {
   "cell_type": "code",
   "execution_count": null,
   "metadata": {
    "collapsed": true
   },
   "outputs": [],
   "source": []
  },
  {
   "cell_type": "code",
   "execution_count": null,
   "metadata": {
    "collapsed": true
   },
   "outputs": [],
   "source": []
  },
  {
   "cell_type": "code",
   "execution_count": null,
   "metadata": {
    "collapsed": true
   },
   "outputs": [],
   "source": []
  },
  {
   "cell_type": "code",
   "execution_count": null,
   "metadata": {
    "collapsed": true
   },
   "outputs": [],
   "source": []
  },
  {
   "cell_type": "code",
   "execution_count": null,
   "metadata": {
    "collapsed": true
   },
   "outputs": [],
   "source": []
  },
  {
   "cell_type": "code",
   "execution_count": null,
   "metadata": {
    "collapsed": true
   },
   "outputs": [],
   "source": []
  },
  {
   "cell_type": "code",
   "execution_count": null,
   "metadata": {
    "collapsed": true
   },
   "outputs": [],
   "source": []
  },
  {
   "cell_type": "code",
   "execution_count": null,
   "metadata": {
    "collapsed": true
   },
   "outputs": [],
   "source": []
  },
  {
   "cell_type": "code",
   "execution_count": null,
   "metadata": {
    "collapsed": true
   },
   "outputs": [],
   "source": []
  },
  {
   "cell_type": "markdown",
   "metadata": {},
   "source": [
    "# Testing ground"
   ]
  },
  {
   "cell_type": "code",
   "execution_count": null,
   "metadata": {
    "collapsed": false,
    "scrolled": true
   },
   "outputs": [],
   "source": []
  },
  {
   "cell_type": "code",
   "execution_count": null,
   "metadata": {
    "collapsed": true
   },
   "outputs": [],
   "source": [
    "// Used Memory:  400\n",
    "// Free Memory:  215\n",
    "// Total Memory: 616\n",
    "// Max Memory:   3641"
   ]
  },
  {
   "cell_type": "code",
   "execution_count": null,
   "metadata": {
    "collapsed": true
   },
   "outputs": [],
   "source": []
  },
  {
   "cell_type": "code",
   "execution_count": null,
   "metadata": {
    "collapsed": true
   },
   "outputs": [],
   "source": []
  },
  {
   "cell_type": "code",
   "execution_count": null,
   "metadata": {
    "collapsed": true
   },
   "outputs": [],
   "source": []
  },
  {
   "cell_type": "code",
   "execution_count": null,
   "metadata": {
    "collapsed": true
   },
   "outputs": [],
   "source": []
  },
  {
   "cell_type": "code",
   "execution_count": null,
   "metadata": {
    "collapsed": false
   },
   "outputs": [],
   "source": [
    "val token_hm = MutHashMap[String, Int]()\n",
    "List(\"word1\", \"word3\").map(x => token_hm.getOrElseUpdate(x, token_hm.size))"
   ]
  },
  {
   "cell_type": "code",
   "execution_count": null,
   "metadata": {
    "collapsed": true
   },
   "outputs": [],
   "source": []
  },
  {
   "cell_type": "code",
   "execution_count": null,
   "metadata": {
    "collapsed": false,
    "scrolled": true
   },
   "outputs": [],
   "source": []
  },
  {
   "cell_type": "code",
   "execution_count": null,
   "metadata": {
    "collapsed": false
   },
   "outputs": [],
   "source": [
    "classpath.addPath(tiny_path)"
   ]
  },
  {
   "cell_type": "code",
   "execution_count": null,
   "metadata": {
    "collapsed": false
   },
   "outputs": [],
   "source": [
    "trait Result[T] extends Any {\n",
    "    def id : Int\n",
    "    def matches(that: T) : Int                 \n",
    "    def isMatch(that: T) = matches(that)==0\n",
    "    def matched(that: T) : T    \n",
    "}\n",
    "\n",
    "object InvertedIndex {\n",
    "    // generic list intersection (does not require sorted lists)\n",
    "    private def unsortedIntersect [A<% Result[A]](l1: List[A], l2: List[A]) = l1.intersect(l2)\n",
    "\n",
    "    // optimized list intersection for sorted posting lists \n",
    "    // uses \"matches\" and \"matched\" methods to work for all posting types\n",
    "    def sIntersect[A <% Result[A]] (l1: List[A], l2: List[A]) : List[A] = {\n",
    "        @annotation.tailrec\n",
    "        def iter (l1: List[A], l2: List[A], result: List[A]) : List[A] = {\n",
    "            if (l1.isEmpty || l2.isEmpty) \n",
    "                result.reverse\n",
    "            else (l1.head matches l2.head) match {\n",
    "                case n if n>0 => iter(l1, l2.tail,result)  // advance list l2\n",
    "                case n if n<0 => iter(l1.tail, l2,result)  // advance list l1\n",
    "                case _        => iter(l1.tail, l2.tail, (l1.head matched l2.head)::result)\t      \n",
    "            }\n",
    "        }    \n",
    "        iter(l1,l2,Nil)      \n",
    "    }\n",
    "}\n",
    "\n",
    "abstract class InvertedIndex[Res <% Result[Res]]  {\n",
    "    def results (term: String) : List[Res] \n",
    "    def results (terms: Seq[String]) : List[Res] = {\n",
    "        val resultLists      = terms.map(term => results(term))\n",
    "        val shortToLongLists = resultLists.sortWith( _.length < _.length) \n",
    "        shortToLongLists.reduceLeft( (l1,l2) => InvertedIndex.sIntersect(l1,l2) )\n",
    "    }\n",
    "}\n",
    "\n",
    "// import ch.ethz.dal.tinyir.indexing.InvertedIndex"
   ]
  },
  {
   "cell_type": "code",
   "execution_count": null,
   "metadata": {
    "collapsed": false
   },
   "outputs": [],
   "source": [
    "import scala.math._"
   ]
  },
  {
   "cell_type": "code",
   "execution_count": null,
   "metadata": {
    "collapsed": false
   },
   "outputs": [],
   "source": [
    "class Document(val id: Int, val tokens: List[Int])\n",
    "//     def id: Int = this.id\n",
    "//     def tokens: List[Int] = this.tokens"
   ]
  },
  {
   "cell_type": "code",
   "execution_count": null,
   "metadata": {
    "collapsed": false
   },
   "outputs": [],
   "source": [
    "case class ProxResult(val id: Int, val lpos: Int, val rpos: Int) extends Result[ProxResult] {\n",
    "    def matches(that: ProxResult) : Int = {    \n",
    "        if (this.id != that.id) this.id - that.id\n",
    "        else if ((max(rpos,that.rpos) - min(lpos,that.lpos)) <= ProxWindow.size) 0 // match\n",
    "        else this.lpos-that.lpos  // advance in list with the minimal lpos\n",
    "    }\n",
    "    def matched(that: ProxResult) = \n",
    "        ProxResult(id, min(this.lpos,that.lpos), max(this.rpos,that.rpos))\n",
    "}\n",
    "\n",
    "object ProxWindow {\n",
    "    var size = 1\n",
    "    def setSize(w: Int) {assert(w>=1); size = w}\n",
    "}\n",
    "\n",
    "class PosIndex (docs: Stream[Document]) extends InvertedIndex[ProxResult] {\n",
    "\n",
    "    case class PosPosting(val id: Int, val pos: Int) extends Ordered[PosPosting] {\n",
    "        def this(t: PosTuple) = this(t.id, t.pos) \n",
    "//         def compare(that: PosPosting) = Ordering[Tuple2[Int, Int]].compare((this.id, this.pos), (that.id, that.pos) ) \n",
    "    }\n",
    "    type PostList = List[PosPosting]\n",
    "    val index : Map[String, PostList] = {\n",
    "        val groupedPostings = postings(docs).groupBy(_.term)\n",
    "        groupedPostings.mapValues(_.map(p => PosPosting(p.id,p.pos)).sorted)\n",
    "    }\n",
    "  \n",
    "    case class PosTuple(term: String, id: Int, pos: Int) \n",
    "    def postings (s: Stream[Document]): List[PosTuple] =\n",
    "        s.flatMap( d => d.tokens.zipWithIndex.map{ case (tk,pos) => PosTuple(tk,d.ID,pos) } ).toList\n",
    "\n",
    "    override def results (word: String) : List[ProxResult] = \n",
    "        index.getOrElse(word,null).map(p => ProxResult(p.id, p.pos, p.pos))\n",
    "    override def results (terms: Seq[String]) : List[ProxResult] = results(terms,1)\n",
    "    def results (terms: Seq[String], win: Int) : List[ProxResult] = {\n",
    "        val resultLists = terms.map(term => results(term))\n",
    "        val shortToLongLists = resultLists.sortWith( _.length < _.length)   \n",
    "        shortToLongLists.reduceLeft( (l1,l2) => InvertedIndex.sIntersect(l1,l2) )\n",
    "    } \n",
    "}"
   ]
  },
  {
   "cell_type": "code",
   "execution_count": null,
   "metadata": {
    "collapsed": true
   },
   "outputs": [],
   "source": []
  }
 ],
 "metadata": {
  "anaconda-cloud": {},
  "kernelspec": {
   "display_name": "Scala 2.11",
   "language": "scala211",
   "name": "scala211"
  },
  "language_info": {
   "codemirror_mode": "text/x-scala",
   "file_extension": ".scala",
   "mimetype": "text/x-scala",
   "name": "scala211",
   "pygments_lexer": "scala",
   "version": "2.11.8"
  }
 },
 "nbformat": 4,
 "nbformat_minor": 1
}
