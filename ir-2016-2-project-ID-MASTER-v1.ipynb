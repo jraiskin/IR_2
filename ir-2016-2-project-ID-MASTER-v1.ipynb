{
 "cells": [
  {
   "cell_type": "markdown",
   "metadata": {},
   "source": [
    "## Import modules"
   ]
  },
  {
   "cell_type": "markdown",
   "metadata": {},
   "source": [
    "Set your user name as a case, pointing to your path to documents and tinyir.jar"
   ]
  },
  {
   "cell_type": "code",
   "execution_count": 1,
   "metadata": {
    "collapsed": false,
    "scrolled": true
   },
   "outputs": [
    {
     "data": {
      "text/plain": [
       "\u001b[36mdoc_dir\u001b[0m: \u001b[32mString\u001b[0m = \u001b[32m\"../documents\"\u001b[0m\n",
       "\u001b[36mfiles_path\u001b[0m: \u001b[32mString\u001b[0m = \u001b[32m\"../\"\u001b[0m"
      ]
     },
     "metadata": {},
     "output_type": "display_data"
    }
   ],
   "source": [
    "// set your case once\n",
    "val (doc_dir: String, files_path: String) = System.getProperties().get(\"user.name\").toString match {\n",
    "    case \"Yarden-\"  => (\"../documents\", \"../\")\n",
    "    case \"Max\"  => (\"../MAXPATH\", \"../MAXPATH/tinyir-1.1.jar\")\n",
    "}"
   ]
  },
  {
   "cell_type": "code",
   "execution_count": 2,
   "metadata": {
    "collapsed": false
   },
   "outputs": [
    {
     "data": {
      "text/plain": []
     },
     "metadata": {},
     "output_type": "display_data"
    }
   ],
   "source": [
    "classpath.addPath(files_path + \"tinyir-1.1.jar\")"
   ]
  },
  {
   "cell_type": "code",
   "execution_count": 3,
   "metadata": {
    "collapsed": false,
    "scrolled": false
   },
   "outputs": [
    {
     "data": {
      "text/plain": [
       "\u001b[32mimport \u001b[36mscala.xml.XML\u001b[0m\n",
       "\u001b[32mimport \u001b[36mch.ethz.dal.tinyir._\u001b[0m\n",
       "\u001b[32mimport \u001b[36mcom.github.aztek.porterstemmer.PorterStemmer\u001b[0m"
      ]
     },
     "metadata": {},
     "output_type": "display_data"
    }
   ],
   "source": [
    "import scala.xml.XML\n",
    "import ch.ethz.dal.tinyir._\n",
    "import com.github.aztek.porterstemmer.PorterStemmer"
   ]
  },
  {
   "cell_type": "code",
   "execution_count": 4,
   "metadata": {
    "collapsed": false
   },
   "outputs": [
    {
     "data": {
      "text/plain": [
       "\u001b[32mimport \u001b[36mscala.io.Source\u001b[0m\n",
       "\u001b[32mimport \u001b[36mjava.io._\u001b[0m"
      ]
     },
     "metadata": {},
     "output_type": "display_data"
    }
   ],
   "source": [
    "import scala.io.Source  // for importing txt files\n",
    "import java.io._  // for saving txt files\n",
    "// import scala.collection.mutable.HashMap  //HashMap used for counting elements in linear time"
   ]
  },
  {
   "cell_type": "code",
   "execution_count": 5,
   "metadata": {
    "collapsed": false
   },
   "outputs": [
    {
     "data": {
      "text/plain": [
       "\u001b[32mimport \u001b[36mscala.collection.mutable.{Map => MutMap, HashMap => MutHashMap}\u001b[0m\n",
       "\u001b[32mimport \u001b[36mscala.collection.mutable.{Set => MutSet}\u001b[0m"
      ]
     },
     "metadata": {},
     "output_type": "display_data"
    }
   ],
   "source": [
    "// import scala.util.Random\n",
    "import scala.collection.mutable.{Map => MutMap, HashMap => MutHashMap}\n",
    "// enables \"mutable lists\"\n",
    "// import scala.collection.mutable.ListBuffer  \n",
    "import scala.collection.mutable.{Set => MutSet}"
   ]
  },
  {
   "cell_type": "markdown",
   "metadata": {},
   "source": [
    "## Define classes and functions"
   ]
  },
  {
   "cell_type": "code",
   "execution_count": 6,
   "metadata": {
    "collapsed": false
   },
   "outputs": [
    {
     "data": {
      "text/plain": [
       "defined \u001b[32mfunction \u001b[36mtoken_filter\u001b[0m"
      ]
     },
     "metadata": {},
     "output_type": "display_data"
    }
   ],
   "source": [
    "def token_filter(text_body: String) = {\n",
    "    processing.StopWords.filterOutSW(\n",
    "        processing.Tokenizer.tokenize(text_body.\n",
    "                                      replaceAll(\"\\\\P{L}+\", \" \"))\n",
    "    ).\n",
    "    map(x => PorterStemmer.stem(x)).filter(_.trim.nonEmpty).toList\n",
    "}"
   ]
  },
  {
   "cell_type": "code",
   "execution_count": 7,
   "metadata": {
    "collapsed": false,
    "scrolled": false
   },
   "outputs": [
    {
     "data": {
      "text/plain": [
       "defined \u001b[32mclass \u001b[36mxml_doc\u001b[0m"
      ]
     },
     "metadata": {},
     "output_type": "display_data"
    }
   ],
   "source": [
    "class xml_doc (file_path: String) {\n",
    "    def get_doc(): xml.Elem = {\n",
    "        XML.loadFile(file_path: String)\n",
    "    }    \n",
    "    \n",
    "    def text() = {\n",
    "        (get_doc() \\\\ \"DOC\" \\\\ \"TEXT\").text\n",
    "    }\n",
    "    \n",
    "    def head() = {\n",
    "        (get_doc() \\\\ \"DOC\" \\\\ \"HEAD\").text\n",
    "    }\n",
    "\n",
    "    def id() = {\n",
    "        (get_doc() \\\\ \"DOC\" \\\\ \"DOCNO\").text.trim\n",
    "    }\n",
    "    \n",
    "    def tokens() = {\n",
    "        token_filter(head() ++ text())\n",
    "    }\n",
    "    \n",
    "    def hash_tokens() = {\n",
    "        tokens().map(x => x.hashCode())\n",
    "    }\n",
    "}"
   ]
  },
  {
   "cell_type": "code",
   "execution_count": 8,
   "metadata": {
    "collapsed": false
   },
   "outputs": [
    {
     "data": {
      "text/plain": [
       "defined \u001b[32mfunction \u001b[36mlist_docs\u001b[0m\n",
       "\u001b[36mnumPattern\u001b[0m: \u001b[32mscala\u001b[0m.\u001b[32mutil\u001b[0m.\u001b[32mmatching\u001b[0m.\u001b[32mRegex\u001b[0m = [0-9]+"
      ]
     },
     "metadata": {},
     "output_type": "display_data"
    }
   ],
   "source": [
    "def list_docs (path: String) = {  // : Array[java.io.File]\n",
    "        new java.io.File(path).listFiles.map(x => x.toString())\n",
    "    }\n",
    "val numPattern = \"[0-9]+\".r"
   ]
  },
  {
   "cell_type": "code",
   "execution_count": 39,
   "metadata": {
    "collapsed": false,
    "scrolled": true
   },
   "outputs": [
    {
     "data": {
      "text/plain": [
       "defined \u001b[32mfunction \u001b[36mwrite_int_to_intList\u001b[0m\n",
       "defined \u001b[32mfunction \u001b[36mwrite_int_string\u001b[0m\n",
       "defined \u001b[32mfunction \u001b[36mwrite_string_int\u001b[0m"
      ]
     },
     "metadata": {},
     "output_type": "display_data"
    }
   ],
   "source": [
    "def write_int_to_intList(data: MutHashMap[Int, List[Int]], filename: String) = {\n",
    "\n",
    "    val bw = new BufferedWriter(new FileWriter(new File(filename)))\n",
    "    val iter = data.keys.iterator\n",
    "    while(iter.hasNext){\n",
    "        var elem = iter.next()\n",
    "        var values = data(elem).toList\n",
    "        if(values.length>0){\n",
    "            bw.write(elem+\" \"+values.mkString(\" \"))\n",
    "            bw.newLine\n",
    "        }    \n",
    "    }   \n",
    "    bw.close()\n",
    "}\n",
    "\n",
    "def write_int_string(data: MutHashMap[Int, String], filename: String) = {\n",
    "\n",
    "    val bw = new BufferedWriter(new FileWriter(new File(filename)))\n",
    "    val iter = data.keys.iterator\n",
    "    while(iter.hasNext){\n",
    "        var elem = iter.next()\n",
    "        var values = data(elem).toList\n",
    "        if(values.length>0){\n",
    "            bw.write(elem+\" \"+values.mkString(\"\"))\n",
    "            bw.newLine\n",
    "        }    \n",
    "    }   \n",
    "    bw.close()\n",
    "}\n",
    "\n",
    "def write_string_int(data: MutHashMap[String, Int], filename: String) = {\n",
    "\n",
    "    val bw = new BufferedWriter(new FileWriter(new File(filename)))\n",
    "    val iter = data.keys.iterator\n",
    "    while(iter.hasNext){\n",
    "        var elem = iter.next()\n",
    "        bw.write(elem+\" \"+data(elem).toString)\n",
    "        bw.newLine\n",
    "    }   \n",
    "    bw.close()\n",
    "}"
   ]
  },
  {
   "cell_type": "markdown",
   "metadata": {},
   "source": [
    "# Importing data files"
   ]
  },
  {
   "cell_type": "code",
   "execution_count": 10,
   "metadata": {
    "collapsed": false,
    "scrolled": false
   },
   "outputs": [
    {
     "data": {
      "text/plain": [
       "\u001b[36mtrain_list\u001b[0m: \u001b[32mArray\u001b[0m[\u001b[32mString\u001b[0m] = \u001b[33mArray\u001b[0m(\n",
       "  \u001b[32m\"\"\"\n",
       "..\\documents\\AP880212-0006\n",
       "  \"\"\"\u001b[0m,\n",
       "  \u001b[32m\"\"\"\n",
       "..\\documents\\AP880212-0007\n",
       "  \"\"\"\u001b[0m,\n",
       "  \u001b[32m\"\"\"\n",
       "..\\documents\\AP880212-0009\n",
       "  \"\"\"\u001b[0m,\n",
       "  \u001b[32m\"\"\"\n",
       "..\\documents\\AP880212-0017\n",
       "  \"\"\"\u001b[0m,\n",
       "  \u001b[32m\"\"\"\n",
       "..\\documents\\AP880212-0018\n",
       "  \"\"\"\u001b[0m,\n",
       "  \u001b[32m\"\"\"\n",
       "..\\documents\\AP880212-0022\n",
       "  \"\"\"\u001b[0m,\n",
       "  \u001b[32m\"\"\"\n",
       "\u001b[33m...\u001b[0m"
      ]
     },
     "metadata": {},
     "output_type": "display_data"
    }
   ],
   "source": [
    "val train_list = list_docs(doc_dir)"
   ]
  },
  {
   "cell_type": "code",
   "execution_count": 11,
   "metadata": {
    "collapsed": false
   },
   "outputs": [
    {
     "data": {
      "text/plain": [
       "\u001b[36mtoken_hash\u001b[0m: \u001b[32mcollection\u001b[0m.\u001b[32mmutable\u001b[0m.\u001b[32mHashMap\u001b[0m[\u001b[32mString\u001b[0m, \u001b[32mInt\u001b[0m] = \u001b[33mMap\u001b[0m()"
      ]
     },
     "metadata": {},
     "output_type": "display_data"
    }
   ],
   "source": [
    "val token_hash = MutHashMap[String, Int]() // token -> hash\n",
    "\n",
    "// List(\"word1\", \"word3\").map(x => token_hm.getOrElseUpdate(x, token_hm.size))"
   ]
  },
  {
   "cell_type": "code",
   "execution_count": 12,
   "metadata": {
    "collapsed": false
   },
   "outputs": [
    {
     "data": {
      "text/plain": [
       "defined \u001b[32mfunction \u001b[36mcreate_hash_doc_subset\u001b[0m"
      ]
     },
     "metadata": {},
     "output_type": "display_data"
    }
   ],
   "source": [
    "def create_hash_doc_subset(star_count: Int, end_count: Int,\n",
    "                           file_list: Array[String],\n",
    "                           token_hash_map: MutHashMap[String, Int] = token_hash) = {\n",
    "    val id_htoken = MutHashMap[Int, List[Int]]() // forward index, docID to tokens\n",
    "    val htoken_id = MutHashMap[Int, List[Int]]()  // inverse index, tokens to docID\n",
    "    val id_name = MutHashMap[Int, String]()  // inverse index, tokens to docID\n",
    "    val name_id = MutHashMap[String, Int]()  // inverse index, tokens to docID\n",
    "    var counter = star_count\n",
    "    while (counter < end_count){\n",
    "        var cur_doc = new xml_doc(file_list(counter))\n",
    "        // get token from XML, then hash, or create hashes \"on the fly\"\n",
    "        var cur_htoken = cur_doc.tokens.map(x => token_hash_map.getOrElseUpdate(x, token_hash_map.size))\n",
    "        id_htoken += counter -> cur_htoken\n",
    "        \n",
    "        // update the inverse mapping, from (hashed) tokens to docID\n",
    "        cur_htoken.distinct.foreach(\n",
    "            (token: Int) => htoken_id(token) = htoken_id.getOrElseUpdate(token, List[Int]()) ++ List(counter)\n",
    "        )\n",
    "        \n",
    "        id_name(counter) = cur_doc.id\n",
    "        name_id(cur_doc.id) = counter\n",
    "        \n",
    "        counter += 1\n",
    "        if (counter % 100 == 0) println(s\"iteration $counter\")\n",
    "    }\n",
    "    (id_htoken, htoken_id, token_hash_map, id_name, name_id)\n",
    "}"
   ]
  },
  {
   "cell_type": "code",
   "execution_count": 13,
   "metadata": {
    "collapsed": false,
    "scrolled": true
   },
   "outputs": [
    {
     "name": "stdout",
     "output_type": "stream",
     "text": [
      "iteration 100\n",
      "iteration 200\n",
      "iteration 300\n",
      "iteration 400\n",
      "iteration 500\n",
      "iteration 600\n",
      "iteration 700\n",
      "iteration 800\n",
      "iteration 900\n",
      "iteration 1000\n",
      "iteration 1100\n",
      "iteration 1200\n",
      "iteration 1300\n",
      "iteration 1400\n",
      "iteration 1500\n",
      "iteration 1600\n",
      "iteration 1700\n",
      "iteration 1800\n",
      "iteration 1900\n",
      "iteration 2000\n",
      "iteration 2100\n",
      "iteration 2200\n",
      "iteration 2300\n",
      "iteration 2400\n",
      "iteration 2500\n",
      "iteration 2600\n",
      "iteration 2700\n",
      "iteration 2800\n",
      "iteration 2900\n",
      "iteration 3000\n",
      "iteration 3100\n",
      "iteration 3200\n",
      "iteration 3300\n",
      "iteration 3400\n",
      "iteration 3500\n",
      "iteration 3600\n",
      "iteration 3700\n",
      "iteration 3800\n",
      "iteration 3900\n",
      "iteration 4000\n",
      "iteration 4100\n",
      "iteration 4200\n",
      "iteration 4300\n",
      "iteration 4400\n",
      "iteration 4500\n",
      "iteration 4600\n",
      "iteration 4700\n",
      "iteration 4800\n",
      "iteration 4900\n",
      "iteration 5000\n",
      "iteration 5100\n",
      "iteration 5200\n",
      "iteration 5300\n",
      "iteration 5400\n",
      "iteration 5500\n",
      "iteration 5600\n",
      "iteration 5700\n",
      "iteration 5800\n",
      "iteration 5900\n",
      "iteration 6000\n",
      "iteration 6100\n",
      "iteration 6200\n",
      "iteration 6300\n",
      "iteration 6400\n",
      "iteration 6500\n",
      "iteration 6600\n",
      "iteration 6700\n",
      "iteration 6800\n",
      "iteration 6900\n",
      "iteration 7000\n",
      "iteration 7100\n",
      "iteration 7200\n",
      "iteration 7300\n",
      "iteration 7400\n",
      "iteration 7500\n",
      "iteration 7600\n",
      "iteration 7700\n",
      "iteration 7800\n",
      "iteration 7900\n",
      "iteration 8000\n",
      "iteration 8100\n",
      "iteration 8200\n",
      "iteration 8300\n",
      "iteration 8400\n",
      "iteration 8500\n",
      "iteration 8600\n",
      "iteration 8700\n",
      "iteration 8800\n",
      "iteration 8900\n",
      "iteration 9000\n",
      "iteration 9100\n",
      "iteration 9200\n",
      "iteration 9300\n",
      "iteration 9400\n",
      "iteration 9500\n",
      "iteration 9600\n",
      "iteration 9700\n",
      "iteration 9800\n",
      "iteration 9900\n",
      "iteration 10000\n"
     ]
    },
    {
     "data": {
      "text/plain": [
       "\u001b[36mid_htoken\u001b[0m: \u001b[32mcollection\u001b[0m.\u001b[32mmutable\u001b[0m.\u001b[32mHashMap\u001b[0m[\u001b[32mInt\u001b[0m, \u001b[32mList\u001b[0m[\u001b[32mInt\u001b[0m]] = \u001b[33mMap\u001b[0m(\n",
       "  \u001b[32m6938\u001b[0m -> \u001b[33mList\u001b[0m(\n",
       "    \u001b[32m1552\u001b[0m,\n",
       "    \u001b[32m576\u001b[0m,\n",
       "    \u001b[32m4841\u001b[0m,\n",
       "    \u001b[32m30596\u001b[0m,\n",
       "    \u001b[32m5265\u001b[0m,\n",
       "    \u001b[32m324\u001b[0m,\n",
       "    \u001b[32m432\u001b[0m,\n",
       "    \u001b[32m519\u001b[0m,\n",
       "    \u001b[32m8376\u001b[0m,\n",
       "    \u001b[32m159573\u001b[0m,\n",
       "    \u001b[32m144\u001b[0m,\n",
       "    \u001b[32m2954\u001b[0m,\n",
       "    \u001b[32m1071\u001b[0m,\n",
       "    \u001b[32m1498\u001b[0m,\n",
       "    \u001b[32m25\u001b[0m,\n",
       "    \u001b[32m725\u001b[0m,\n",
       "    \u001b[32m2431\u001b[0m,\n",
       "    \u001b[32m297\u001b[0m,\n",
       "\u001b[33m...\u001b[0m\n",
       "\u001b[36mhtoken_id\u001b[0m: \u001b[32mcollection\u001b[0m.\u001b[32mmutable\u001b[0m.\u001b[32mHashMap\u001b[0m[\u001b[32mInt\u001b[0m, \u001b[32mList\u001b[0m[\u001b[32mInt\u001b[0m]] = \u001b[33mMap\u001b[0m(\n",
       "  \u001b[32m67471\u001b[0m -> \u001b[33mList\u001b[0m(\u001b[32m2155\u001b[0m),\n",
       "  \u001b[32m41623\u001b[0m -> \u001b[33mList\u001b[0m(\u001b[32m1098\u001b[0m, \u001b[32m2642\u001b[0m, \u001b[32m4156\u001b[0m, \u001b[32m6968\u001b[0m, \u001b[32m7596\u001b[0m, \u001b[32m7653\u001b[0m),\n",
       "  \u001b[32m178569\u001b[0m -> \u001b[33mList\u001b[0m(\u001b[32m8070\u001b[0m),\n",
       "  \u001b[32m12572\u001b[0m -> \u001b[33mList\u001b[0m(\n",
       "    \u001b[32m205\u001b[0m,\n",
       "    \u001b[32m496\u001b[0m,\n",
       "    \u001b[32m527\u001b[0m,\n",
       "    \u001b[32m991\u001b[0m,\n",
       "    \u001b[32m1128\u001b[0m,\n",
       "    \u001b[32m1243\u001b[0m,\n",
       "    \u001b[32m1283\u001b[0m,\n",
       "    \u001b[32m1304\u001b[0m,\n",
       "    \u001b[32m1504\u001b[0m,\n",
       "    \u001b[32m1882\u001b[0m,\n",
       "    \u001b[32m2316\u001b[0m,\n",
       "    \u001b[32m3507\u001b[0m,\n",
       "    \u001b[32m3735\u001b[0m,\n",
       "    \u001b[32m3772\u001b[0m,\n",
       "    \u001b[32m4103\u001b[0m,\n",
       "\u001b[33m...\u001b[0m\n",
       "\u001b[36mtoken_hash\u001b[0m: \u001b[32mcollection\u001b[0m.\u001b[32mmutable\u001b[0m.\u001b[32mHashMap\u001b[0m[\u001b[32mString\u001b[0m, \u001b[32mInt\u001b[0m] = \u001b[33mMap\u001b[0m(\n",
       "  \u001b[32m\"quaylewa\"\u001b[0m -> \u001b[32m160003\u001b[0m,\n",
       "  \u001b[32m\"serviceand\"\u001b[0m -> \u001b[32m110544\u001b[0m,\n",
       "  \u001b[32m\"itsstockhold\"\u001b[0m -> \u001b[32m152364\u001b[0m,\n",
       "  \u001b[32m\"sdepositor\"\u001b[0m -> \u001b[32m84102\u001b[0m,\n",
       "  \u001b[32m\"reynoldsthat\"\u001b[0m -> \u001b[32m96342\u001b[0m,\n",
       "  \u001b[32m\"canforc\"\u001b[0m -> \u001b[32m133414\u001b[0m,\n",
       "  \u001b[32m\"phenylcyclohexen\"\u001b[0m -> \u001b[32m103234\u001b[0m,\n",
       "  \u001b[32m\"whatresearch\"\u001b[0m -> \u001b[32m116307\u001b[0m,\n",
       "  \u001b[32m\"speculationabout\"\u001b[0m -> \u001b[32m205406\u001b[0m,\n",
       "  \u001b[32m\"manxiou\"\u001b[0m -> \u001b[32m149133\u001b[0m,\n",
       "  \u001b[32m\"relatesreleas\"\u001b[0m -> \u001b[32m82626\u001b[0m,\n",
       "  \u001b[32m\"dolphinsfor\"\u001b[0m -> \u001b[32m118917\u001b[0m,\n",
       "  \u001b[32m\"kawther\"\u001b[0m -> \u001b[32m100615\u001b[0m,\n",
       "  \u001b[32m\"ransford\"\u001b[0m -> \u001b[32m170376\u001b[0m,\n",
       "  \u001b[32m\"notso\"\u001b[0m -> \u001b[32m166103\u001b[0m,\n",
       "  \u001b[32m\"winsassachusettsgov\"\u001b[0m -> \u001b[32m189439\u001b[0m,\n",
       "  \u001b[32m\"includedpr\"\u001b[0m -> \u001b[32m57564\u001b[0m,\n",
       "  \u001b[32m\"cityangl\"\u001b[0m -> \u001b[32m128452\u001b[0m,\n",
       "  \u001b[32m\"adultsin\"\u001b[0m -> \u001b[32m63978\u001b[0m,\n",
       "\u001b[33m...\u001b[0m\n",
       "\u001b[36mid_name\u001b[0m: \u001b[32mcollection\u001b[0m.\u001b[32mmutable\u001b[0m.\u001b[32mHashMap\u001b[0m[\u001b[32mInt\u001b[0m, \u001b[32mString\u001b[0m] = \u001b[33mMap\u001b[0m(\n",
       "  \u001b[32m6938\u001b[0m -> \u001b[32m\"AP880901-0256\"\u001b[0m,\n",
       "  \u001b[32m6220\u001b[0m -> \u001b[32m\"AP880810-0059\"\u001b[0m,\n",
       "  \u001b[32m3672\u001b[0m -> \u001b[32m\"AP880520-0342\"\u001b[0m,\n",
       "  \u001b[32m3331\u001b[0m -> \u001b[32m\"AP880512-0102\"\u001b[0m,\n",
       "  \u001b[32m5879\u001b[0m -> \u001b[32m\"AP880727-0313\"\u001b[0m,\n",
       "  \u001b[32m2990\u001b[0m -> \u001b[32m\"AP880504-0088\"\u001b[0m,\n",
       "  \u001b[32m5538\u001b[0m -> \u001b[32m\"AP880716-0072\"\u001b[0m,\n",
       "  \u001b[32m5197\u001b[0m -> \u001b[32m\"AP880706-0009\"\u001b[0m,\n",
       "  \u001b[32m6292\u001b[0m -> \u001b[32m\"AP880811-0178\"\u001b[0m,\n",
       "  \u001b[32m3026\u001b[0m -> \u001b[32m\"AP880505-0002\"\u001b[0m,\n",
       "  \u001b[32m3744\u001b[0m -> \u001b[32m\"AP880523-0219\"\u001b[0m,\n",
       "  \u001b[32m9692\u001b[0m -> \u001b[32m\"AP881206-0176\"\u001b[0m,\n",
       "  \u001b[32m6606\u001b[0m -> \u001b[32m\"AP880822-0061\"\u001b[0m,\n",
       "  \u001b[32m2685\u001b[0m -> \u001b[32m\"AP880426-0091\"\u001b[0m,\n",
       "  \u001b[32m3340\u001b[0m -> \u001b[32m\"AP880512-0177\"\u001b[0m,\n",
       "  \u001b[32m5951\u001b[0m -> \u001b[32m\"AP880730-0061\"\u001b[0m,\n",
       "  \u001b[32m5233\u001b[0m -> \u001b[32m\"AP880706-0314\"\u001b[0m,\n",
       "  \u001b[32m6265\u001b[0m -> \u001b[32m\"AP880811-0035\"\u001b[0m,\n",
       "  \u001b[32m2344\u001b[0m -> \u001b[32m\"AP880418-0073\"\u001b[0m,\n",
       "\u001b[33m...\u001b[0m\n",
       "\u001b[36mname_id\u001b[0m: \u001b[32mcollection\u001b[0m.\u001b[32mmutable\u001b[0m.\u001b[32mHashMap\u001b[0m[\u001b[32mString\u001b[0m, \u001b[32mInt\u001b[0m] = \u001b[33mMap\u001b[0m(\n",
       "  \u001b[32m\"AP880310-0274\"\u001b[0m -> \u001b[32m972\u001b[0m,\n",
       "  \u001b[32m\"AP880803-0180\"\u001b[0m -> \u001b[32m6064\u001b[0m,\n",
       "  \u001b[32m\"AP880722-0110\"\u001b[0m -> \u001b[32m5724\u001b[0m,\n",
       "  \u001b[32m\"AP881007-0079\"\u001b[0m -> \u001b[32m8010\u001b[0m,\n",
       "  \u001b[32m\"AP880525-0029\"\u001b[0m -> \u001b[32m3800\u001b[0m,\n",
       "  \u001b[32m\"AP880414-0213\"\u001b[0m -> \u001b[32m2268\u001b[0m,\n",
       "  \u001b[32m\"AP880518-0283\"\u001b[0m -> \u001b[32m3573\u001b[0m,\n",
       "  \u001b[32m\"AP880323-0161\"\u001b[0m -> \u001b[32m1512\u001b[0m,\n",
       "  \u001b[32m\"AP880712-0012\"\u001b[0m -> \u001b[32m5385\u001b[0m,\n",
       "  \u001b[32m\"AP880810-0244\"\u001b[0m -> \u001b[32m6242\u001b[0m,\n",
       "  \u001b[32m\"AP880912-0265\"\u001b[0m -> \u001b[32m7284\u001b[0m,\n",
       "  \u001b[32m\"AP881121-0166\"\u001b[0m -> \u001b[32m9256\u001b[0m,\n",
       "  \u001b[32m\"AP880505-0001\"\u001b[0m -> \u001b[32m3025\u001b[0m,\n",
       "  \u001b[32m\"AP880928-0226\"\u001b[0m -> \u001b[32m7719\u001b[0m,\n",
       "  \u001b[32m\"AP881210-0031\"\u001b[0m -> \u001b[32m9820\u001b[0m,\n",
       "  \u001b[32m\"AP881003-0161\"\u001b[0m -> \u001b[32m7851\u001b[0m,\n",
       "  \u001b[32m\"AP880409-0087\"\u001b[0m -> \u001b[32m2094\u001b[0m,\n",
       "  \u001b[32m\"AP880622-0303\"\u001b[0m -> \u001b[32m4786\u001b[0m,\n",
       "  \u001b[32m\"AP880730-0024\"\u001b[0m -> \u001b[32m5947\u001b[0m,\n",
       "\u001b[33m...\u001b[0m"
      ]
     },
     "metadata": {},
     "output_type": "display_data"
    }
   ],
   "source": [
    "val (id_htoken, htoken_id, token_hash, \n",
    "     id_name, name_id) = create_hash_doc_subset(0, 10000, train_list)"
   ]
  },
  {
   "cell_type": "markdown",
   "metadata": {},
   "source": [
    "## Save to file"
   ]
  },
  {
   "cell_type": "code",
   "execution_count": 42,
   "metadata": {
    "collapsed": false,
    "scrolled": true
   },
   "outputs": [
    {
     "data": {
      "text/plain": [
       "\u001b[36mPATH_id_htoken\u001b[0m: \u001b[32mString\u001b[0m = \u001b[32m\"../id_htoken.txt\"\u001b[0m\n",
       "\u001b[36mPATH_htoken_id\u001b[0m: \u001b[32mString\u001b[0m = \u001b[32m\"../htoken_id.txt\"\u001b[0m\n",
       "\u001b[36mPATH_id_name\u001b[0m: \u001b[32mString\u001b[0m = \u001b[32m\"../id_name.txt\"\u001b[0m\n",
       "\u001b[36mPATH_name_id\u001b[0m: \u001b[32mString\u001b[0m = \u001b[32m\"../name_id.txt\"\u001b[0m\n",
       "\u001b[36mPATH_token_hash\u001b[0m: \u001b[32mString\u001b[0m = \u001b[32m\"../token_hash.txt\"\u001b[0m"
      ]
     },
     "metadata": {},
     "output_type": "display_data"
    }
   ],
   "source": [
    "val PATH_id_htoken = files_path + \"id_htoken.txt\"\n",
    "write_int_to_intList(id_htoken, PATH_id_htoken)\n",
    "\n",
    "val PATH_htoken_id = files_path + \"htoken_id.txt\"\n",
    "write_int_to_intList(htoken_id, PATH_htoken_id)\n",
    "\n",
    "val PATH_id_name = files_path + \"id_name.txt\"\n",
    "write_int_string(id_name, PATH_id_name)\n",
    "\n",
    "val PATH_name_id = files_path + \"name_id.txt\"\n",
    "write_string_int(name_id, PATH_name_id)\n",
    "\n",
    "val PATH_token_hash = files_path + \"token_hash.txt\"\n",
    "write_string_int(token_hash, PATH_token_hash)"
   ]
  },
  {
   "cell_type": "markdown",
   "metadata": {},
   "source": [
    "## Load from file"
   ]
  },
  {
   "cell_type": "code",
   "execution_count": 43,
   "metadata": {
    "collapsed": false
   },
   "outputs": [
    {
     "data": {
      "text/plain": [
       "defined \u001b[32mfunction \u001b[36mload_mutmap_int_intList\u001b[0m\n",
       "defined \u001b[32mfunction \u001b[36mload_mutmap_int_string\u001b[0m\n",
       "defined \u001b[32mfunction \u001b[36mload_mutmap_string_int\u001b[0m"
      ]
     },
     "metadata": {},
     "output_type": "display_data"
    }
   ],
   "source": [
    "def load_mutmap_int_intList(path: String, mutmap: MutMap[Int, List[Int]]) = {\n",
    "    val lines = Source.fromFile(path).getLines.toList\n",
    "    for (line <- lines){\n",
    "        val line_split = line.split(\" \", -1)\n",
    "        mutmap(line_split.head.toInt) = // List(111)\n",
    "            line_split.tail.map(x => x.toInt).toList\n",
    "    }\n",
    "}\n",
    "\n",
    "def load_mutmap_int_string(path: String, mutmap: MutMap[Int, String]) = {\n",
    "    val lines = Source.fromFile(path).getLines.toList\n",
    "    for (line <- lines){\n",
    "//         val line_split = line.split(\" \", -1)\n",
    "        val line_split = line.split(\" \")\n",
    "        mutmap(line_split.head.toInt) = // List(111)\n",
    "            line_split.last\n",
    "    }\n",
    "}\n",
    "\n",
    "def load_mutmap_string_int(path: String, mutmap: MutMap[String, Int]) = {\n",
    "    val lines = Source.fromFile(path).getLines.toList\n",
    "    for (line <- lines){\n",
    "//         val line_split = line.split(\" \", -1)\n",
    "        val line_split = line.split(\" \")\n",
    "        mutmap(line_split.head) = // List(111)\n",
    "            line_split.last.toInt\n",
    "    }\n",
    "}"
   ]
  },
  {
   "cell_type": "code",
   "execution_count": 44,
   "metadata": {
    "collapsed": false
   },
   "outputs": [
    {
     "data": {
      "text/plain": [
       "\u001b[36mtest_load_mutmap_id_htoken\u001b[0m: \u001b[32mcollection\u001b[0m.\u001b[32mmutable\u001b[0m.\u001b[32mMap\u001b[0m[\u001b[32mInt\u001b[0m, \u001b[32mList\u001b[0m[\u001b[32mInt\u001b[0m]] = \u001b[33mMap\u001b[0m()\n",
       "\u001b[36mtest_load_mutmap_htoken_id\u001b[0m: \u001b[32mcollection\u001b[0m.\u001b[32mmutable\u001b[0m.\u001b[32mMap\u001b[0m[\u001b[32mInt\u001b[0m, \u001b[32mList\u001b[0m[\u001b[32mInt\u001b[0m]] = \u001b[33mMap\u001b[0m()\n",
       "\u001b[36mtest_load_mutmap_id_name\u001b[0m: \u001b[32mcollection\u001b[0m.\u001b[32mmutable\u001b[0m.\u001b[32mMap\u001b[0m[\u001b[32mInt\u001b[0m, \u001b[32mString\u001b[0m] = \u001b[33mMap\u001b[0m()\n",
       "\u001b[36mtest_load_mutmap_token_hash\u001b[0m: \u001b[32mcollection\u001b[0m.\u001b[32mmutable\u001b[0m.\u001b[32mMap\u001b[0m[\u001b[32mString\u001b[0m, \u001b[32mInt\u001b[0m] = \u001b[33mMap\u001b[0m()\n",
       "\u001b[36mtest_load_mutmap_name_id\u001b[0m: \u001b[32mcollection\u001b[0m.\u001b[32mmutable\u001b[0m.\u001b[32mMap\u001b[0m[\u001b[32mString\u001b[0m, \u001b[32mInt\u001b[0m] = \u001b[33mMap\u001b[0m()"
      ]
     },
     "metadata": {},
     "output_type": "display_data"
    }
   ],
   "source": [
    "val test_load_mutmap_id_htoken: MutMap[Int, List[Int]] = MutMap[Int, List[Int]]()\n",
    "val test_load_mutmap_htoken_id: MutMap[Int, List[Int]] = MutMap[Int, List[Int]]()\n",
    "val test_load_mutmap_id_name: MutMap[Int, String] = MutMap[Int, String]()\n",
    "val test_load_mutmap_token_hash: MutMap[String, Int] = MutMap[String, Int]()\n",
    "val test_load_mutmap_name_id: MutMap[String, Int] = MutMap[String, Int]()"
   ]
  },
  {
   "cell_type": "code",
   "execution_count": 45,
   "metadata": {
    "collapsed": false
   },
   "outputs": [
    {
     "data": {
      "text/plain": [
       "\u001b[36mres44_5\u001b[0m: \u001b[32mBoolean\u001b[0m = \u001b[32mtrue\u001b[0m\n",
       "\u001b[36mres44_6\u001b[0m: \u001b[32mBoolean\u001b[0m = \u001b[32mtrue\u001b[0m\n",
       "\u001b[36mres44_7\u001b[0m: \u001b[32mBoolean\u001b[0m = \u001b[32mtrue\u001b[0m\n",
       "\u001b[36mres44_8\u001b[0m: \u001b[32mBoolean\u001b[0m = \u001b[32mtrue\u001b[0m\n",
       "\u001b[36mres44_9\u001b[0m: \u001b[32mBoolean\u001b[0m = \u001b[32mtrue\u001b[0m"
      ]
     },
     "metadata": {},
     "output_type": "display_data"
    }
   ],
   "source": [
    "load_mutmap_int_intList(PATH_id_htoken, test_load_mutmap_id_htoken)\n",
    "load_mutmap_int_intList(PATH_htoken_id, test_load_mutmap_htoken_id)\n",
    "load_mutmap_int_string(PATH_id_name, test_load_mutmap_id_name)\n",
    "load_mutmap_string_int(PATH_token_hash, test_load_mutmap_token_hash)\n",
    "load_mutmap_string_int(PATH_name_id, test_load_mutmap_name_id)\n",
    "// confirm load successful\n",
    "test_load_mutmap_id_htoken == id_htoken\n",
    "test_load_mutmap_htoken_id == htoken_id\n",
    "test_load_mutmap_id_name == id_name\n",
    "test_load_mutmap_token_hash == token_hash\n",
    "test_load_mutmap_name_id == name_id"
   ]
  },
  {
   "cell_type": "code",
   "execution_count": null,
   "metadata": {
    "collapsed": true
   },
   "outputs": [],
   "source": []
  },
  {
   "cell_type": "code",
   "execution_count": null,
   "metadata": {
    "collapsed": true
   },
   "outputs": [],
   "source": []
  },
  {
   "cell_type": "code",
   "execution_count": null,
   "metadata": {
    "collapsed": true
   },
   "outputs": [],
   "source": []
  },
  {
   "cell_type": "code",
   "execution_count": null,
   "metadata": {
    "collapsed": false
   },
   "outputs": [],
   "source": [
    "List(1,1,4,5,6).distinct"
   ]
  },
  {
   "cell_type": "code",
   "execution_count": null,
   "metadata": {
    "collapsed": true
   },
   "outputs": [],
   "source": []
  },
  {
   "cell_type": "code",
   "execution_count": null,
   "metadata": {
    "collapsed": true
   },
   "outputs": [],
   "source": []
  },
  {
   "cell_type": "code",
   "execution_count": null,
   "metadata": {
    "collapsed": true
   },
   "outputs": [],
   "source": []
  },
  {
   "cell_type": "code",
   "execution_count": null,
   "metadata": {
    "collapsed": true
   },
   "outputs": [],
   "source": []
  },
  {
   "cell_type": "code",
   "execution_count": null,
   "metadata": {
    "collapsed": false
   },
   "outputs": [],
   "source": [
    "def create_doc_subset(star_count: Int, end_count: Int,\n",
    "                     file_list: Array[String]) = {\n",
    "    val doc_set = MutSet[processing.StringDocument]()\n",
    "    var counter = star_count\n",
    "    while (counter < end_count){\n",
    "        var cur_doc = new xml_doc(file_list(counter))\n",
    "        doc_set += (new processing.StringDocument(counter, cur_doc.tokens.mkString(\" \")))\n",
    "        counter += 1\n",
    "        if (counter % 50 == 0) println(s\"iteration $counter\")\n",
    "    }\n",
    "    doc_set.toStream\n",
    "}"
   ]
  },
  {
   "cell_type": "code",
   "execution_count": null,
   "metadata": {
    "collapsed": false,
    "scrolled": true
   },
   "outputs": [],
   "source": [
    "val doc_sub_stream = create_doc_subset(0, 50000, train_list)"
   ]
  },
  {
   "cell_type": "code",
   "execution_count": null,
   "metadata": {
    "collapsed": true
   },
   "outputs": [],
   "source": [
    "val test_PosIndex = new indexing.PosIndex(doc_sub_stream)"
   ]
  },
  {
   "cell_type": "code",
   "execution_count": null,
   "metadata": {
    "collapsed": true
   },
   "outputs": [],
   "source": [
    "// start at 17:20"
   ]
  },
  {
   "cell_type": "code",
   "execution_count": null,
   "metadata": {
    "collapsed": true
   },
   "outputs": [],
   "source": []
  },
  {
   "cell_type": "code",
   "execution_count": null,
   "metadata": {
    "collapsed": true
   },
   "outputs": [],
   "source": []
  },
  {
   "cell_type": "code",
   "execution_count": null,
   "metadata": {
    "collapsed": false,
    "scrolled": true
   },
   "outputs": [],
   "source": [
    "val doc_sub_stream_1 = create_doc_subset(0, 20000, train_list)"
   ]
  },
  {
   "cell_type": "code",
   "execution_count": null,
   "metadata": {
    "collapsed": false
   },
   "outputs": [],
   "source": [
    "val doc_sub_stream_2 = create_doc_subset(20000, 40000, train_list)"
   ]
  },
  {
   "cell_type": "code",
   "execution_count": null,
   "metadata": {
    "collapsed": false,
    "scrolled": true
   },
   "outputs": [],
   "source": [
    "val doc_sub_stream_3 = create_doc_subset(40000, 60000, train_list)"
   ]
  },
  {
   "cell_type": "code",
   "execution_count": null,
   "metadata": {
    "collapsed": false
   },
   "outputs": [],
   "source": [
    "val doc_sub_stream_4 = create_doc_subset(60000, 80000, train_list)"
   ]
  },
  {
   "cell_type": "code",
   "execution_count": null,
   "metadata": {
    "collapsed": false
   },
   "outputs": [],
   "source": [
    "val doc_sub_stream_5 = create_doc_subset(80000, 100000, train_list)"
   ]
  },
  {
   "cell_type": "code",
   "execution_count": null,
   "metadata": {
    "collapsed": true
   },
   "outputs": [],
   "source": [
    "// started at 10:30\n",
    "// finished at 11:51\n",
    "// Total Memory: 2701 "
   ]
  },
  {
   "cell_type": "code",
   "execution_count": null,
   "metadata": {
    "collapsed": false
   },
   "outputs": [],
   "source": []
  },
  {
   "cell_type": "code",
   "execution_count": null,
   "metadata": {
    "collapsed": true
   },
   "outputs": [],
   "source": []
  },
  {
   "cell_type": "code",
   "execution_count": null,
   "metadata": {
    "collapsed": false
   },
   "outputs": [],
   "source": [
    "val test_PosIndex = new indexing.PosIndex(doc_sub_stream_1 ++ \n",
    "                                          doc_sub_stream_2 ++ \n",
    "                                          doc_sub_stream_3 ++ \n",
    "                                          doc_sub_stream_4 ++ \n",
    "                                          doc_sub_stream_5)"
   ]
  },
  {
   "cell_type": "code",
   "execution_count": null,
   "metadata": {
    "collapsed": true
   },
   "outputs": [],
   "source": []
  },
  {
   "cell_type": "code",
   "execution_count": null,
   "metadata": {
    "collapsed": true
   },
   "outputs": [],
   "source": []
  },
  {
   "cell_type": "code",
   "execution_count": null,
   "metadata": {
    "collapsed": true
   },
   "outputs": [],
   "source": []
  },
  {
   "cell_type": "code",
   "execution_count": null,
   "metadata": {
    "collapsed": true
   },
   "outputs": [],
   "source": []
  },
  {
   "cell_type": "code",
   "execution_count": null,
   "metadata": {
    "collapsed": true
   },
   "outputs": [],
   "source": []
  },
  {
   "cell_type": "code",
   "execution_count": null,
   "metadata": {
    "collapsed": true
   },
   "outputs": [],
   "source": []
  },
  {
   "cell_type": "code",
   "execution_count": null,
   "metadata": {
    "collapsed": false,
    "scrolled": true
   },
   "outputs": [],
   "source": [
    "\n",
    "\n",
    "\n",
    "\n",
    "val doc_set = MutSet[processing.StringDocument]()\n",
    "var counter = 0\n",
    "for (path <- train_list.take(100)){\n",
    "// for (path <- train_list){\n",
    "    var cur_doc = new xml_doc(path)\n",
    "    doc_set += (new processing.StringDocument(counter, cur_doc.tokens.mkString(\" \")))\n",
    "    counter += 1\n",
    "    if (counter % 50 == 0) println(s\"iteration $counter\")\n",
    "}"
   ]
  },
  {
   "cell_type": "code",
   "execution_count": null,
   "metadata": {
    "collapsed": true
   },
   "outputs": [],
   "source": []
  },
  {
   "cell_type": "code",
   "execution_count": null,
   "metadata": {
    "collapsed": false,
    "scrolled": true
   },
   "outputs": [],
   "source": [
    "val doc_stream = doc_set.toStream"
   ]
  },
  {
   "cell_type": "code",
   "execution_count": null,
   "metadata": {
    "collapsed": false
   },
   "outputs": [],
   "source": [
    "val test_PosIndex = new indexing.PosIndex(doc_stream)"
   ]
  },
  {
   "cell_type": "code",
   "execution_count": null,
   "metadata": {
    "collapsed": true
   },
   "outputs": [],
   "source": []
  },
  {
   "cell_type": "code",
   "execution_count": null,
   "metadata": {
    "collapsed": true
   },
   "outputs": [],
   "source": []
  },
  {
   "cell_type": "code",
   "execution_count": null,
   "metadata": {
    "collapsed": true
   },
   "outputs": [],
   "source": []
  },
  {
   "cell_type": "code",
   "execution_count": null,
   "metadata": {
    "collapsed": false,
    "scrolled": false
   },
   "outputs": [],
   "source": [
    "test_PosIndex.index\n",
    "// test_pos_index.postings(doc_stream)"
   ]
  },
  {
   "cell_type": "code",
   "execution_count": null,
   "metadata": {
    "collapsed": false
   },
   "outputs": [],
   "source": [
    "\"iowa\".hashCode()"
   ]
  },
  {
   "cell_type": "code",
   "execution_count": null,
   "metadata": {
    "collapsed": false,
    "scrolled": true
   },
   "outputs": [],
   "source": [
    "test_PosIndex.results(\"iowa\".hashCode().toString)"
   ]
  },
  {
   "cell_type": "code",
   "execution_count": null,
   "metadata": {
    "collapsed": false,
    "scrolled": true
   },
   "outputs": [],
   "source": [
    "test_PosIndex.results(\"coupl\")"
   ]
  },
  {
   "cell_type": "code",
   "execution_count": null,
   "metadata": {
    "collapsed": false
   },
   "outputs": [],
   "source": [
    "indexing.ProxWindow.size"
   ]
  },
  {
   "cell_type": "code",
   "execution_count": null,
   "metadata": {
    "collapsed": false
   },
   "outputs": [],
   "source": [
    "test_PosIndex.results(Seq(\"iowa\", \"coupl\"))"
   ]
  },
  {
   "cell_type": "code",
   "execution_count": null,
   "metadata": {
    "collapsed": false,
    "scrolled": true
   },
   "outputs": [],
   "source": [
    "indexing.ProxWindow.setSize(2)"
   ]
  },
  {
   "cell_type": "code",
   "execution_count": null,
   "metadata": {
    "collapsed": false
   },
   "outputs": [],
   "source": [
    "test_PosIndex.results(Seq(\"iowa\", \"withkemp\"))"
   ]
  },
  {
   "cell_type": "code",
   "execution_count": null,
   "metadata": {
    "collapsed": true
   },
   "outputs": [],
   "source": []
  },
  {
   "cell_type": "code",
   "execution_count": null,
   "metadata": {
    "collapsed": false
   },
   "outputs": [],
   "source": [
    "val test_SimpleIndex = new indexing.SimpleIndex(doc_stream)"
   ]
  },
  {
   "cell_type": "code",
   "execution_count": null,
   "metadata": {
    "collapsed": false
   },
   "outputs": [],
   "source": [
    "test_SimpleIndex.index\n",
    "test_SimpleIndex.index.mapValues(x => x.length)"
   ]
  },
  {
   "cell_type": "code",
   "execution_count": null,
   "metadata": {
    "collapsed": true
   },
   "outputs": [],
   "source": []
  },
  {
   "cell_type": "code",
   "execution_count": null,
   "metadata": {
    "collapsed": false
   },
   "outputs": [],
   "source": [
    "val test_FreqIndex = new indexing.FreqIndex(doc_stream)"
   ]
  },
  {
   "cell_type": "code",
   "execution_count": null,
   "metadata": {
    "collapsed": false,
    "scrolled": true
   },
   "outputs": [],
   "source": [
    "test_FreqIndex.index\n",
    "test_FreqIndex.results(\"iowa\")"
   ]
  },
  {
   "cell_type": "code",
   "execution_count": null,
   "metadata": {
    "collapsed": true
   },
   "outputs": [],
   "source": []
  },
  {
   "cell_type": "code",
   "execution_count": null,
   "metadata": {
    "collapsed": false
   },
   "outputs": [],
   "source": [
    "val test_InvertedIndex = indexing.InvertedIndex"
   ]
  },
  {
   "cell_type": "code",
   "execution_count": null,
   "metadata": {
    "collapsed": true
   },
   "outputs": [],
   "source": []
  },
  {
   "cell_type": "code",
   "execution_count": null,
   "metadata": {
    "collapsed": true
   },
   "outputs": [],
   "source": []
  },
  {
   "cell_type": "code",
   "execution_count": null,
   "metadata": {
    "collapsed": true
   },
   "outputs": [],
   "source": []
  },
  {
   "cell_type": "markdown",
   "metadata": {
    "collapsed": true
   },
   "source": [
    "#### creating list of files\n",
    "#### indexing => creating inverse index\n",
    "#### lectures(?) => look at scoring algorithms"
   ]
  },
  {
   "cell_type": "markdown",
   "metadata": {},
   "source": [
    "# Testing ground"
   ]
  },
  {
   "cell_type": "code",
   "execution_count": 19,
   "metadata": {
    "collapsed": false,
    "scrolled": true
   },
   "outputs": [
    {
     "name": "stdout",
     "output_type": "stream",
     "text": [
      "Used Memory:  1063\r\n",
      "Free Memory:  1260\r\n",
      "Total Memory: 2323\r\n",
      "Max Memory:   5461\r\n"
     ]
    },
    {
     "data": {
      "text/plain": [
       "\u001b[36mmb\u001b[0m: \u001b[32mInt\u001b[0m = \u001b[32m1048576\u001b[0m\n",
       "\u001b[36mruntime\u001b[0m: \u001b[32mRuntime\u001b[0m = java.lang.Runtime@1566daf1"
      ]
     },
     "metadata": {},
     "output_type": "display_data"
    }
   ],
   "source": [
    "val mb = 1024*1024\n",
    "val runtime = Runtime.getRuntime\n",
    "println(s\"Used Memory:  \" + (runtime.totalMemory - runtime.freeMemory) / mb)\n",
    "println(s\"Free Memory:  \" + runtime.freeMemory / mb)\n",
    "println(s\"Total Memory: \" + runtime.totalMemory / mb)\n",
    "println(s\"Max Memory:   \" + runtime.maxMemory / mb)"
   ]
  },
  {
   "cell_type": "code",
   "execution_count": null,
   "metadata": {
    "collapsed": true
   },
   "outputs": [],
   "source": [
    "// Used Memory:  400\n",
    "// Free Memory:  215\n",
    "// Total Memory: 616\n",
    "// Max Memory:   3641"
   ]
  },
  {
   "cell_type": "code",
   "execution_count": null,
   "metadata": {
    "collapsed": true
   },
   "outputs": [],
   "source": []
  },
  {
   "cell_type": "code",
   "execution_count": null,
   "metadata": {
    "collapsed": true
   },
   "outputs": [],
   "source": []
  },
  {
   "cell_type": "code",
   "execution_count": null,
   "metadata": {
    "collapsed": true
   },
   "outputs": [],
   "source": []
  },
  {
   "cell_type": "code",
   "execution_count": null,
   "metadata": {
    "collapsed": true
   },
   "outputs": [],
   "source": []
  },
  {
   "cell_type": "code",
   "execution_count": null,
   "metadata": {
    "collapsed": false
   },
   "outputs": [],
   "source": [
    "val token_hm = MutHashMap[String, Int]()\n",
    "List(\"word1\", \"word3\").map(x => token_hm.getOrElseUpdate(x, token_hm.size))"
   ]
  },
  {
   "cell_type": "code",
   "execution_count": null,
   "metadata": {
    "collapsed": true
   },
   "outputs": [],
   "source": []
  },
  {
   "cell_type": "code",
   "execution_count": null,
   "metadata": {
    "collapsed": false,
    "scrolled": true
   },
   "outputs": [],
   "source": []
  },
  {
   "cell_type": "code",
   "execution_count": null,
   "metadata": {
    "collapsed": false
   },
   "outputs": [],
   "source": [
    "classpath.addPath(tiny_path)"
   ]
  },
  {
   "cell_type": "code",
   "execution_count": null,
   "metadata": {
    "collapsed": false
   },
   "outputs": [],
   "source": [
    "trait Result[T] extends Any {\n",
    "    def id : Int\n",
    "    def matches(that: T) : Int                 \n",
    "    def isMatch(that: T) = matches(that)==0\n",
    "    def matched(that: T) : T    \n",
    "}\n",
    "\n",
    "object InvertedIndex {\n",
    "    // generic list intersection (does not require sorted lists)\n",
    "    private def unsortedIntersect [A<% Result[A]](l1: List[A], l2: List[A]) = l1.intersect(l2)\n",
    "\n",
    "    // optimized list intersection for sorted posting lists \n",
    "    // uses \"matches\" and \"matched\" methods to work for all posting types\n",
    "    def sIntersect[A <% Result[A]] (l1: List[A], l2: List[A]) : List[A] = {\n",
    "        @annotation.tailrec\n",
    "        def iter (l1: List[A], l2: List[A], result: List[A]) : List[A] = {\n",
    "            if (l1.isEmpty || l2.isEmpty) \n",
    "                result.reverse\n",
    "            else (l1.head matches l2.head) match {\n",
    "                case n if n>0 => iter(l1, l2.tail,result)  // advance list l2\n",
    "                case n if n<0 => iter(l1.tail, l2,result)  // advance list l1\n",
    "                case _        => iter(l1.tail, l2.tail, (l1.head matched l2.head)::result)\t      \n",
    "            }\n",
    "        }    \n",
    "        iter(l1,l2,Nil)      \n",
    "    }\n",
    "}\n",
    "\n",
    "abstract class InvertedIndex[Res <% Result[Res]]  {\n",
    "    def results (term: String) : List[Res] \n",
    "    def results (terms: Seq[String]) : List[Res] = {\n",
    "        val resultLists      = terms.map(term => results(term))\n",
    "        val shortToLongLists = resultLists.sortWith( _.length < _.length) \n",
    "        shortToLongLists.reduceLeft( (l1,l2) => InvertedIndex.sIntersect(l1,l2) )\n",
    "    }\n",
    "}\n",
    "\n",
    "// import ch.ethz.dal.tinyir.indexing.InvertedIndex"
   ]
  },
  {
   "cell_type": "code",
   "execution_count": null,
   "metadata": {
    "collapsed": false
   },
   "outputs": [],
   "source": [
    "import scala.math._"
   ]
  },
  {
   "cell_type": "code",
   "execution_count": null,
   "metadata": {
    "collapsed": false
   },
   "outputs": [],
   "source": [
    "class Document(val id: Int, val tokens: List[Int])\n",
    "//     def id: Int = this.id\n",
    "//     def tokens: List[Int] = this.tokens"
   ]
  },
  {
   "cell_type": "code",
   "execution_count": null,
   "metadata": {
    "collapsed": false
   },
   "outputs": [],
   "source": [
    "case class ProxResult(val id: Int, val lpos: Int, val rpos: Int) extends Result[ProxResult] {\n",
    "    def matches(that: ProxResult) : Int = {    \n",
    "        if (this.id != that.id) this.id - that.id\n",
    "        else if ((max(rpos,that.rpos) - min(lpos,that.lpos)) <= ProxWindow.size) 0 // match\n",
    "        else this.lpos-that.lpos  // advance in list with the minimal lpos\n",
    "    }\n",
    "    def matched(that: ProxResult) = \n",
    "        ProxResult(id, min(this.lpos,that.lpos), max(this.rpos,that.rpos))\n",
    "}\n",
    "\n",
    "object ProxWindow {\n",
    "    var size = 1\n",
    "    def setSize(w: Int) {assert(w>=1); size = w}\n",
    "}\n",
    "\n",
    "class PosIndex (docs: Stream[Document]) extends InvertedIndex[ProxResult] {\n",
    "\n",
    "    case class PosPosting(val id: Int, val pos: Int) extends Ordered[PosPosting] {\n",
    "        def this(t: PosTuple) = this(t.id, t.pos) \n",
    "//         def compare(that: PosPosting) = Ordering[Tuple2[Int, Int]].compare((this.id, this.pos), (that.id, that.pos) ) \n",
    "    }\n",
    "    type PostList = List[PosPosting]\n",
    "    val index : Map[String, PostList] = {\n",
    "        val groupedPostings = postings(docs).groupBy(_.term)\n",
    "        groupedPostings.mapValues(_.map(p => PosPosting(p.id,p.pos)).sorted)\n",
    "    }\n",
    "  \n",
    "    case class PosTuple(term: String, id: Int, pos: Int) \n",
    "    def postings (s: Stream[Document]): List[PosTuple] =\n",
    "        s.flatMap( d => d.tokens.zipWithIndex.map{ case (tk,pos) => PosTuple(tk,d.ID,pos) } ).toList\n",
    "\n",
    "    override def results (word: String) : List[ProxResult] = \n",
    "        index.getOrElse(word,null).map(p => ProxResult(p.id, p.pos, p.pos))\n",
    "    override def results (terms: Seq[String]) : List[ProxResult] = results(terms,1)\n",
    "    def results (terms: Seq[String], win: Int) : List[ProxResult] = {\n",
    "        val resultLists = terms.map(term => results(term))\n",
    "        val shortToLongLists = resultLists.sortWith( _.length < _.length)   \n",
    "        shortToLongLists.reduceLeft( (l1,l2) => InvertedIndex.sIntersect(l1,l2) )\n",
    "    } \n",
    "}"
   ]
  },
  {
   "cell_type": "code",
   "execution_count": null,
   "metadata": {
    "collapsed": true
   },
   "outputs": [],
   "source": []
  }
 ],
 "metadata": {
  "anaconda-cloud": {},
  "kernelspec": {
   "display_name": "Scala 2.11",
   "language": "scala211",
   "name": "scala211"
  },
  "language_info": {
   "codemirror_mode": "text/x-scala",
   "file_extension": ".scala",
   "mimetype": "text/x-scala",
   "name": "scala211",
   "pygments_lexer": "scala",
   "version": "2.11.8"
  }
 },
 "nbformat": 4,
 "nbformat_minor": 1
}
