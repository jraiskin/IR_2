{
 "cells": [
  {
   "cell_type": "markdown",
   "metadata": {},
   "source": [
    "## Import modules"
   ]
  },
  {
   "cell_type": "markdown",
   "metadata": {},
   "source": [
    "Set your user name as a case, pointing to your path to documents and tinyir.jar"
   ]
  },
  {
   "cell_type": "code",
   "execution_count": 1,
   "metadata": {
    "collapsed": false,
    "scrolled": true
   },
   "outputs": [
    {
     "data": {
      "text/plain": [
       "\u001b[36mdoc_dir\u001b[0m: \u001b[32mString\u001b[0m = \u001b[32m\"../documents\"\u001b[0m\n",
       "\u001b[36mfiles_path\u001b[0m: \u001b[32mString\u001b[0m = \u001b[32m\"../\"\u001b[0m"
      ]
     },
     "metadata": {},
     "output_type": "display_data"
    }
   ],
   "source": [
    "// set your case once\n",
    "val (doc_dir: String, files_path: String) = System.getProperties().get(\"user.name\").toString match {\n",
    "    case \"Yarden-\"  => (\"../documents\", \"../\")\n",
    "    case \"Max\"  => (\"../MAXPATH\", \"../MAXPATH/tinyir-1.1.jar\")\n",
    "}"
   ]
  },
  {
   "cell_type": "code",
   "execution_count": 2,
   "metadata": {
    "collapsed": false
   },
   "outputs": [
    {
     "data": {
      "text/plain": []
     },
     "metadata": {},
     "output_type": "display_data"
    }
   ],
   "source": [
    "classpath.addPath(files_path + \"tinyir-1.1.jar\")"
   ]
  },
  {
   "cell_type": "code",
   "execution_count": 3,
   "metadata": {
    "collapsed": false,
    "scrolled": false
   },
   "outputs": [
    {
     "data": {
      "text/plain": [
       "\u001b[32mimport \u001b[36mscala.xml.XML\u001b[0m\n",
       "\u001b[32mimport \u001b[36mch.ethz.dal.tinyir._\u001b[0m\n",
       "\u001b[32mimport \u001b[36mcom.github.aztek.porterstemmer.PorterStemmer\u001b[0m"
      ]
     },
     "metadata": {},
     "output_type": "display_data"
    }
   ],
   "source": [
    "import scala.xml.XML\n",
    "import ch.ethz.dal.tinyir._\n",
    "import com.github.aztek.porterstemmer.PorterStemmer"
   ]
  },
  {
   "cell_type": "code",
   "execution_count": 4,
   "metadata": {
    "collapsed": false
   },
   "outputs": [
    {
     "data": {
      "text/plain": [
       "\u001b[32mimport \u001b[36mscala.io.Source\u001b[0m\n",
       "\u001b[32mimport \u001b[36mjava.io._\u001b[0m"
      ]
     },
     "metadata": {},
     "output_type": "display_data"
    }
   ],
   "source": [
    "import scala.io.Source  // for importing txt files\n",
    "import java.io._  // for saving txt files\n",
    "// import scala.collection.mutable.HashMap  //HashMap used for counting elements in linear time"
   ]
  },
  {
   "cell_type": "code",
   "execution_count": 5,
   "metadata": {
    "collapsed": false
   },
   "outputs": [
    {
     "data": {
      "text/plain": [
       "\u001b[32mimport \u001b[36mscala.collection.mutable.{Map => MutMap, HashMap => MutHashMap}\u001b[0m\n",
       "\u001b[32mimport \u001b[36mscala.collection.mutable.{Set => MutSet}\u001b[0m"
      ]
     },
     "metadata": {},
     "output_type": "display_data"
    }
   ],
   "source": [
    "// import scala.util.Random\n",
    "import scala.collection.mutable.{Map => MutMap, HashMap => MutHashMap}\n",
    "// enables \"mutable lists\"\n",
    "// import scala.collection.mutable.ListBuffer  \n",
    "import scala.collection.mutable.{Set => MutSet}"
   ]
  },
  {
   "cell_type": "markdown",
   "metadata": {},
   "source": [
    "## Define classes and functions"
   ]
  },
  {
   "cell_type": "code",
   "execution_count": 6,
   "metadata": {
    "collapsed": false
   },
   "outputs": [
    {
     "data": {
      "text/plain": [
       "defined \u001b[32mfunction \u001b[36mtoken_filter\u001b[0m"
      ]
     },
     "metadata": {},
     "output_type": "display_data"
    }
   ],
   "source": [
    "def token_filter(text_body: String) = {\n",
    "    processing.StopWords.filterOutSW(\n",
    "        processing.Tokenizer.tokenize(text_body.\n",
    "                                      replaceAll(\"\\\\P{L}+\", \" \"))\n",
    "    ).\n",
    "    map(x => PorterStemmer.stem(x)).filter(_.trim.nonEmpty).toList\n",
    "}"
   ]
  },
  {
   "cell_type": "code",
   "execution_count": 7,
   "metadata": {
    "collapsed": false,
    "scrolled": false
   },
   "outputs": [
    {
     "data": {
      "text/plain": [
       "defined \u001b[32mclass \u001b[36mxml_doc\u001b[0m"
      ]
     },
     "metadata": {},
     "output_type": "display_data"
    }
   ],
   "source": [
    "class xml_doc (file_path: String) {\n",
    "    def get_doc(): xml.Elem = {\n",
    "        XML.loadFile(file_path: String)\n",
    "    }    \n",
    "    \n",
    "    def text() = {\n",
    "        (get_doc() \\\\ \"DOC\" \\\\ \"TEXT\").text\n",
    "    }\n",
    "    \n",
    "    def head() = {\n",
    "        (get_doc() \\\\ \"DOC\" \\\\ \"HEAD\").text\n",
    "    }\n",
    "\n",
    "    def id() = {\n",
    "        (get_doc() \\\\ \"DOC\" \\\\ \"DOCNO\").text.trim\n",
    "    }\n",
    "    \n",
    "    def tokens() = {\n",
    "        token_filter(head() ++ text())\n",
    "    }\n",
    "    \n",
    "    def hash_tokens() = {\n",
    "        tokens().map(x => x.hashCode())\n",
    "    }\n",
    "}"
   ]
  },
  {
   "cell_type": "code",
   "execution_count": 8,
   "metadata": {
    "collapsed": false
   },
   "outputs": [
    {
     "data": {
      "text/plain": [
       "defined \u001b[32mfunction \u001b[36mlist_docs\u001b[0m\n",
       "\u001b[36mnumPattern\u001b[0m: \u001b[32mscala\u001b[0m.\u001b[32mutil\u001b[0m.\u001b[32mmatching\u001b[0m.\u001b[32mRegex\u001b[0m = [0-9]+"
      ]
     },
     "metadata": {},
     "output_type": "display_data"
    }
   ],
   "source": [
    "def list_docs (path: String) = {  // : Array[java.io.File]\n",
    "        new java.io.File(path).listFiles.map(x => x.toString())\n",
    "    }\n",
    "val numPattern = \"[0-9]+\".r"
   ]
  },
  {
   "cell_type": "code",
   "execution_count": 9,
   "metadata": {
    "collapsed": false
   },
   "outputs": [
    {
     "data": {
      "text/plain": [
       "defined \u001b[32mfunction \u001b[36mwrite_int_to_intList\u001b[0m"
      ]
     },
     "metadata": {},
     "output_type": "display_data"
    }
   ],
   "source": [
    "def write_int_to_intList(data: MutHashMap[Int, List[Int]],filename: String) = {\n",
    "\n",
    "    val bw = new BufferedWriter(new FileWriter(new File(filename)))\n",
    "    val iter = data.keys.iterator\n",
    "    while(iter.hasNext){\n",
    "        var elem = iter.next()\n",
    "        var values = data(elem).toList\n",
    "        if(values.length>0){\n",
    "            bw.write(elem+\" \"+values.mkString(\" \"))\n",
    "            bw.newLine\n",
    "        }    \n",
    "    }   \n",
    "    bw.close()\n",
    "}"
   ]
  },
  {
   "cell_type": "markdown",
   "metadata": {},
   "source": [
    "# Importing data files"
   ]
  },
  {
   "cell_type": "code",
   "execution_count": 10,
   "metadata": {
    "collapsed": false,
    "scrolled": false
   },
   "outputs": [
    {
     "data": {
      "text/plain": [
       "\u001b[36mtrain_list\u001b[0m: \u001b[32mArray\u001b[0m[\u001b[32mString\u001b[0m] = \u001b[33mArray\u001b[0m(\n",
       "  \u001b[32m\"\"\"\n",
       "..\\documents\\AP880212-0006\n",
       "  \"\"\"\u001b[0m,\n",
       "  \u001b[32m\"\"\"\n",
       "..\\documents\\AP880212-0007\n",
       "  \"\"\"\u001b[0m,\n",
       "  \u001b[32m\"\"\"\n",
       "..\\documents\\AP880212-0009\n",
       "  \"\"\"\u001b[0m,\n",
       "  \u001b[32m\"\"\"\n",
       "..\\documents\\AP880212-0017\n",
       "  \"\"\"\u001b[0m,\n",
       "  \u001b[32m\"\"\"\n",
       "..\\documents\\AP880212-0018\n",
       "  \"\"\"\u001b[0m,\n",
       "  \u001b[32m\"\"\"\n",
       "..\\documents\\AP880212-0022\n",
       "  \"\"\"\u001b[0m,\n",
       "  \u001b[32m\"\"\"\n",
       "\u001b[33m...\u001b[0m"
      ]
     },
     "metadata": {},
     "output_type": "display_data"
    }
   ],
   "source": [
    "val train_list = list_docs(doc_dir)"
   ]
  },
  {
   "cell_type": "code",
   "execution_count": 49,
   "metadata": {
    "collapsed": false
   },
   "outputs": [
    {
     "data": {
      "text/plain": [
       "\u001b[36mtoken_hash\u001b[0m: \u001b[32mcollection\u001b[0m.\u001b[32mmutable\u001b[0m.\u001b[32mHashMap\u001b[0m[\u001b[32mString\u001b[0m, \u001b[32mInt\u001b[0m] = \u001b[33mMap\u001b[0m()"
      ]
     },
     "metadata": {},
     "output_type": "display_data"
    }
   ],
   "source": [
    "val token_hash = MutHashMap[String, Int]() // token -> hash\n",
    "\n",
    "// List(\"word1\", \"word3\").map(x => token_hm.getOrElseUpdate(x, token_hm.size))"
   ]
  },
  {
   "cell_type": "code",
   "execution_count": 60,
   "metadata": {
    "collapsed": false
   },
   "outputs": [
    {
     "data": {
      "text/plain": [
       "defined \u001b[32mfunction \u001b[36mcreate_hash_doc_subset\u001b[0m"
      ]
     },
     "metadata": {},
     "output_type": "display_data"
    }
   ],
   "source": [
    "def create_hash_doc_subset(star_count: Int, end_count: Int,\n",
    "                           file_list: Array[String],\n",
    "                           token_hash_map: MutHashMap[String, Int] = token_hash) = {\n",
    "    val id_htoken = MutHashMap[Int, List[Int]]() // forward index, docID to tokens\n",
    "    val htoken_id = MutHashMap[Int, List[Int]]()  // inverse index, tokens to docID\n",
    "    val id_name = MutHashMap[Int, String]()  // inverse index, tokens to docID\n",
    "    val name_id = MutHashMap[String, Int]()  // inverse index, tokens to docID\n",
    "    var counter = star_count\n",
    "    while (counter < end_count){\n",
    "        var cur_doc = new xml_doc(file_list(counter))\n",
    "        // get token from XML, then hash, or create hashes \"on the fly\"\n",
    "        var cur_htoken = cur_doc.tokens.map(x => token_hash_map.getOrElseUpdate(x, token_hash_map.size))\n",
    "        id_htoken += counter -> cur_htoken\n",
    "        \n",
    "        // update the inverse mapping, from (hashed) tokens to docID\n",
    "        cur_htoken.distinct.foreach(\n",
    "            (token: Int) => htoken_id(token) = htoken_id.getOrElseUpdate(token, List[Int]()) ++ List(counter)\n",
    "        )\n",
    "        \n",
    "        id_name(counter) = cur_doc.id\n",
    "        name_id(cur_doc.id) = counter\n",
    "        \n",
    "        counter += 1\n",
    "        if (counter % 100 == 0) println(s\"iteration $counter\")\n",
    "    }\n",
    "    (id_htoken, htoken_id, token_hash_map, id_name, name_id)\n",
    "}"
   ]
  },
  {
   "cell_type": "code",
   "execution_count": 61,
   "metadata": {
    "collapsed": false,
    "scrolled": true
   },
   "outputs": [
    {
     "name": "stdout",
     "output_type": "stream",
     "text": [
      "iteration 100\n",
      "iteration 200\n",
      "iteration 300\n",
      "iteration 400\n",
      "iteration 500\n",
      "iteration 600\n",
      "iteration 700\n",
      "iteration 800\n",
      "iteration 900\n",
      "iteration 1000\n"
     ]
    },
    {
     "data": {
      "text/plain": [
       "\u001b[36mid_htoken\u001b[0m: \u001b[32mcollection\u001b[0m.\u001b[32mmutable\u001b[0m.\u001b[32mHashMap\u001b[0m[\u001b[32mInt\u001b[0m, \u001b[32mList\u001b[0m[\u001b[32mInt\u001b[0m]] = \u001b[33mMap\u001b[0m(\n",
       "  \u001b[32m137\u001b[0m -> \u001b[33mList\u001b[0m(\n",
       "    \u001b[32m9769\u001b[0m,\n",
       "    \u001b[32m48\u001b[0m,\n",
       "    \u001b[32m84\u001b[0m,\n",
       "    \u001b[32m120\u001b[0m,\n",
       "    \u001b[32m313\u001b[0m,\n",
       "    \u001b[32m255\u001b[0m,\n",
       "    \u001b[32m9485\u001b[0m,\n",
       "    \u001b[32m6862\u001b[0m,\n",
       "    \u001b[32m64\u001b[0m,\n",
       "    \u001b[32m65\u001b[0m,\n",
       "    \u001b[32m2763\u001b[0m,\n",
       "    \u001b[32m5499\u001b[0m,\n",
       "    \u001b[32m1022\u001b[0m,\n",
       "    \u001b[32m78\u001b[0m,\n",
       "    \u001b[32m120\u001b[0m,\n",
       "    \u001b[32m7222\u001b[0m,\n",
       "    \u001b[32m106\u001b[0m,\n",
       "    \u001b[32m107\u001b[0m,\n",
       "\u001b[33m...\u001b[0m\n",
       "\u001b[36mhtoken_id\u001b[0m: \u001b[32mcollection\u001b[0m.\u001b[32mmutable\u001b[0m.\u001b[32mHashMap\u001b[0m[\u001b[32mInt\u001b[0m, \u001b[32mList\u001b[0m[\u001b[32mInt\u001b[0m]] = \u001b[33mMap\u001b[0m(\n",
       "  \u001b[32m38420\u001b[0m -> \u001b[33mList\u001b[0m(\u001b[32m998\u001b[0m),\n",
       "  \u001b[32m12572\u001b[0m -> \u001b[33mList\u001b[0m(\u001b[32m205\u001b[0m, \u001b[32m496\u001b[0m, \u001b[32m527\u001b[0m, \u001b[32m991\u001b[0m),\n",
       "  \u001b[32m29520\u001b[0m -> \u001b[33mList\u001b[0m(\u001b[32m674\u001b[0m),\n",
       "  \u001b[32m6938\u001b[0m -> \u001b[33mList\u001b[0m(\u001b[32m88\u001b[0m),\n",
       "  \u001b[32m3672\u001b[0m -> \u001b[33mList\u001b[0m(\n",
       "    \u001b[32m39\u001b[0m,\n",
       "    \u001b[32m128\u001b[0m,\n",
       "    \u001b[32m136\u001b[0m,\n",
       "    \u001b[32m238\u001b[0m,\n",
       "    \u001b[32m266\u001b[0m,\n",
       "    \u001b[32m285\u001b[0m,\n",
       "    \u001b[32m293\u001b[0m,\n",
       "    \u001b[32m352\u001b[0m,\n",
       "    \u001b[32m375\u001b[0m,\n",
       "    \u001b[32m376\u001b[0m,\n",
       "    \u001b[32m409\u001b[0m,\n",
       "    \u001b[32m427\u001b[0m,\n",
       "    \u001b[32m446\u001b[0m,\n",
       "    \u001b[32m471\u001b[0m,\n",
       "\u001b[33m...\u001b[0m\n",
       "\u001b[36mtoken_hash\u001b[0m: \u001b[32mcollection\u001b[0m.\u001b[32mmutable\u001b[0m.\u001b[32mHashMap\u001b[0m[\u001b[32mString\u001b[0m, \u001b[32mInt\u001b[0m] = \u001b[33mMap\u001b[0m(\n",
       "  \u001b[32m\"saidthat\"\u001b[0m -> \u001b[32m4048\u001b[0m,\n",
       "  \u001b[32m\"majorfeatur\"\u001b[0m -> \u001b[32m20624\u001b[0m,\n",
       "  \u001b[32m\"sallah\"\u001b[0m -> \u001b[32m5672\u001b[0m,\n",
       "  \u001b[32m\"peoplewer\"\u001b[0m -> \u001b[32m9065\u001b[0m,\n",
       "  \u001b[32m\"wenor\"\u001b[0m -> \u001b[32m19319\u001b[0m,\n",
       "  \u001b[32m\"lithuaniannationalist\"\u001b[0m -> \u001b[32m12261\u001b[0m,\n",
       "  \u001b[32m\"yianni\"\u001b[0m -> \u001b[32m8604\u001b[0m,\n",
       "  \u001b[32m\"pancrea\"\u001b[0m -> \u001b[32m30341\u001b[0m,\n",
       "  \u001b[32m\"wealthybusinessman\"\u001b[0m -> \u001b[32m22672\u001b[0m,\n",
       "  \u001b[32m\"sservic\"\u001b[0m -> \u001b[32m8762\u001b[0m,\n",
       "  \u001b[32m\"madison\"\u001b[0m -> \u001b[32m8031\u001b[0m,\n",
       "  \u001b[32m\"columbu\"\u001b[0m -> \u001b[32m2999\u001b[0m,\n",
       "  \u001b[32m\"follow\"\u001b[0m -> \u001b[32m4710\u001b[0m,\n",
       "  \u001b[32m\"witheach\"\u001b[0m -> \u001b[32m30377\u001b[0m,\n",
       "  \u001b[32m\"aredefam\"\u001b[0m -> \u001b[32m28857\u001b[0m,\n",
       "  \u001b[32m\"establish\"\u001b[0m -> \u001b[32m1347\u001b[0m,\n",
       "  \u001b[32m\"ayatollahruhollah\"\u001b[0m -> \u001b[32m23868\u001b[0m,\n",
       "  \u001b[32m\"aguardian\"\u001b[0m -> \u001b[32m10987\u001b[0m,\n",
       "  \u001b[32m\"leaguesaid\"\u001b[0m -> \u001b[32m9182\u001b[0m,\n",
       "\u001b[33m...\u001b[0m\n",
       "\u001b[36mid_name\u001b[0m: \u001b[32mcollection\u001b[0m.\u001b[32mmutable\u001b[0m.\u001b[32mHashMap\u001b[0m[\u001b[32mInt\u001b[0m, \u001b[32mString\u001b[0m] = \u001b[33mMap\u001b[0m(\n",
       "  \u001b[32m137\u001b[0m -> \u001b[32m\"AP880217-0035\"\u001b[0m,\n",
       "  \u001b[32m891\u001b[0m -> \u001b[32m\"AP880309-0063\"\u001b[0m,\n",
       "  \u001b[32m864\u001b[0m -> \u001b[32m\"AP880308-0193\"\u001b[0m,\n",
       "  \u001b[32m146\u001b[0m -> \u001b[32m\"AP880217-0079\"\u001b[0m,\n",
       "  \u001b[32m550\u001b[0m -> \u001b[32m\"AP880227-0076\"\u001b[0m,\n",
       "  \u001b[32m559\u001b[0m -> \u001b[32m\"AP880227-0102\"\u001b[0m,\n",
       "  \u001b[32m218\u001b[0m -> \u001b[32m\"AP880218-0287\"\u001b[0m,\n",
       "  \u001b[32m568\u001b[0m -> \u001b[32m\"AP880228-0007\"\u001b[0m,\n",
       "  \u001b[32m227\u001b[0m -> \u001b[32m\"AP880219-0053\"\u001b[0m,\n",
       "  \u001b[32m765\u001b[0m -> \u001b[32m\"AP880303-0342\"\u001b[0m,\n",
       "  \u001b[32m774\u001b[0m -> \u001b[32m\"AP880304-0039\"\u001b[0m,\n",
       "  \u001b[32m92\u001b[0m -> \u001b[32m\"AP880215-0119\"\u001b[0m,\n",
       "  \u001b[32m433\u001b[0m -> \u001b[32m\"AP880224-0297\"\u001b[0m,\n",
       "  \u001b[32m846\u001b[0m -> \u001b[32m\"AP880308-0030\"\u001b[0m,\n",
       "  \u001b[32m101\u001b[0m -> \u001b[32m\"AP880215-0191\"\u001b[0m,\n",
       "  \u001b[32m442\u001b[0m -> \u001b[32m\"AP880225-0017\"\u001b[0m,\n",
       "  \u001b[32m855\u001b[0m -> \u001b[32m\"AP880308-0128\"\u001b[0m,\n",
       "  \u001b[32m200\u001b[0m -> \u001b[32m\"AP880218-0171\"\u001b[0m,\n",
       "  \u001b[32m173\u001b[0m -> \u001b[32m\"AP880217-0300\"\u001b[0m,\n",
       "\u001b[33m...\u001b[0m\n",
       "\u001b[36mname_id\u001b[0m: \u001b[32mcollection\u001b[0m.\u001b[32mmutable\u001b[0m.\u001b[32mHashMap\u001b[0m[\u001b[32mString\u001b[0m, \u001b[32mInt\u001b[0m] = \u001b[33mMap\u001b[0m(\n",
       "  \u001b[32m\"AP880310-0274\"\u001b[0m -> \u001b[32m972\u001b[0m,\n",
       "  \u001b[32m\"AP880218-0192\"\u001b[0m -> \u001b[32m204\u001b[0m,\n",
       "  \u001b[32m\"AP880226-0101\"\u001b[0m -> \u001b[32m508\u001b[0m,\n",
       "  \u001b[32m\"AP880308-0244\"\u001b[0m -> \u001b[32m869\u001b[0m,\n",
       "  \u001b[32m\"AP880301-0129\"\u001b[0m -> \u001b[32m642\u001b[0m,\n",
       "  \u001b[32m\"AP880222-0207\"\u001b[0m -> \u001b[32m325\u001b[0m,\n",
       "  \u001b[32m\"AP880302-0282\"\u001b[0m -> \u001b[32m723\u001b[0m,\n",
       "  \u001b[32m\"AP880219-0139\"\u001b[0m -> \u001b[32m239\u001b[0m,\n",
       "  \u001b[32m\"AP880302-0177\"\u001b[0m -> \u001b[32m711\u001b[0m,\n",
       "  \u001b[32m\"AP880223-0129\"\u001b[0m -> \u001b[32m360\u001b[0m,\n",
       "  \u001b[32m\"AP880223-0015\"\u001b[0m -> \u001b[32m335\u001b[0m,\n",
       "  \u001b[32m\"AP880311-0149\"\u001b[0m -> \u001b[32m993\u001b[0m,\n",
       "  \u001b[32m\"AP880217-0144\"\u001b[0m -> \u001b[32m153\u001b[0m,\n",
       "  \u001b[32m\"AP880214-0085\"\u001b[0m -> \u001b[32m71\u001b[0m,\n",
       "  \u001b[32m\"AP880222-0098\"\u001b[0m -> \u001b[32m307\u001b[0m,\n",
       "  \u001b[32m\"AP880229-0150\"\u001b[0m -> \u001b[32m599\u001b[0m,\n",
       "  \u001b[32m\"AP880311-0029\"\u001b[0m -> \u001b[32m982\u001b[0m,\n",
       "  \u001b[32m\"AP880310-0008\"\u001b[0m -> \u001b[32m944\u001b[0m,\n",
       "  \u001b[32m\"AP880304-0023\"\u001b[0m -> \u001b[32m772\u001b[0m,\n",
       "\u001b[33m...\u001b[0m"
      ]
     },
     "metadata": {},
     "output_type": "display_data"
    }
   ],
   "source": [
    "val (id_htoken, htoken_id, token_hash, \n",
    "     id_name, name_id) = create_hash_doc_subset(0, 1000, train_list)"
   ]
  },
  {
   "cell_type": "markdown",
   "metadata": {},
   "source": [
    "## Save to file"
   ]
  },
  {
   "cell_type": "code",
   "execution_count": 53,
   "metadata": {
    "collapsed": false,
    "scrolled": true
   },
   "outputs": [
    {
     "data": {
      "text/plain": [
       "\u001b[36mPATH_id_htoken\u001b[0m: \u001b[32mString\u001b[0m = \u001b[32m\"../id_htoken.txt\"\u001b[0m\n",
       "\u001b[36mPATH_htoken_id\u001b[0m: \u001b[32mString\u001b[0m = \u001b[32m\"../htoken_id.txt\"\u001b[0m"
      ]
     },
     "metadata": {},
     "output_type": "display_data"
    }
   ],
   "source": [
    "val PATH_id_htoken = files_path + \"id_htoken.txt\"\n",
    "write_int_to_intList(id_htoken, PATH_id_htoken)\n",
    "\n",
    "val PATH_htoken_id = files_path + \"htoken_id.txt\"\n",
    "write_int_to_intList(htoken_id, PATH_htoken_id)"
   ]
  },
  {
   "cell_type": "markdown",
   "metadata": {},
   "source": [
    "## Load from file"
   ]
  },
  {
   "cell_type": "code",
   "execution_count": 54,
   "metadata": {
    "collapsed": false
   },
   "outputs": [
    {
     "data": {
      "text/plain": [
       "defined \u001b[32mfunction \u001b[36mload_mutmap_file\u001b[0m"
      ]
     },
     "metadata": {},
     "output_type": "display_data"
    }
   ],
   "source": [
    "def load_mutmap_file(path: String, mutmap: MutMap[Int, List[Int]]) = {\n",
    "    val lines = Source.fromFile(path).getLines.toList\n",
    "    for (line <- lines){\n",
    "        val line_split = line.split(\" \", -1)\n",
    "        mutmap(line_split.head.toInt) = // List(111)\n",
    "            line_split.tail.map(x => x.toInt).toList\n",
    "    }\n",
    "}"
   ]
  },
  {
   "cell_type": "code",
   "execution_count": 55,
   "metadata": {
    "collapsed": false
   },
   "outputs": [
    {
     "data": {
      "text/plain": [
       "\u001b[36mtest_load_mutmap_id_htoken\u001b[0m: \u001b[32mcollection\u001b[0m.\u001b[32mmutable\u001b[0m.\u001b[32mMap\u001b[0m[\u001b[32mInt\u001b[0m, \u001b[32mList\u001b[0m[\u001b[32mInt\u001b[0m]] = \u001b[33mMap\u001b[0m()\n",
       "\u001b[36mtest_load_mutmap_htoken_id\u001b[0m: \u001b[32mcollection\u001b[0m.\u001b[32mmutable\u001b[0m.\u001b[32mMap\u001b[0m[\u001b[32mInt\u001b[0m, \u001b[32mList\u001b[0m[\u001b[32mInt\u001b[0m]] = \u001b[33mMap\u001b[0m()"
      ]
     },
     "metadata": {},
     "output_type": "display_data"
    }
   ],
   "source": [
    "val test_load_mutmap_id_htoken: MutMap[Int, List[Int]] = MutMap[Int, List[Int]]()\n",
    "val test_load_mutmap_htoken_id: MutMap[Int, List[Int]] = MutMap[Int, List[Int]]()"
   ]
  },
  {
   "cell_type": "code",
   "execution_count": 57,
   "metadata": {
    "collapsed": false
   },
   "outputs": [
    {
     "data": {
      "text/plain": [
       "\u001b[36mres56_2\u001b[0m: \u001b[32mBoolean\u001b[0m = \u001b[32mtrue\u001b[0m\n",
       "\u001b[36mres56_3\u001b[0m: \u001b[32mBoolean\u001b[0m = \u001b[32mtrue\u001b[0m"
      ]
     },
     "metadata": {},
     "output_type": "display_data"
    }
   ],
   "source": [
    "load_mutmap_file(PATH_id_htoken, test_load_mutmap_id_htoken)\n",
    "load_mutmap_file(PATH_htoken_id, test_load_mutmap_htoken_id)\n",
    "// confirm load successful\n",
    "test_load_mutmap_id_htoken == id_htoken\n",
    "test_load_mutmap_htoken_id == htoken_id"
   ]
  },
  {
   "cell_type": "code",
   "execution_count": null,
   "metadata": {
    "collapsed": true
   },
   "outputs": [],
   "source": []
  },
  {
   "cell_type": "code",
   "execution_count": null,
   "metadata": {
    "collapsed": true
   },
   "outputs": [],
   "source": []
  },
  {
   "cell_type": "code",
   "execution_count": null,
   "metadata": {
    "collapsed": true
   },
   "outputs": [],
   "source": []
  },
  {
   "cell_type": "code",
   "execution_count": null,
   "metadata": {
    "collapsed": true
   },
   "outputs": [],
   "source": []
  },
  {
   "cell_type": "code",
   "execution_count": 45,
   "metadata": {
    "collapsed": false
   },
   "outputs": [
    {
     "data": {
      "text/plain": [
       "\u001b[36mres44\u001b[0m: \u001b[32mList\u001b[0m[\u001b[32mInt\u001b[0m] = \u001b[33mList\u001b[0m(\u001b[32m1\u001b[0m, \u001b[32m4\u001b[0m, \u001b[32m5\u001b[0m, \u001b[32m6\u001b[0m)"
      ]
     },
     "metadata": {},
     "output_type": "display_data"
    }
   ],
   "source": [
    "List(1,1,4,5,6).distinct"
   ]
  },
  {
   "cell_type": "code",
   "execution_count": null,
   "metadata": {
    "collapsed": true
   },
   "outputs": [],
   "source": []
  },
  {
   "cell_type": "code",
   "execution_count": null,
   "metadata": {
    "collapsed": true
   },
   "outputs": [],
   "source": []
  },
  {
   "cell_type": "code",
   "execution_count": null,
   "metadata": {
    "collapsed": true
   },
   "outputs": [],
   "source": []
  },
  {
   "cell_type": "code",
   "execution_count": null,
   "metadata": {
    "collapsed": true
   },
   "outputs": [],
   "source": []
  },
  {
   "cell_type": "code",
   "execution_count": null,
   "metadata": {
    "collapsed": false
   },
   "outputs": [],
   "source": [
    "def create_doc_subset(star_count: Int, end_count: Int,\n",
    "                     file_list: Array[String]) = {\n",
    "    val doc_set = MutSet[processing.StringDocument]()\n",
    "    var counter = star_count\n",
    "    while (counter < end_count){\n",
    "        var cur_doc = new xml_doc(file_list(counter))\n",
    "        doc_set += (new processing.StringDocument(counter, cur_doc.tokens.mkString(\" \")))\n",
    "        counter += 1\n",
    "        if (counter % 50 == 0) println(s\"iteration $counter\")\n",
    "    }\n",
    "    doc_set.toStream\n",
    "}"
   ]
  },
  {
   "cell_type": "code",
   "execution_count": null,
   "metadata": {
    "collapsed": false,
    "scrolled": true
   },
   "outputs": [],
   "source": [
    "val doc_sub_stream = create_doc_subset(0, 50000, train_list)"
   ]
  },
  {
   "cell_type": "code",
   "execution_count": null,
   "metadata": {
    "collapsed": true
   },
   "outputs": [],
   "source": [
    "val test_PosIndex = new indexing.PosIndex(doc_sub_stream)"
   ]
  },
  {
   "cell_type": "code",
   "execution_count": null,
   "metadata": {
    "collapsed": true
   },
   "outputs": [],
   "source": [
    "// start at 17:20"
   ]
  },
  {
   "cell_type": "code",
   "execution_count": null,
   "metadata": {
    "collapsed": true
   },
   "outputs": [],
   "source": []
  },
  {
   "cell_type": "code",
   "execution_count": null,
   "metadata": {
    "collapsed": true
   },
   "outputs": [],
   "source": []
  },
  {
   "cell_type": "code",
   "execution_count": null,
   "metadata": {
    "collapsed": false,
    "scrolled": true
   },
   "outputs": [],
   "source": [
    "val doc_sub_stream_1 = create_doc_subset(0, 20000, train_list)"
   ]
  },
  {
   "cell_type": "code",
   "execution_count": null,
   "metadata": {
    "collapsed": false
   },
   "outputs": [],
   "source": [
    "val doc_sub_stream_2 = create_doc_subset(20000, 40000, train_list)"
   ]
  },
  {
   "cell_type": "code",
   "execution_count": null,
   "metadata": {
    "collapsed": false,
    "scrolled": true
   },
   "outputs": [],
   "source": [
    "val doc_sub_stream_3 = create_doc_subset(40000, 60000, train_list)"
   ]
  },
  {
   "cell_type": "code",
   "execution_count": null,
   "metadata": {
    "collapsed": false
   },
   "outputs": [],
   "source": [
    "val doc_sub_stream_4 = create_doc_subset(60000, 80000, train_list)"
   ]
  },
  {
   "cell_type": "code",
   "execution_count": null,
   "metadata": {
    "collapsed": false
   },
   "outputs": [],
   "source": [
    "val doc_sub_stream_5 = create_doc_subset(80000, 100000, train_list)"
   ]
  },
  {
   "cell_type": "code",
   "execution_count": null,
   "metadata": {
    "collapsed": true
   },
   "outputs": [],
   "source": [
    "// started at 10:30\n",
    "// finished at 11:51\n",
    "// Total Memory: 2701 "
   ]
  },
  {
   "cell_type": "code",
   "execution_count": null,
   "metadata": {
    "collapsed": false
   },
   "outputs": [],
   "source": []
  },
  {
   "cell_type": "code",
   "execution_count": null,
   "metadata": {
    "collapsed": true
   },
   "outputs": [],
   "source": []
  },
  {
   "cell_type": "code",
   "execution_count": null,
   "metadata": {
    "collapsed": false
   },
   "outputs": [],
   "source": [
    "val test_PosIndex = new indexing.PosIndex(doc_sub_stream_1 ++ \n",
    "                                          doc_sub_stream_2 ++ \n",
    "                                          doc_sub_stream_3 ++ \n",
    "                                          doc_sub_stream_4 ++ \n",
    "                                          doc_sub_stream_5)"
   ]
  },
  {
   "cell_type": "code",
   "execution_count": null,
   "metadata": {
    "collapsed": true
   },
   "outputs": [],
   "source": []
  },
  {
   "cell_type": "code",
   "execution_count": null,
   "metadata": {
    "collapsed": true
   },
   "outputs": [],
   "source": []
  },
  {
   "cell_type": "code",
   "execution_count": null,
   "metadata": {
    "collapsed": true
   },
   "outputs": [],
   "source": []
  },
  {
   "cell_type": "code",
   "execution_count": null,
   "metadata": {
    "collapsed": true
   },
   "outputs": [],
   "source": []
  },
  {
   "cell_type": "code",
   "execution_count": null,
   "metadata": {
    "collapsed": true
   },
   "outputs": [],
   "source": []
  },
  {
   "cell_type": "code",
   "execution_count": null,
   "metadata": {
    "collapsed": true
   },
   "outputs": [],
   "source": []
  },
  {
   "cell_type": "code",
   "execution_count": null,
   "metadata": {
    "collapsed": false,
    "scrolled": true
   },
   "outputs": [],
   "source": [
    "\n",
    "\n",
    "\n",
    "\n",
    "val doc_set = MutSet[processing.StringDocument]()\n",
    "var counter = 0\n",
    "for (path <- train_list.take(100)){\n",
    "// for (path <- train_list){\n",
    "    var cur_doc = new xml_doc(path)\n",
    "    doc_set += (new processing.StringDocument(counter, cur_doc.tokens.mkString(\" \")))\n",
    "    counter += 1\n",
    "    if (counter % 50 == 0) println(s\"iteration $counter\")\n",
    "}"
   ]
  },
  {
   "cell_type": "code",
   "execution_count": null,
   "metadata": {
    "collapsed": true
   },
   "outputs": [],
   "source": []
  },
  {
   "cell_type": "code",
   "execution_count": null,
   "metadata": {
    "collapsed": false,
    "scrolled": true
   },
   "outputs": [],
   "source": [
    "val doc_stream = doc_set.toStream"
   ]
  },
  {
   "cell_type": "code",
   "execution_count": null,
   "metadata": {
    "collapsed": false
   },
   "outputs": [],
   "source": [
    "val test_PosIndex = new indexing.PosIndex(doc_stream)"
   ]
  },
  {
   "cell_type": "code",
   "execution_count": null,
   "metadata": {
    "collapsed": true
   },
   "outputs": [],
   "source": []
  },
  {
   "cell_type": "code",
   "execution_count": null,
   "metadata": {
    "collapsed": true
   },
   "outputs": [],
   "source": []
  },
  {
   "cell_type": "code",
   "execution_count": null,
   "metadata": {
    "collapsed": true
   },
   "outputs": [],
   "source": []
  },
  {
   "cell_type": "code",
   "execution_count": null,
   "metadata": {
    "collapsed": false,
    "scrolled": false
   },
   "outputs": [],
   "source": [
    "test_PosIndex.index\n",
    "// test_pos_index.postings(doc_stream)"
   ]
  },
  {
   "cell_type": "code",
   "execution_count": null,
   "metadata": {
    "collapsed": false
   },
   "outputs": [],
   "source": [
    "\"iowa\".hashCode()"
   ]
  },
  {
   "cell_type": "code",
   "execution_count": null,
   "metadata": {
    "collapsed": false,
    "scrolled": true
   },
   "outputs": [],
   "source": [
    "test_PosIndex.results(\"iowa\".hashCode().toString)"
   ]
  },
  {
   "cell_type": "code",
   "execution_count": null,
   "metadata": {
    "collapsed": false,
    "scrolled": true
   },
   "outputs": [],
   "source": [
    "test_PosIndex.results(\"coupl\")"
   ]
  },
  {
   "cell_type": "code",
   "execution_count": null,
   "metadata": {
    "collapsed": false
   },
   "outputs": [],
   "source": [
    "indexing.ProxWindow.size"
   ]
  },
  {
   "cell_type": "code",
   "execution_count": null,
   "metadata": {
    "collapsed": false
   },
   "outputs": [],
   "source": [
    "test_PosIndex.results(Seq(\"iowa\", \"coupl\"))"
   ]
  },
  {
   "cell_type": "code",
   "execution_count": null,
   "metadata": {
    "collapsed": false,
    "scrolled": true
   },
   "outputs": [],
   "source": [
    "indexing.ProxWindow.setSize(2)"
   ]
  },
  {
   "cell_type": "code",
   "execution_count": null,
   "metadata": {
    "collapsed": false
   },
   "outputs": [],
   "source": [
    "test_PosIndex.results(Seq(\"iowa\", \"withkemp\"))"
   ]
  },
  {
   "cell_type": "code",
   "execution_count": null,
   "metadata": {
    "collapsed": true
   },
   "outputs": [],
   "source": []
  },
  {
   "cell_type": "code",
   "execution_count": null,
   "metadata": {
    "collapsed": false
   },
   "outputs": [],
   "source": [
    "val test_SimpleIndex = new indexing.SimpleIndex(doc_stream)"
   ]
  },
  {
   "cell_type": "code",
   "execution_count": null,
   "metadata": {
    "collapsed": false
   },
   "outputs": [],
   "source": [
    "test_SimpleIndex.index\n",
    "test_SimpleIndex.index.mapValues(x => x.length)"
   ]
  },
  {
   "cell_type": "code",
   "execution_count": null,
   "metadata": {
    "collapsed": true
   },
   "outputs": [],
   "source": []
  },
  {
   "cell_type": "code",
   "execution_count": null,
   "metadata": {
    "collapsed": false
   },
   "outputs": [],
   "source": [
    "val test_FreqIndex = new indexing.FreqIndex(doc_stream)"
   ]
  },
  {
   "cell_type": "code",
   "execution_count": null,
   "metadata": {
    "collapsed": false,
    "scrolled": true
   },
   "outputs": [],
   "source": [
    "test_FreqIndex.index\n",
    "test_FreqIndex.results(\"iowa\")"
   ]
  },
  {
   "cell_type": "code",
   "execution_count": null,
   "metadata": {
    "collapsed": true
   },
   "outputs": [],
   "source": []
  },
  {
   "cell_type": "code",
   "execution_count": null,
   "metadata": {
    "collapsed": false
   },
   "outputs": [],
   "source": [
    "val test_InvertedIndex = indexing.InvertedIndex"
   ]
  },
  {
   "cell_type": "code",
   "execution_count": null,
   "metadata": {
    "collapsed": true
   },
   "outputs": [],
   "source": []
  },
  {
   "cell_type": "code",
   "execution_count": null,
   "metadata": {
    "collapsed": true
   },
   "outputs": [],
   "source": []
  },
  {
   "cell_type": "code",
   "execution_count": null,
   "metadata": {
    "collapsed": true
   },
   "outputs": [],
   "source": []
  },
  {
   "cell_type": "markdown",
   "metadata": {
    "collapsed": true
   },
   "source": [
    "#### creating list of files\n",
    "#### indexing => creating inverse index\n",
    "#### lectures(?) => look at scoring algorithms"
   ]
  },
  {
   "cell_type": "markdown",
   "metadata": {},
   "source": [
    "# Testing ground"
   ]
  },
  {
   "cell_type": "code",
   "execution_count": null,
   "metadata": {
    "collapsed": false,
    "scrolled": true
   },
   "outputs": [],
   "source": [
    "val mb = 1024*1024\n",
    "val runtime = Runtime.getRuntime\n",
    "println(s\"Used Memory:  \" + (runtime.totalMemory - runtime.freeMemory) / mb)\n",
    "println(s\"Free Memory:  \" + runtime.freeMemory / mb)\n",
    "println(s\"Total Memory: \" + runtime.totalMemory / mb)\n",
    "println(s\"Max Memory:   \" + runtime.maxMemory / mb)"
   ]
  },
  {
   "cell_type": "code",
   "execution_count": null,
   "metadata": {
    "collapsed": true
   },
   "outputs": [],
   "source": [
    "// Used Memory:  400\n",
    "// Free Memory:  215\n",
    "// Total Memory: 616\n",
    "// Max Memory:   3641"
   ]
  },
  {
   "cell_type": "code",
   "execution_count": null,
   "metadata": {
    "collapsed": true
   },
   "outputs": [],
   "source": []
  },
  {
   "cell_type": "code",
   "execution_count": null,
   "metadata": {
    "collapsed": true
   },
   "outputs": [],
   "source": []
  },
  {
   "cell_type": "code",
   "execution_count": null,
   "metadata": {
    "collapsed": true
   },
   "outputs": [],
   "source": []
  },
  {
   "cell_type": "code",
   "execution_count": null,
   "metadata": {
    "collapsed": true
   },
   "outputs": [],
   "source": []
  },
  {
   "cell_type": "code",
   "execution_count": null,
   "metadata": {
    "collapsed": false
   },
   "outputs": [],
   "source": [
    "val token_hm = MutHashMap[String, Int]()\n",
    "List(\"word1\", \"word3\").map(x => token_hm.getOrElseUpdate(x, token_hm.size))"
   ]
  },
  {
   "cell_type": "code",
   "execution_count": null,
   "metadata": {
    "collapsed": true
   },
   "outputs": [],
   "source": []
  },
  {
   "cell_type": "code",
   "execution_count": null,
   "metadata": {
    "collapsed": false,
    "scrolled": true
   },
   "outputs": [],
   "source": []
  },
  {
   "cell_type": "code",
   "execution_count": null,
   "metadata": {
    "collapsed": false
   },
   "outputs": [],
   "source": [
    "classpath.addPath(tiny_path)"
   ]
  },
  {
   "cell_type": "code",
   "execution_count": null,
   "metadata": {
    "collapsed": false
   },
   "outputs": [],
   "source": [
    "trait Result[T] extends Any {\n",
    "    def id : Int\n",
    "    def matches(that: T) : Int                 \n",
    "    def isMatch(that: T) = matches(that)==0\n",
    "    def matched(that: T) : T    \n",
    "}\n",
    "\n",
    "object InvertedIndex {\n",
    "    // generic list intersection (does not require sorted lists)\n",
    "    private def unsortedIntersect [A<% Result[A]](l1: List[A], l2: List[A]) = l1.intersect(l2)\n",
    "\n",
    "    // optimized list intersection for sorted posting lists \n",
    "    // uses \"matches\" and \"matched\" methods to work for all posting types\n",
    "    def sIntersect[A <% Result[A]] (l1: List[A], l2: List[A]) : List[A] = {\n",
    "        @annotation.tailrec\n",
    "        def iter (l1: List[A], l2: List[A], result: List[A]) : List[A] = {\n",
    "            if (l1.isEmpty || l2.isEmpty) \n",
    "                result.reverse\n",
    "            else (l1.head matches l2.head) match {\n",
    "                case n if n>0 => iter(l1, l2.tail,result)  // advance list l2\n",
    "                case n if n<0 => iter(l1.tail, l2,result)  // advance list l1\n",
    "                case _        => iter(l1.tail, l2.tail, (l1.head matched l2.head)::result)\t      \n",
    "            }\n",
    "        }    \n",
    "        iter(l1,l2,Nil)      \n",
    "    }\n",
    "}\n",
    "\n",
    "abstract class InvertedIndex[Res <% Result[Res]]  {\n",
    "    def results (term: String) : List[Res] \n",
    "    def results (terms: Seq[String]) : List[Res] = {\n",
    "        val resultLists      = terms.map(term => results(term))\n",
    "        val shortToLongLists = resultLists.sortWith( _.length < _.length) \n",
    "        shortToLongLists.reduceLeft( (l1,l2) => InvertedIndex.sIntersect(l1,l2) )\n",
    "    }\n",
    "}\n",
    "\n",
    "// import ch.ethz.dal.tinyir.indexing.InvertedIndex"
   ]
  },
  {
   "cell_type": "code",
   "execution_count": null,
   "metadata": {
    "collapsed": false
   },
   "outputs": [],
   "source": [
    "import scala.math._"
   ]
  },
  {
   "cell_type": "code",
   "execution_count": null,
   "metadata": {
    "collapsed": false
   },
   "outputs": [],
   "source": [
    "class Document(val id: Int, val tokens: List[Int])\n",
    "//     def id: Int = this.id\n",
    "//     def tokens: List[Int] = this.tokens"
   ]
  },
  {
   "cell_type": "code",
   "execution_count": null,
   "metadata": {
    "collapsed": false
   },
   "outputs": [],
   "source": [
    "case class ProxResult(val id: Int, val lpos: Int, val rpos: Int) extends Result[ProxResult] {\n",
    "    def matches(that: ProxResult) : Int = {    \n",
    "        if (this.id != that.id) this.id - that.id\n",
    "        else if ((max(rpos,that.rpos) - min(lpos,that.lpos)) <= ProxWindow.size) 0 // match\n",
    "        else this.lpos-that.lpos  // advance in list with the minimal lpos\n",
    "    }\n",
    "    def matched(that: ProxResult) = \n",
    "        ProxResult(id, min(this.lpos,that.lpos), max(this.rpos,that.rpos))\n",
    "}\n",
    "\n",
    "object ProxWindow {\n",
    "    var size = 1\n",
    "    def setSize(w: Int) {assert(w>=1); size = w}\n",
    "}\n",
    "\n",
    "class PosIndex (docs: Stream[Document]) extends InvertedIndex[ProxResult] {\n",
    "\n",
    "    case class PosPosting(val id: Int, val pos: Int) extends Ordered[PosPosting] {\n",
    "        def this(t: PosTuple) = this(t.id, t.pos) \n",
    "//         def compare(that: PosPosting) = Ordering[Tuple2[Int, Int]].compare((this.id, this.pos), (that.id, that.pos) ) \n",
    "    }\n",
    "    type PostList = List[PosPosting]\n",
    "    val index : Map[String, PostList] = {\n",
    "        val groupedPostings = postings(docs).groupBy(_.term)\n",
    "        groupedPostings.mapValues(_.map(p => PosPosting(p.id,p.pos)).sorted)\n",
    "    }\n",
    "  \n",
    "    case class PosTuple(term: String, id: Int, pos: Int) \n",
    "    def postings (s: Stream[Document]): List[PosTuple] =\n",
    "        s.flatMap( d => d.tokens.zipWithIndex.map{ case (tk,pos) => PosTuple(tk,d.ID,pos) } ).toList\n",
    "\n",
    "    override def results (word: String) : List[ProxResult] = \n",
    "        index.getOrElse(word,null).map(p => ProxResult(p.id, p.pos, p.pos))\n",
    "    override def results (terms: Seq[String]) : List[ProxResult] = results(terms,1)\n",
    "    def results (terms: Seq[String], win: Int) : List[ProxResult] = {\n",
    "        val resultLists = terms.map(term => results(term))\n",
    "        val shortToLongLists = resultLists.sortWith( _.length < _.length)   \n",
    "        shortToLongLists.reduceLeft( (l1,l2) => InvertedIndex.sIntersect(l1,l2) )\n",
    "    } \n",
    "}"
   ]
  },
  {
   "cell_type": "code",
   "execution_count": null,
   "metadata": {
    "collapsed": true
   },
   "outputs": [],
   "source": []
  }
 ],
 "metadata": {
  "anaconda-cloud": {},
  "kernelspec": {
   "display_name": "Scala 2.11",
   "language": "scala211",
   "name": "scala211"
  },
  "language_info": {
   "codemirror_mode": "text/x-scala",
   "file_extension": ".scala",
   "mimetype": "text/x-scala",
   "name": "scala211",
   "pygments_lexer": "scala",
   "version": "2.11.8"
  }
 },
 "nbformat": 4,
 "nbformat_minor": 1
}
