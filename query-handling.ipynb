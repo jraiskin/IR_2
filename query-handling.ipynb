{
 "cells": [
  {
   "cell_type": "code",
   "execution_count": 1,
   "metadata": {
    "collapsed": false
   },
   "outputs": [
    {
     "data": {
      "text/plain": []
     },
     "metadata": {},
     "output_type": "display_data"
    }
   ],
   "source": [
    "classpath.addPath(\"tinyir-1.1.jar\")"
   ]
  },
  {
   "cell_type": "code",
   "execution_count": 2,
   "metadata": {
    "collapsed": false
   },
   "outputs": [
    {
     "data": {
      "text/plain": [
       "\u001b[32mimport \u001b[36mch.ethz.dal.tinyir._\u001b[0m\n",
       "\u001b[32mimport \u001b[36mch.ethz.dal.tinyir.lectures._\u001b[0m"
      ]
     },
     "metadata": {},
     "output_type": "display_data"
    }
   ],
   "source": [
    "import ch.ethz.dal.tinyir._\n",
    "import ch.ethz.dal.tinyir.lectures._\n"
   ]
  },
  {
   "cell_type": "code",
   "execution_count": 29,
   "metadata": {
    "collapsed": true
   },
   "outputs": [
    {
     "data": {
      "text/plain": [
       "\u001b[32mimport \u001b[36mch.ethz.dal.tinyir.lectures._\u001b[0m\n",
       "\u001b[36mtruth\u001b[0m: \u001b[32mTipsterGroundTruth\u001b[0m = ch.ethz.dal.tinyir.lectures.TipsterGroundTruth@2f0adf2\n",
       "\u001b[36mres28_2\u001b[0m: \u001b[32mArray\u001b[0m[\u001b[32mString\u001b[0m] = \u001b[33mArray\u001b[0m(\n",
       "  \u001b[32m\"AP8803010271\"\u001b[0m,\n",
       "  \u001b[32m\"AP8803020275\"\u001b[0m,\n",
       "  \u001b[32m\"AP8803110301\"\u001b[0m,\n",
       "  \u001b[32m\"AP8803160292\"\u001b[0m,\n",
       "  \u001b[32m\"AP8803180287\"\u001b[0m,\n",
       "  \u001b[32m\"AP8803250293\"\u001b[0m,\n",
       "  \u001b[32m\"AP8804060267\"\u001b[0m,\n",
       "  \u001b[32m\"AP8804070258\"\u001b[0m,\n",
       "  \u001b[32m\"AP8804120268\"\u001b[0m,\n",
       "  \u001b[32m\"AP8804280301\"\u001b[0m,\n",
       "  \u001b[32m\"AP8806270045\"\u001b[0m,\n",
       "  \u001b[32m\"AP8806270093\"\u001b[0m,\n",
       "  \u001b[32m\"AP8806280097\"\u001b[0m,\n",
       "  \u001b[32m\"AP8806280170\"\u001b[0m,\n",
       "  \u001b[32m\"AP8806280310\"\u001b[0m,\n",
       "  \u001b[32m\"AP8807060311\"\u001b[0m,\n",
       "  \u001b[32m\"AP8807310085\"\u001b[0m,\n",
       "  \u001b[32m\"AP8809220206\"\u001b[0m,\n",
       "  \u001b[32m\"AP8809260235\"\u001b[0m,\n",
       "\u001b[33m...\u001b[0m\n",
       "\u001b[36mres28_3\u001b[0m: \u001b[32mInt\u001b[0m = \u001b[32m52\u001b[0m\n",
       "\u001b[36mres28_4\u001b[0m: \u001b[32mInt\u001b[0m = \u001b[32m894\u001b[0m"
      ]
     },
     "metadata": {},
     "output_type": "display_data"
    }
   ],
   "source": [
    "// requires: having added tinyir to classpath, having added the qrels, i.e. \"relevance-judgements.csv\" in root \n",
    "// builds truth, an object, whose only method .judgements(\"query-ID\") returns the set of all document-IDs deemed \n",
    "// relevant to that query, note that these document-IDs are provided as List[String]\n",
    "// observe that query-ID is a string of an integer between 51 and 90 -> 40 queries in total\n",
    "import ch.ethz.dal.tinyir.lectures._\n",
    "val truth = new TipsterGroundTruth(\"relevance-judgements.csv\")\n",
    "\n",
    "// how to use it, example:\n",
    "truth.judgements(\"51\")\n",
    "// observe that the size of relevant documents varies between queries, with the minimum being 52 and the maximum 894\n",
    "truth.judgements.values.map(x => x.size).min\n",
    "truth.judgements.values.map(x => x.size).max"
   ]
  },
  {
   "cell_type": "code",
   "execution_count": 31,
   "metadata": {
    "collapsed": false
   },
   "outputs": [
    {
     "data": {
      "text/plain": [
       "\u001b[32mimport \u001b[36mch.ethz.dal.tinyir.alerts._\u001b[0m\n",
       "\u001b[36mquery1\u001b[0m: \u001b[32mQuery\u001b[0m = ch.ethz.dal.tinyir.alerts.Query@2aa960f3"
      ]
     },
     "metadata": {},
     "output_type": "display_data"
    }
   ],
   "source": [
    "// I was first confused to find this in the alerts package. I now believe it is relevant at all for this project, \n",
    "// but that we handles queries in the alerts lecture, and that's a leftover.\n",
    "// after re-considering again. it seems that alerts are relevant to this project and its basics, just checked out the \n",
    "// lecture. a bit helpful!\n",
    "import ch.ethz.dal.tinyir.alerts._\n",
    "val query1 = new Query(\"I love scala\")\n",
    "query1.score(List(\"Donald\",\"Trump\",\"is\",\"President\"))"
   ]
  },
  {
   "cell_type": "code",
   "execution_count": 43,
   "metadata": {
    "collapsed": false
   },
   "outputs": [
    {
     "ename": "",
     "evalue": "",
     "output_type": "error",
     "traceback": [
      "\u001b[31mMain.scala:25: reference to AlertsTipster is ambiguous;",
      "it is imported twice in the same scope by",
      "import ch.ethz.dal.tinyir.alerts._",
      "and import $ref$cmd39.AlertsTipster",
      "new AlertsTipster(\"I love scala\",100) ",
      "    ^\u001b[0m"
     ]
    }
   ],
   "source": [
    "import ch.ethz.dal.tinyir.alerts._\n",
    "\n",
    "val alert1 = new AlertsTipster(\"I love scala\",100)"
   ]
  },
  {
   "cell_type": "code",
   "execution_count": 51,
   "metadata": {
    "collapsed": false
   },
   "outputs": [
    {
     "data": {
      "text/plain": [
       "\u001b[32mimport \u001b[36mch.ethz.dal.tinyir.util.StopWatch\u001b[0m\n",
       "\u001b[32mimport \u001b[36mch.ethz.dal.tinyir.io.TipsterStream\u001b[0m\n",
       "\u001b[32mimport \u001b[36mch.ethz.dal.tinyir.lectures.TipsterGroundTruth\u001b[0m\n",
       "\u001b[32mimport \u001b[36mch.ethz.dal.tinyir.lectures.PrecisionRecall\u001b[0m\n",
       "defined \u001b[32mclass \u001b[36mAlertsTipster\u001b[0m\n",
       "defined \u001b[32mobject \u001b[36mAlertsTipster\u001b[0m"
      ]
     },
     "metadata": {},
     "output_type": "display_data"
    }
   ],
   "source": [
    "import ch.ethz.dal.tinyir.util.StopWatch\n",
    "import ch.ethz.dal.tinyir.io.TipsterStream\n",
    "import ch.ethz.dal.tinyir.lectures.TipsterGroundTruth\n",
    "import ch.ethz.dal.tinyir.lectures.PrecisionRecall\n",
    "\n",
    "class AlertsTipster(q: String, n: Int) extends Alerts(q,n) \n",
    "\n",
    "object AlertsTipster {\n",
    "  \n",
    "  def main(args: Array[String]) {  \n",
    "    val query = \"Airbus Subsidies\"\n",
    "    val num = 100\n",
    "    val alerts = new AlertsTipster(query,num)    \n",
    "    val tipster = new TipsterStream(\"/resources\")\n",
    "    \n",
    "    val sw = new StopWatch; sw.start\n",
    "    var iter = 0\n",
    "    for (doc <- tipster.stream) {\n",
    "      iter += 1\n",
    "      alerts.process(doc.name, doc.tokens)\n",
    "      if (iter % 20000 ==0) {\n",
    "        println(\"Iteration = \" + iter)\n",
    "        alerts.results.foreach(println)    \n",
    "      }  \n",
    "    }\n",
    "    sw.stop\n",
    "    println(\"Stopped time = \" + sw.stopped)\n",
    "    alerts.results.take(5).foreach(println)  \n",
    "    \n",
    "    val rel = new TipsterGroundTruth(\"relevance-judgements.csv\").judgements.get(\"51\").get.toSet\n",
    "    val ret = alerts.results.map(r => r.title)\n",
    "    val pr = new PrecisionRecall(ret,rel)\n",
    "    println(pr.relevIdx.mkString(\" \"))\n",
    "    println(pr.precs.mkString(\" \"))\n",
    "    println(pr.iprecs.mkString(\" \"))\n",
    "   \n",
    "  }\n",
    "  \n",
    "}"
   ]
  },
  {
   "cell_type": "code",
   "execution_count": 49,
   "metadata": {
    "collapsed": false
   },
   "outputs": [
    {
     "data": {
      "text/plain": [
       "\u001b[36malert1\u001b[0m: \u001b[32mAlertsTipster\u001b[0m = cmd47$$user$AlertsTipster@4d579579"
      ]
     },
     "metadata": {},
     "output_type": "display_data"
    }
   ],
   "source": [
    "val alert1 = new AlertsTipster(\"I love scala\",100)\n"
   ]
  },
  {
   "cell_type": "code",
   "execution_count": 50,
   "metadata": {
    "collapsed": false
   },
   "outputs": [
    {
     "data": {
      "text/plain": [
       "\u001b[36mres49\u001b[0m: \u001b[32mQuery\u001b[0m = ch.ethz.dal.tinyir.alerts.Query@a5779f"
      ]
     },
     "metadata": {},
     "output_type": "display_data"
    }
   ],
   "source": [
    "alert1.query "
   ]
  },
  {
   "cell_type": "code",
   "execution_count": null,
   "metadata": {
    "collapsed": true
   },
   "outputs": [],
   "source": []
  }
 ],
 "metadata": {
  "anaconda-cloud": {},
  "kernelspec": {
   "display_name": "Scala 2.11",
   "language": "scala211",
   "name": "scala211"
  },
  "language_info": {
   "codemirror_mode": "text/x-scala",
   "file_extension": ".scala",
   "mimetype": "text/x-scala",
   "name": "scala211",
   "pygments_lexer": "scala",
   "version": "2.11.8"
  }
 },
 "nbformat": 4,
 "nbformat_minor": 1
}
